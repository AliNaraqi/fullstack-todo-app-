{
 "cells": [
  {
   "cell_type": "code",
   "execution_count": 1,
   "id": "6e50e6c4",
   "metadata": {},
   "outputs": [
    {
     "name": "stdout",
     "output_type": "stream",
     "text": [
      "/usr/local/bin/brew\n"
     ]
    }
   ],
   "source": [
    "# Fix PATH to include brew location\n",
    "import os\n",
    "os.environ[\"PATH\"] = \"/usr/local/bin:\" + os.environ.get(\"PATH\", \"\")\n",
    "!which brew"
   ]
  },
  {
   "cell_type": "code",
   "execution_count": 2,
   "id": "bd51818d",
   "metadata": {},
   "outputs": [
    {
     "name": "stdout",
     "output_type": "stream",
     "text": [
      "\u001b[33mWarning:\u001b[0m postgresql@15 15.14 is already installed and up-to-date.\n",
      "To reinstall 15.14, run:\n",
      "  brew reinstall postgresql@15\n"
     ]
    }
   ],
   "source": [
    "!brew install postgresql@15"
   ]
  },
  {
   "cell_type": "code",
   "execution_count": 3,
   "id": "763afe51",
   "metadata": {},
   "outputs": [
    {
     "name": "stdout",
     "output_type": "stream",
     "text": [
      "Service `postgresql@15` already started, use `brew services restart postgresql@15` to restart.\n"
     ]
    }
   ],
   "source": [
    "!brew services start postgresql@15"
   ]
  },
  {
   "cell_type": "code",
   "execution_count": 4,
   "id": "2efc65c5",
   "metadata": {},
   "outputs": [
    {
     "name": "stdout",
     "output_type": "stream",
     "text": [
      "psql (PostgreSQL) 14.19 (Homebrew)\n"
     ]
    }
   ],
   "source": [
    "!psql --version"
   ]
  },
  {
   "cell_type": "code",
   "execution_count": 5,
   "id": "ff6af692",
   "metadata": {},
   "outputs": [
    {
     "name": "stdout",
     "output_type": "stream",
     "text": [
      "Ali                645   0.0  0.0 34386920   1440   ??  Ss    7:54AM   0:00.00 postgres: logical replication launcher   \n",
      "Ali                644   0.0  0.0 34386920   1692   ??  Ss    7:54AM   0:00.05 postgres: autovacuum launcher   \n",
      "Ali                643   0.0  0.0 34385704    908   ??  Ss    7:54AM   0:00.03 postgres: walwriter   \n",
      "Ali                641   0.0  0.0 34385704   1552   ??  Ss    7:54AM   0:00.04 postgres: background writer   \n",
      "Ali                640   0.0  0.0 34385704   2496   ??  Ss    7:54AM   0:00.01 postgres: checkpointer   \n"
     ]
    }
   ],
   "source": [
    "!ps aux | grep postgres | head -5"
   ]
  },
  {
   "cell_type": "code",
   "execution_count": 6,
   "id": "e594057e",
   "metadata": {},
   "outputs": [
    {
     "name": "stdout",
     "output_type": "stream",
     "text": [
      "                                                            version                                                             \n",
      "--------------------------------------------------------------------------------------------------------------------------------\n",
      " PostgreSQL 15.14 (Homebrew) on x86_64-apple-darwin21.6.0, compiled by Apple clang version 14.0.0 (clang-1400.0.29.202), 64-bit\n",
      "(1 row)\n",
      "\n"
     ]
    }
   ],
   "source": [
    "!psql postgres -c \"SELECT version();\""
   ]
  },
  {
   "cell_type": "code",
   "execution_count": 7,
   "id": "f667f40d",
   "metadata": {},
   "outputs": [
    {
     "name": "stdout",
     "output_type": "stream",
     "text": [
      "createdb: error: database creation failed: ERROR:  database \"mydatabase\" already exists\n"
     ]
    }
   ],
   "source": [
    "!createdb mydatabase"
   ]
  },
  {
   "cell_type": "code",
   "execution_count": 8,
   "id": "ab472331",
   "metadata": {},
   "outputs": [
    {
     "name": "stdout",
     "output_type": "stream",
     "text": [
      "ERROR:  role \"user12\" already exists\n"
     ]
    }
   ],
   "source": [
    "!psql mydatabase -c \"CREATE USER user12 WITH PASSWORD 'pass12';\""
   ]
  },
  {
   "cell_type": "code",
   "execution_count": 9,
   "id": "ff561488",
   "metadata": {},
   "outputs": [
    {
     "name": "stdout",
     "output_type": "stream",
     "text": [
      "GRANT\n"
     ]
    }
   ],
   "source": [
    "!psql mydatabase -c \"GRANT ALL ON SCHEMA public TO user12;\""
   ]
  },
  {
   "cell_type": "code",
   "execution_count": 10,
   "id": "347f5950",
   "metadata": {},
   "outputs": [
    {
     "name": "stdout",
     "output_type": "stream",
     "text": [
      " current_user | current_database \n",
      "--------------+------------------\n",
      " user12       | mydatabase\n",
      "(1 row)\n",
      "\n"
     ]
    }
   ],
   "source": [
    "!PGPASSWORD=pass12 psql -U user12 -h localhost -d mydatabase -c \"SELECT current_user, current_database();\""
   ]
  },
  {
   "cell_type": "code",
   "execution_count": 11,
   "id": "cf1ecc02",
   "metadata": {},
   "outputs": [
    {
     "name": "stdout",
     "output_type": "stream",
     "text": [
      "                           List of databases\n",
      "     Name     | Owner  | Encoding | Collate | Ctype | Access privileges \n",
      "--------------+--------+----------+---------+-------+-------------------\n",
      " mydatabase   | Ali    | UTF8     | en_US   | en_US | =Tc/Ali          +\n",
      "              |        |          |         |       | Ali=CTc/Ali      +\n",
      "              |        |          |         |       | user12=CTc/Ali\n",
      " postgres     | Ali    | UTF8     | en_US   | en_US | \n",
      " template0    | Ali    | UTF8     | en_US   | en_US | =c/Ali           +\n",
      "              |        |          |         |       | Ali=CTc/Ali\n",
      " template1    | Ali    | UTF8     | en_US   | en_US | =c/Ali           +\n",
      "              |        |          |         |       | Ali=CTc/Ali\n",
      " your_db_name | user12 | UTF8     | en_US   | en_US | \n",
      "(5 rows)\n",
      "\n"
     ]
    }
   ],
   "source": [
    "# List all databases on our PostgreSQL server\n",
    "!PGPASSWORD=pass12 psql -U user12 -h localhost -d mydatabase -c \"\\l\""
   ]
  },
  {
   "cell_type": "code",
   "execution_count": 12,
   "id": "5dc0852e",
   "metadata": {},
   "outputs": [
    {
     "name": "stdout",
     "output_type": "stream",
     "text": [
      "             List of relations\n",
      " Schema |      Name       | Type  | Owner  \n",
      "--------+-----------------+-------+--------\n",
      " public | alembic_version | table | user12\n",
      " public | pdfs            | table | user12\n",
      " public | todos           | table | user12\n",
      "(3 rows)\n",
      "\n"
     ]
    }
   ],
   "source": [
    "# List all tables (should be empty for now)\n",
    "!PGPASSWORD=pass12 psql -U user12 -h localhost -d mydatabase -c \"\\dt\""
   ]
  },
  {
   "cell_type": "code",
   "execution_count": 13,
   "id": "9c2c8abd",
   "metadata": {},
   "outputs": [
    {
     "name": "stdout",
     "output_type": "stream",
     "text": [
      "Creating table...\n",
      "CREATE TABLE test_todos (id SERIAL PRIMARY KEY, name TEXT NOT NULL, completed BOOLEAN DEFAULT FALSE);\n",
      "\n",
      "Executing...\n",
      "CREATE TABLE\n"
     ]
    }
   ],
   "source": [
    "# Create table using string concatenation method\n",
    "sql_command = \"CREATE TABLE test_todos (\" + \\\n",
    "              \"id SERIAL PRIMARY KEY, \" + \\\n",
    "              \"name TEXT NOT NULL, \" + \\\n",
    "              \"completed BOOLEAN DEFAULT FALSE);\"\n",
    "\n",
    "print(\"Creating table...\")\n",
    "print(sql_command)\n",
    "print(\"\\nExecuting...\")\n",
    "!PGPASSWORD=pass12 psql -U user12 -h localhost -d mydatabase -c \"$sql_command\""
   ]
  },
  {
   "cell_type": "code",
   "execution_count": 14,
   "id": "c088270c",
   "metadata": {},
   "outputs": [
    {
     "name": "stdout",
     "output_type": "stream",
     "text": [
      "SQL Command:\n",
      "\n",
      "INSERT INTO test_todos (name, completed) VALUES \n",
      "('Buy groceries', false),\n",
      "('Walk the dog', true),\n",
      "('Learn PostgreSQL', false);\n",
      "\n",
      "\n",
      "Executing...\n",
      "INSERT 0 3\n"
     ]
    }
   ],
   "source": [
    "# Add some test data using triple quotes\n",
    "sql_command = \"\"\"\n",
    "INSERT INTO test_todos (name, completed) VALUES \n",
    "('Buy groceries', false),\n",
    "('Walk the dog', true),\n",
    "('Learn PostgreSQL', false);\n",
    "\"\"\"\n",
    "\n",
    "print(\"SQL Command:\")\n",
    "print(sql_command)\n",
    "print(\"\\nExecuting...\")\n",
    "!PGPASSWORD=pass12 psql -U user12 -h localhost -d mydatabase -c \"$sql_command\""
   ]
  },
  {
   "cell_type": "code",
   "execution_count": 15,
   "id": "c4901a6f",
   "metadata": {},
   "outputs": [
    {
     "name": "stdout",
     "output_type": "stream",
     "text": [
      "SQL Command:\n",
      "INSERT INTO test_todos (name, completed) VALUES ('Buy groceries', false), ('Walk the dog', true), ('Learn PostgreSQL', false);\n",
      "\n",
      "Executing...\n",
      "INSERT 0 3\n"
     ]
    }
   ],
   "source": [
    "sql_command = \"INSERT INTO test_todos (name, completed) VALUES \" + \\\n",
    "              \"('Buy groceries', false), \" + \\\n",
    "              \"('Walk the dog', true), \" + \\\n",
    "              \"('Learn PostgreSQL', false);\"\n",
    "\n",
    "print(\"SQL Command:\")\n",
    "print(sql_command)\n",
    "print(\"\\nExecuting...\")\n",
    "!PGPASSWORD=pass12 psql -U user12 -h localhost -d mydatabase -c \"$sql_command\"\n"
   ]
  },
  {
   "cell_type": "code",
   "execution_count": 16,
   "id": "7243731a",
   "metadata": {},
   "outputs": [
    {
     "name": "stdout",
     "output_type": "stream",
     "text": [
      " id |       name       | completed \n",
      "----+------------------+-----------\n",
      "  1 | Buy groceries    | f\n",
      "  2 | Walk the dog     | t\n",
      "  3 | Learn PostgreSQL | f\n",
      "  4 | Buy groceries    | f\n",
      "  5 | Walk the dog     | t\n",
      "  6 | Learn PostgreSQL | f\n",
      "(6 rows)\n",
      "\n"
     ]
    }
   ],
   "source": [
    "# Show all data in our test table\n",
    "!PGPASSWORD=pass12 psql -U user12 -h localhost -d mydatabase -c \"SELECT * FROM test_todos;\"\n"
   ]
  },
  {
   "cell_type": "code",
   "execution_count": 17,
   "id": "f0419b3e",
   "metadata": {},
   "outputs": [
    {
     "name": "stdout",
     "output_type": "stream",
     "text": [
      " id |       name       | completed \n",
      "----+------------------+-----------\n",
      "  1 | Buy groceries    | f\n",
      "  3 | Learn PostgreSQL | f\n",
      "  4 | Buy groceries    | f\n",
      "  6 | Learn PostgreSQL | f\n",
      "(4 rows)\n",
      "\n"
     ]
    }
   ],
   "source": [
    "# Show only incomplete todos\n",
    "!PGPASSWORD=pass12 psql -U user12 -h localhost -d mydatabase -c \"SELECT * FROM test_todos WHERE completed = false;\""
   ]
  },
  {
   "cell_type": "code",
   "execution_count": 18,
   "id": "00a85a3a",
   "metadata": {},
   "outputs": [
    {
     "name": "stdout",
     "output_type": "stream",
     "text": [
      "UPDATE 2\n"
     ]
    }
   ],
   "source": [
    "# Mark \"Learn PostgreSQL\" as completed\n",
    "!PGPASSWORD=pass12 psql -U user12 -h localhost -d mydatabase -c \"UPDATE test_todos SET completed = true WHERE name = 'Learn PostgreSQL';\""
   ]
  },
  {
   "cell_type": "code",
   "execution_count": 19,
   "id": "3a92ab61",
   "metadata": {},
   "outputs": [
    {
     "name": "stdout",
     "output_type": "stream",
     "text": [
      " id |       name       | completed \n",
      "----+------------------+-----------\n",
      "  1 | Buy groceries    | f\n",
      "  2 | Walk the dog     | t\n",
      "  4 | Buy groceries    | f\n",
      "  5 | Walk the dog     | t\n",
      "  3 | Learn PostgreSQL | t\n",
      "  6 | Learn PostgreSQL | t\n",
      "(6 rows)\n",
      "\n"
     ]
    }
   ],
   "source": [
    "# Check that it was updated\n",
    "!PGPASSWORD=pass12 psql -U user12 -h localhost -d mydatabase -c \"SELECT * FROM test_todos;\""
   ]
  },
  {
   "cell_type": "code",
   "execution_count": 20,
   "id": "00820808",
   "metadata": {},
   "outputs": [
    {
     "name": "stdout",
     "output_type": "stream",
     "text": [
      "DELETE 2\n"
     ]
    }
   ],
   "source": [
    "# Delete a specific todo\n",
    "!PGPASSWORD=pass12 psql -U user12 -h localhost -d mydatabase -c \"DELETE FROM test_todos WHERE name = 'Walk the dog';\""
   ]
  },
  {
   "cell_type": "code",
   "execution_count": 21,
   "id": "4d7433a5",
   "metadata": {},
   "outputs": [
    {
     "name": "stdout",
     "output_type": "stream",
     "text": [
      " id |       name       | completed \n",
      "----+------------------+-----------\n",
      "  1 | Buy groceries    | f\n",
      "  4 | Buy groceries    | f\n",
      "  3 | Learn PostgreSQL | t\n",
      "  6 | Learn PostgreSQL | t\n",
      "(4 rows)\n",
      "\n"
     ]
    }
   ],
   "source": [
    "# Check what's left\n",
    "!PGPASSWORD=pass12 psql -U user12 -h localhost -d mydatabase -c \"SELECT * FROM test_todos;\""
   ]
  },
  {
   "cell_type": "code",
   "execution_count": 22,
   "id": "89c7c483",
   "metadata": {},
   "outputs": [
    {
     "name": "stdout",
     "output_type": "stream",
     "text": [
      "DROP TABLE\n"
     ]
    }
   ],
   "source": [
    "# Remove the test table\n",
    "!PGPASSWORD=pass12 psql -U user12 -h localhost -d mydatabase -c \"DROP TABLE test_todos;\""
   ]
  },
  {
   "cell_type": "code",
   "execution_count": 23,
   "id": "65d4e230",
   "metadata": {},
   "outputs": [
    {
     "name": "stdout",
     "output_type": "stream",
     "text": [
      " current_database | current_user \n",
      "------------------+--------------\n",
      " mydatabase       | user12\n",
      "(1 row)\n",
      "\n"
     ]
    }
   ],
   "source": [
    "# Check that our database exists\n",
    "!PGPASSWORD=pass12 psql -U user12 -h localhost -d mydatabase -c \"SELECT current_database(), current_user;\""
   ]
  },
  {
   "cell_type": "code",
   "execution_count": 24,
   "id": "589cefab",
   "metadata": {},
   "outputs": [
    {
     "name": "stdout",
     "output_type": "stream",
     "text": [
      "\n",
      "Required environment variables for our todo app:\n",
      "\n",
      "DATABASE_HOST=localhost\n",
      "DATABASE_NAME=mydatabase\n",
      "DATABASE_USER=user12\n",
      "DATABASE_PASSWORD=pass12\n",
      "DATABASE_PORT=5432\n",
      "APP_NAME=\"Full Stack To Do App\"\n",
      "\n"
     ]
    }
   ],
   "source": [
    "# This is what should be in our FastAPI backend .env file\n",
    "print(\"\"\"\n",
    "Required environment variables for our todo app:\n",
    "\n",
    "DATABASE_HOST=localhost\n",
    "DATABASE_NAME=mydatabase\n",
    "DATABASE_USER=user12\n",
    "DATABASE_PASSWORD=pass12\n",
    "DATABASE_PORT=5432\n",
    "APP_NAME=\"Full Stack To Do App\"\n",
    "\"\"\")"
   ]
  },
  {
   "cell_type": "code",
   "execution_count": 25,
   "id": "57b881bf",
   "metadata": {},
   "outputs": [
    {
     "name": "stdout",
     "output_type": "stream",
     "text": [
      "         status         |                                                            version                                                             \n",
      "------------------------+--------------------------------------------------------------------------------------------------------------------------------\n",
      " Connection successful! | PostgreSQL 15.14 (Homebrew) on x86_64-apple-darwin21.6.0, compiled by Apple clang version 14.0.0 (clang-1400.0.29.202), 64-bit\n",
      "(1 row)\n",
      "\n"
     ]
    }
   ],
   "source": [
    "# Test connection with the exact same parameters our app will use\n",
    "!PGPASSWORD=pass12 psql -U user12 -h localhost -p 5432 -d mydatabase -c \"SELECT 'Connection successful!' as status, version();\""
   ]
  },
  {
   "cell_type": "code",
   "execution_count": 26,
   "id": "1fc4f478",
   "metadata": {},
   "outputs": [
    {
     "name": "stdout",
     "output_type": "stream",
     "text": [
      "CREATE TABLE\n"
     ]
    }
   ],
   "source": [
    "# Test that our user can create tables\n",
    "sql_command = \"\"\"\n",
    "CREATE TABLE permission_test (\n",
    "    id SERIAL PRIMARY KEY,\n",
    "    test_message TEXT\n",
    ");\n",
    "\"\"\"\n",
    "\n",
    "!PGPASSWORD=pass12 psql -U user12 -h localhost -d mydatabase -c \"$sql_command\""
   ]
  },
  {
   "cell_type": "code",
   "execution_count": 27,
   "id": "f35f8650",
   "metadata": {},
   "outputs": [
    {
     "name": "stdout",
     "output_type": "stream",
     "text": [
      "INSERT 0 1\n"
     ]
    }
   ],
   "source": [
    "# Test that our user can insert data\n",
    "!PGPASSWORD=pass12 psql -U user12 -h localhost -d mydatabase -c \"INSERT INTO permission_test (test_message) VALUES ('Permissions working!');\""
   ]
  },
  {
   "cell_type": "code",
   "execution_count": 28,
   "id": "e7a0403a",
   "metadata": {},
   "outputs": [
    {
     "name": "stdout",
     "output_type": "stream",
     "text": [
      " id |     test_message     \n",
      "----+----------------------\n",
      "  1 | Permissions working!\n",
      "(1 row)\n",
      "\n"
     ]
    }
   ],
   "source": [
    "# Test that our user can read data\n",
    "!PGPASSWORD=pass12 psql -U user12 -h localhost -d mydatabase -c \"SELECT * FROM permission_test;\""
   ]
  },
  {
   "cell_type": "code",
   "execution_count": 29,
   "id": "3d11bf2f",
   "metadata": {},
   "outputs": [
    {
     "name": "stdout",
     "output_type": "stream",
     "text": [
      "DROP TABLE\n"
     ]
    }
   ],
   "source": [
    "# Clean up our test table\n",
    "!PGPASSWORD=pass12 psql -U user12 -h localhost -d mydatabase -c \"DROP TABLE permission_test;\""
   ]
  },
  {
   "cell_type": "code",
   "execution_count": 30,
   "id": "15edbf81",
   "metadata": {},
   "outputs": [
    {
     "name": "stdout",
     "output_type": "stream",
     "text": [
      "Database setup summary:\n",
      "\n",
      "SELECT \n",
      "'Database: ' || current_database() as info\n",
      "UNION ALL\n",
      "SELECT \n",
      "'User: ' || current_user\n",
      "UNION ALL\n",
      "SELECT \n",
      "'Connection: Successful'\n",
      "UNION ALL\n",
      "SELECT \n",
      "'Ready for todo app: YES!';\n",
      "\n",
      "\n",
      "Executing...\n",
      "           info           \n",
      "--------------------------\n",
      " Database: mydatabase\n",
      " User: user12\n",
      " Connection: Successful\n",
      " Ready for todo app: YES!\n",
      "(4 rows)\n",
      "\n"
     ]
    }
   ],
   "source": [
    "# Show our database and user setup\n",
    "sql_command = \"\"\"\n",
    "SELECT \n",
    "'Database: ' || current_database() as info\n",
    "UNION ALL\n",
    "SELECT \n",
    "'User: ' || current_user\n",
    "UNION ALL\n",
    "SELECT \n",
    "'Connection: Successful'\n",
    "UNION ALL\n",
    "SELECT \n",
    "'Ready for todo app: YES!';\n",
    "\"\"\"\n",
    "\n",
    "print(\"Database setup summary:\")\n",
    "print(sql_command)\n",
    "print(\"\\nExecuting...\")\n",
    "!PGPASSWORD=pass12 psql -U user12 -h localhost -d mydatabase -c \"$sql_command\""
   ]
  },
  {
   "cell_type": "code",
   "execution_count": 31,
   "id": "87395fa9",
   "metadata": {},
   "outputs": [
    {
     "name": "stdout",
     "output_type": "stream",
     "text": [
      "ERROR:  relation \"todos\" already exists\n"
     ]
    }
   ],
   "source": [
    "# Create the exact todos table structure our app expects\n",
    "sql_command=\"\"\"\n",
    "CREATE TABLE todos (\n",
    "    id BIGSERIAL PRIMARY KEY,\n",
    "    name TEXT,\n",
    "    completed BOOLEAN NOT NULL DEFAULT FALSE\n",
    ");\n",
    "\"\"\"\n",
    "\n",
    "\n",
    "!PGPASSWORD=pass12 psql -U user12 -h localhost -d mydatabase -c \"$sql_command\""
   ]
  },
  {
   "cell_type": "code",
   "execution_count": 32,
   "id": "dd55a861",
   "metadata": {},
   "outputs": [
    {
     "name": "stdout",
     "output_type": "stream",
     "text": [
      "INSERT 0 4\n"
     ]
    }
   ],
   "source": [
    "sql_command = \"\"\"\n",
    "INSERT INTO todos (name, completed) VALUES \n",
    "('Buy groceries', false),\n",
    "('Walk the dog', false),\n",
    "('Finish PostgreSQL setup', true),\n",
    "('Learn FastAPI', false);\n",
    "\"\"\"\n",
    "\n",
    "!PGPASSWORD=pass12 psql -U user12 -h localhost -d mydatabase -c \"$sql_command\"\n"
   ]
  },
  {
   "cell_type": "code",
   "execution_count": 33,
   "id": "db22668f",
   "metadata": {},
   "outputs": [
    {
     "name": "stdout",
     "output_type": "stream",
     "text": [
      " id |          name           | completed \n",
      "----+-------------------------+-----------\n",
      "  3 | Buy groceries           | f\n",
      "  4 | Walk the dog            | f\n",
      "  5 | Finish PostgreSQL setup | t\n",
      "  6 | Learn FastAPI           | f\n",
      "(4 rows)\n",
      "\n"
     ]
    }
   ],
   "source": [
    "# SELECT: Read all todos (READ operation)\n",
    "!PGPASSWORD=pass12 psql -U user12 -h localhost -d mydatabase -c \"SELECT * FROM todos ORDER BY id;\""
   ]
  },
  {
   "cell_type": "code",
   "execution_count": 34,
   "id": "27a886d0",
   "metadata": {},
   "outputs": [
    {
     "name": "stdout",
     "output_type": "stream",
     "text": [
      " id |     name      | completed \n",
      "----+---------------+-----------\n",
      "  3 | Buy groceries | f\n",
      "  4 | Walk the dog  | f\n",
      "  6 | Learn FastAPI | f\n",
      "(3 rows)\n",
      "\n"
     ]
    }
   ],
   "source": [
    "# SELECT with filter: Get only incomplete todos\n",
    "!PGPASSWORD=pass12 psql -U user12 -h localhost -d mydatabase -c \"SELECT * FROM todos WHERE completed = false;\""
   ]
  },
  {
   "cell_type": "code",
   "execution_count": 35,
   "id": "802e58cb",
   "metadata": {},
   "outputs": [
    {
     "name": "stdout",
     "output_type": "stream",
     "text": [
      "UPDATE 1\n"
     ]
    }
   ],
   "source": [
    "# UPDATE: Mark a todo as completed (UPDATE operation)\n",
    "!PGPASSWORD=pass12 psql -U user12 -h localhost -d mydatabase -c \"UPDATE todos SET completed = true WHERE name = 'Buy groceries';\""
   ]
  },
  {
   "cell_type": "code",
   "execution_count": 36,
   "id": "85ed1553",
   "metadata": {},
   "outputs": [
    {
     "name": "stdout",
     "output_type": "stream",
     "text": [
      " id |     name      | completed \n",
      "----+---------------+-----------\n",
      "  3 | Buy groceries | t\n",
      "(1 row)\n",
      "\n"
     ]
    }
   ],
   "source": [
    "# Verify the update worked\n",
    "!PGPASSWORD=pass12 psql -U user12 -h localhost -d mydatabase -c \"SELECT * FROM todos WHERE name = 'Buy groceries';\""
   ]
  },
  {
   "cell_type": "code",
   "execution_count": 37,
   "id": "7990cdbf",
   "metadata": {},
   "outputs": [
    {
     "name": "stdout",
     "output_type": "stream",
     "text": [
      "DELETE 1\n"
     ]
    }
   ],
   "source": [
    "# DELETE: Remove a todo (DELETE operation)\n",
    "!PGPASSWORD=pass12 psql -U user12 -h localhost -d mydatabase -c \"DELETE FROM todos WHERE name = 'Walk the dog';\""
   ]
  },
  {
   "cell_type": "code",
   "execution_count": 38,
   "id": "c0a29ad8",
   "metadata": {},
   "outputs": [
    {
     "name": "stdout",
     "output_type": "stream",
     "text": [
      " id |          name           | completed \n",
      "----+-------------------------+-----------\n",
      "  3 | Buy groceries           | t\n",
      "  5 | Finish PostgreSQL setup | t\n",
      "  6 | Learn FastAPI           | f\n",
      "(3 rows)\n",
      "\n"
     ]
    }
   ],
   "source": [
    "# Verify the deletion worked\n",
    "!PGPASSWORD=pass12 psql -U user12 -h localhost -d mydatabase -c \"SELECT * FROM todos ORDER BY id;\""
   ]
  },
  {
   "cell_type": "code",
   "execution_count": 39,
   "id": "ce042898",
   "metadata": {},
   "outputs": [
    {
     "name": "stdout",
     "output_type": "stream",
     "text": [
      " total_todos | completed_todos | pending_todos \n",
      "-------------+-----------------+---------------\n",
      "           3 |               2 |             1\n",
      "(1 row)\n",
      "\n"
     ]
    }
   ],
   "source": [
    "# Count total todos and completed todos\n",
    "sql_command = \"\"\"\n",
    "SELECT \n",
    "    COUNT(*) as total_todos,\n",
    "    COUNT(CASE WHEN completed = true THEN 1 END) as completed_todos,\n",
    "    COUNT(CASE WHEN completed = false THEN 1 END) as pending_todos\n",
    "FROM todos;\n",
    "\"\"\"\n",
    "\n",
    "!PGPASSWORD=pass12 psql -U user12 -h localhost -d mydatabase -c \"$sql_command\""
   ]
  },
  {
   "cell_type": "code",
   "execution_count": 40,
   "id": "5450380d",
   "metadata": {},
   "outputs": [
    {
     "name": "stdout",
     "output_type": "stream",
     "text": [
      " id |     name      | completed \n",
      "----+---------------+-----------\n",
      "  6 | Learn FastAPI | f\n",
      "(1 row)\n",
      "\n"
     ]
    }
   ],
   "source": [
    "# Get the newest todo (highest ID)\n",
    "!PGPASSWORD=pass12 psql -U user12 -h localhost -d mydatabase -c \"SELECT * FROM todos ORDER BY id DESC LIMIT 1;\""
   ]
  },
  {
   "cell_type": "code",
   "execution_count": 41,
   "id": "3d017009",
   "metadata": {},
   "outputs": [
    {
     "name": "stdout",
     "output_type": "stream",
     "text": [
      "                              Table \"public.todos\"\n",
      "  Column   |  Type   | Collation | Nullable |              Default              \n",
      "-----------+---------+-----------+----------+-----------------------------------\n",
      " id        | bigint  |           | not null | nextval('todos_id_seq'::regclass)\n",
      " name      | text    |           |          | \n",
      " completed | boolean |           | not null | false\n",
      "Indexes:\n",
      "    \"todos_pkey\" PRIMARY KEY, btree (id)\n",
      "\n"
     ]
    }
   ],
   "source": [
    "# Show the structure of our todos table\n",
    "!PGPASSWORD=pass12 psql -U user12 -h localhost -d mydatabase -c \"\\d todos\""
   ]
  },
  {
   "cell_type": "code",
   "execution_count": 42,
   "id": "09343e84",
   "metadata": {},
   "outputs": [
    {
     "name": "stdout",
     "output_type": "stream",
     "text": [
      "INSERT 0 100\n"
     ]
    }
   ],
   "source": [
    "# Insert multiple todos to test performance\n",
    "sql_command = \"\"\"\n",
    "INSERT INTO todos (name, completed) \n",
    "SELECT \n",
    "    'Test todo ' || generate_series,\n",
    "    (random() > 0.5)\n",
    "FROM generate_series(1, 100);\n",
    "\"\"\"\n",
    "\n",
    "!PGPASSWORD=pass12 psql -U user12 -h localhost -d mydatabase -c \"$sql_command\""
   ]
  },
  {
   "cell_type": "code",
   "execution_count": 43,
   "id": "3b141bba",
   "metadata": {},
   "outputs": [
    {
     "name": "stdout",
     "output_type": "stream",
     "text": [
      " total_todos \n",
      "-------------\n",
      "         103\n",
      "(1 row)\n",
      "\n"
     ]
    }
   ],
   "source": [
    "# Count all todos (should be around 103 now)\n",
    "!PGPASSWORD=pass12 psql -U user12 -h localhost -d mydatabase -c \"SELECT COUNT(*) as total_todos FROM todos;\""
   ]
  },
  {
   "cell_type": "code",
   "execution_count": 44,
   "id": "cb239abe",
   "metadata": {},
   "outputs": [
    {
     "name": "stdout",
     "output_type": "stream",
     "text": [
      " count \n",
      "-------\n",
      "    50\n",
      "(1 row)\n",
      "\n"
     ]
    }
   ],
   "source": [
    "# Test a fast query with conditions\n",
    "!PGPASSWORD=pass12 psql -U user12 -h localhost -d mydatabase -c \"SELECT COUNT(*) FROM todos WHERE completed = true;\""
   ]
  },
  {
   "cell_type": "code",
   "execution_count": 45,
   "id": "61089716",
   "metadata": {},
   "outputs": [
    {
     "name": "stdout",
     "output_type": "stream",
     "text": [
      "DELETE 103\n"
     ]
    }
   ],
   "source": [
    "# Remove all test data (start fresh for our app)\n",
    "!PGPASSWORD=pass12 psql -U user12 -h localhost -d mydatabase -c \"DELETE FROM todos;\""
   ]
  },
  {
   "cell_type": "code",
   "execution_count": 46,
   "id": "1c2ba27d",
   "metadata": {},
   "outputs": [
    {
     "name": "stdout",
     "output_type": "stream",
     "text": [
      "ALTER SEQUENCE\n"
     ]
    }
   ],
   "source": [
    "# Reset the ID sequence to start from 1 again\n",
    "!PGPASSWORD=pass12 psql -U user12 -h localhost -d mydatabase -c \"ALTER SEQUENCE todos_id_seq RESTART WITH 1;\""
   ]
  },
  {
   "cell_type": "code",
   "execution_count": 47,
   "id": "eb7c176c",
   "metadata": {},
   "outputs": [
    {
     "name": "stdout",
     "output_type": "stream",
     "text": [
      " remaining_todos \n",
      "-----------------\n",
      "               0\n",
      "(1 row)\n",
      "\n"
     ]
    }
   ],
   "source": [
    "# Verify the table is empty and ready\n",
    "!PGPASSWORD=pass12 psql -U user12 -h localhost -d mydatabase -c \"SELECT COUNT(*) as remaining_todos FROM todos;\""
   ]
  },
  {
   "cell_type": "code",
   "execution_count": null,
   "id": "434aea79",
   "metadata": {},
   "outputs": [],
   "source": []
  }
 ],
 "metadata": {
  "kernelspec": {
   "display_name": "base",
   "language": "python",
   "name": "python3"
  },
  "language_info": {
   "codemirror_mode": {
    "name": "ipython",
    "version": 3
   },
   "file_extension": ".py",
   "mimetype": "text/x-python",
   "name": "python",
   "nbconvert_exporter": "python",
   "pygments_lexer": "ipython3",
   "version": "3.13.5"
  }
 },
 "nbformat": 4,
 "nbformat_minor": 5
}
