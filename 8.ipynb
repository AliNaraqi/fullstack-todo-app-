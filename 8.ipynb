{
 "cells": [
  {
   "cell_type": "code",
   "execution_count": 1,
   "id": "b120e632",
   "metadata": {},
   "outputs": [
    {
     "name": "stdout",
     "output_type": "stream",
     "text": [
      "/Users/apple/Downloads/My Files/My File/CRUD4/1019-pdf-app-fastapi-vercel-fullstack-master/002-pdf-vercel-frontend\n"
     ]
    }
   ],
   "source": [
    "# Navigate to your project's frontend directory\n",
    "# Replace 'your-project-path' with the actual path to your project\n",
    "%cd \"/Users/apple/Downloads/My Files/My File/CRUD4/1019-pdf-app-fastapi-vercel-fullstack-master/002-pdf-vercel-frontend\""
   ]
  },
  {
   "cell_type": "code",
   "execution_count": 2,
   "id": "955ef788",
   "metadata": {},
   "outputs": [
    {
     "name": "stdout",
     "output_type": "stream",
     "text": [
      "\u001b[1G\u001b[0K⠙\u001b[1G\u001b[0K⠹\u001b[1G\u001b[0K⠸\u001b[1G\u001b[0K⠼\u001b[1G\u001b[0K⠴\u001b[1G\u001b[0K⠦\u001b[1G\u001b[0K⠧\u001b[1G\u001b[0K⠇\u001b[1G\u001b[0K⠏\u001b[1G\u001b[0K⠋\u001b[1G\u001b[0KThe directory \u001b[32mtodo-app\u001b[39m contains files that could conflict:\n",
      "\n",
      "  \u001b[34m.next\u001b[39m/\n",
      "  README.md\n",
      "  \u001b[34mapp\u001b[39m/\n",
      "  eslint.config.mjs\n",
      "  next-env.d.ts\n",
      "  next.config.ts\n",
      "  \u001b[34mnode_modules\u001b[39m/\n",
      "  package-lock.json\n",
      "  package.json\n",
      "  postcss.config.mjs\n",
      "  \u001b[34mpublic\u001b[39m/\n",
      "  tsconfig.json\n",
      "\n",
      "Either try using a new directory name, or remove the files listed above.\n",
      "\n",
      "\u001b[1G\u001b[0K⠙\u001b[1G\u001b[0K"
     ]
    }
   ],
   "source": [
    "# Create a new Next.js app (non-interactive)\n",
    "!/Users/apple/.nvm/versions/node/v22.20.0/bin/npx create-next-app@latest todo-app --yes\n",
    "\n",
    "# The --yes flag automatically answers \"yes\" to all prompts\n",
    "# This will create the app with default settings:\n",
    "# - No TypeScript\n",
    "# - ESLint enabled\n",
    "# - No Tailwind CSS\n",
    "# - No src/ directory\n",
    "# - Pages Router (not App Router)\n",
    "# - Default import alias"
   ]
  },
  {
   "cell_type": "code",
   "execution_count": 3,
   "id": "fdfddf40",
   "metadata": {},
   "outputs": [
    {
     "name": "stdout",
     "output_type": "stream",
     "text": [
      "PATH updated for session.\n",
      "which node: /Users/apple/.nvm/versions/node/v22.20.0/bin/node\n",
      "which npm: /Users/apple/.nvm/versions/node/v22.20.0/bin/npm\n",
      "which npx: /Users/apple/.nvm/versions/node/v22.20.0/bin/npx\n"
     ]
    }
   ],
   "source": [
    "# Configure PATH for this Jupyter session so CLI tools resolve\n",
    "import os, shutil\n",
    "nvm_node_bin = \"/Users/apple/.nvm/versions/node/v22.20.0/bin\"\n",
    "paths_to_prepend = [nvm_node_bin]\n",
    "os.environ[\"PATH\"] = \":\".join([p for p in paths_to_prepend if p]) + \":\" + os.environ.get(\"PATH\", \"\")\n",
    "print(\"PATH updated for session.\")\n",
    "print(\"which node:\", shutil.which(\"node\"))\n",
    "print(\"which npm:\", shutil.which(\"npm\"))\n",
    "print(\"which npx:\", shutil.which(\"npx\"))\n"
   ]
  },
  {
   "cell_type": "code",
   "execution_count": 4,
   "id": "684fa708",
   "metadata": {},
   "outputs": [
    {
     "name": "stdout",
     "output_type": "stream",
     "text": [
      "/Users/apple/Downloads/My Files/My File/CRUD4/1019-pdf-app-fastapi-vercel-fullstack-master/002-pdf-vercel-frontend/todo-app\n"
     ]
    }
   ],
   "source": [
    "# Navigate to the newly created todo-app directory\n",
    "%cd \"/Users/apple/Downloads/My Files/My File/CRUD4/1019-pdf-app-fastapi-vercel-fullstack-master/002-pdf-vercel-frontend/todo-app\"\n"
   ]
  },
  {
   "cell_type": "code",
   "execution_count": 5,
   "id": "6caaa21d",
   "metadata": {},
   "outputs": [
    {
     "name": "stdout",
     "output_type": "stream",
     "text": [
      "total 512\n",
      "drwxr-xr-x   16 Ali  staff     512 Oct 22 09:52 \u001b[34m.\u001b[m\u001b[m\n",
      "drwxrwxr-x@   8 Ali  staff     256 Oct 22 13:13 \u001b[34m..\u001b[m\u001b[m\n",
      "drwxr-xr-x   12 Ali  staff     384 Oct 22 09:52 \u001b[34m.git\u001b[m\u001b[m\n",
      "-rw-r--r--    1 Ali  staff     480 Oct 22 09:51 .gitignore\n",
      "drwxr-xr-x    4 Ali  staff     128 Oct 22 09:55 \u001b[34m.next\u001b[m\u001b[m\n",
      "-rw-r--r--    1 Ali  staff    1450 Oct 22 09:51 README.md\n",
      "drwxr-xr-x    6 Ali  staff     192 Oct 22 09:51 \u001b[34mapp\u001b[m\u001b[m\n",
      "-rw-r--r--    1 Ali  staff     465 Oct 22 09:51 eslint.config.mjs\n",
      "-rw-r--r--    1 Ali  staff     251 Oct 22 09:55 next-env.d.ts\n",
      "-rw-r--r--    1 Ali  staff     133 Oct 22 09:51 next.config.ts\n",
      "drwxr-xr-x  292 Ali  staff    9344 Oct 22 09:52 \u001b[34mnode_modules\u001b[m\u001b[m\n",
      "-rw-r--r--    1 Ali  staff  226929 Oct 22 09:52 package-lock.json\n",
      "-rw-r--r--    1 Ali  staff     530 Oct 22 09:51 package.json\n",
      "-rw-r--r--    1 Ali  staff      94 Oct 22 09:51 postcss.config.mjs\n",
      "drwxr-xr-x    7 Ali  staff     224 Oct 22 09:51 \u001b[34mpublic\u001b[m\u001b[m\n",
      "-rw-r--r--    1 Ali  staff     666 Oct 22 09:51 tsconfig.json\n"
     ]
    }
   ],
   "source": [
    "# Verify the installation and check the project structure\n",
    "!ls -la\n"
   ]
  },
  {
   "cell_type": "code",
   "execution_count": 6,
   "id": "10a2cb09",
   "metadata": {},
   "outputs": [
    {
     "name": "stdout",
     "output_type": "stream",
     "text": [
      "{\n",
      "  \"name\": \"todo-app\",\n",
      "  \"version\": \"0.1.0\",\n",
      "  \"private\": true,\n",
      "  \"scripts\": {\n",
      "    \"dev\": \"next dev\",\n",
      "    \"build\": \"next build\",\n",
      "    \"start\": \"next start\",\n",
      "    \"lint\": \"eslint\"\n",
      "  },\n",
      "  \"dependencies\": {\n",
      "    \"react\": \"19.2.0\",\n",
      "    \"react-dom\": \"19.2.0\",\n",
      "    \"next\": \"16.0.0\"\n",
      "  },\n",
      "  \"devDependencies\": {\n",
      "    \"typescript\": \"^5\",\n",
      "    \"@types/node\": \"^20\",\n",
      "    \"@types/react\": \"^19\",\n",
      "    \"@types/react-dom\": \"^19\",\n",
      "    \"@tailwindcss/postcss\": \"^4\",\n",
      "    \"tailwindcss\": \"^4\",\n",
      "    \"eslint\": \"^9\",\n",
      "    \"eslint-config-next\": \"16.0.0\"\n",
      "  }\n",
      "}\n"
     ]
    }
   ],
   "source": [
    "# Check package.json to see what was installed\n",
    "!cat package.json\n"
   ]
  },
  {
   "cell_type": "code",
   "execution_count": 7,
   "id": "1c77ffeb",
   "metadata": {},
   "outputs": [
    {
     "name": "stdout",
     "output_type": "stream",
     "text": [
      "\n",
      "> todo-app@0.1.0 dev\n",
      "> next dev\n",
      "\n",
      "\u001b[1G\u001b[0K \u001b[33m\u001b[1m⚠\u001b[22m\u001b[39m Port 3000 is in use by process 6436, using available port 3001 instead.\n",
      "   \u001b[1m\u001b[38;2;173;127;168m▲ Next.js 16.0.0\u001b[39m\u001b[22m (Turbopack)\n",
      "   - Local:        http://localhost:3001\n",
      "   - Network:      http://192.168.2.12:3001\n",
      "\n",
      " \u001b[32m\u001b[1m✓\u001b[22m\u001b[39m Starting...\n",
      " \u001b[32m\u001b[1m✓\u001b[22m\u001b[39m Ready in 2.1s\n",
      "^C\n"
     ]
    }
   ],
   "source": [
    "# Start the Next.js development server\n",
    "!npm run dev\n"
   ]
  },
  {
   "cell_type": "code",
   "execution_count": null,
   "id": "a729c8f4",
   "metadata": {},
   "outputs": [],
   "source": []
  }
 ],
 "metadata": {
  "kernelspec": {
   "display_name": "base",
   "language": "python",
   "name": "python3"
  },
  "language_info": {
   "codemirror_mode": {
    "name": "ipython",
    "version": 3
   },
   "file_extension": ".py",
   "mimetype": "text/x-python",
   "name": "python",
   "nbconvert_exporter": "python",
   "pygments_lexer": "ipython3",
   "version": "3.13.5"
  }
 },
 "nbformat": 4,
 "nbformat_minor": 5
}
