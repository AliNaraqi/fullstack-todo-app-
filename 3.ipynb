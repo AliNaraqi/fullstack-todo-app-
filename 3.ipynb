{
 "cells": [
  {
   "cell_type": "code",
   "execution_count": 1,
   "id": "25c088b9",
   "metadata": {},
   "outputs": [
    {
     "name": "stdout",
     "output_type": "stream",
     "text": [
      "Current directory: /Users/apple/Downloads/My Files/My File/CRUD4\n"
     ]
    }
   ],
   "source": [
    "import os\n",
    "print(f\"Current directory: {os.getcwd()}\")"
   ]
  },
  {
   "cell_type": "code",
   "execution_count": 2,
   "id": "36893d60",
   "metadata": {},
   "outputs": [
    {
     "name": "stdout",
     "output_type": "stream",
     "text": [
      "/Users/apple/Downloads/My Files/My File/CRUD4/1019-pdf-app-fastapi-vercel-fullstack-master/001-pdf-fastapi-backend\n"
     ]
    }
   ],
   "source": [
    "%cd /Users/apple/Downloads/My Files/My File/CRUD4/1019-pdf-app-fastapi-vercel-fullstack-master/001-pdf-fastapi-backend"
   ]
  },
  {
   "cell_type": "code",
   "execution_count": 3,
   "id": "a046ad3f",
   "metadata": {},
   "outputs": [
    {
     "name": "stdout",
     "output_type": "stream",
     "text": [
      "total 592\n",
      "drwxrwxr-x@ 21 Ali  staff     672 Oct 21 12:01 \u001b[34m.\u001b[m\u001b[m\n",
      "drwxrwxr-x@  5 Ali  staff     160 Mar 29  2024 \u001b[34m..\u001b[m\u001b[m\n",
      "-rw-rw-r--@  1 Ali  staff    6148 Mar 29  2024 .DS_Store\n",
      "-rw-r--r--   1 Ali  staff      75 Oct  6 11:12 .env\n",
      "-rw-rw-r--@  1 Ali  staff       4 Mar 29  2024 .gitignore\n",
      "drwxr-xr-x   9 Ali  staff     288 Oct  7 09:16 \u001b[34m.venv\u001b[m\u001b[m\n",
      "drwxrwxr-x@ 14 Ali  staff     448 Oct 22 08:26 \u001b[34m__pycache__\u001b[m\u001b[m\n",
      "drwxrwxr-x@  7 Ali  staff     224 Mar 29  2024 \u001b[34malembic\u001b[m\u001b[m\n",
      "-rw-rw-r--@  1 Ali  staff    3613 Mar 29  2024 alembic.ini\n",
      "-rw-rw-r--@  1 Ali  staff  224963 Mar 29  2024 allergic.pdf\n",
      "-rw-r--r--   1 Ali  staff     139 Oct  6 15:39 api.env\n",
      "-rw-rw-r--@  1 Ali  staff     651 Oct 22 08:07 config.py\n",
      "-rw-r--r--   1 Ali  staff     716 Oct  7 08:24 create_db.py\n",
      "-rw-rw-r--@  1 Ali  staff    3451 Oct 22 08:08 crud.py\n",
      "-rw-rw-r--@  1 Ali  staff    1161 Oct 22 08:08 database.py\n",
      "-rw-rw-r--@  1 Ali  staff    2338 Oct 22 08:08 main.py\n",
      "-rw-rw-r--@  1 Ali  staff     461 Oct 16 08:33 models.py\n",
      "-rw-rw-r--@  1 Ali  staff    3859 Oct  6 12:03 requirements.txt\n",
      "drwxrwxr-x@  5 Ali  staff     160 Oct  7 14:21 \u001b[34mrouters\u001b[m\u001b[m\n",
      "-rw-rw-r--@  1 Ali  staff     566 Oct 16 08:33 schemas.py\n",
      "-rw-r--r--   1 Ali  staff   20480 Oct 21 12:01 test.db\n"
     ]
    }
   ],
   "source": [
    "!ls -la"
   ]
  },
  {
   "cell_type": "code",
   "execution_count": 4,
   "id": "e4b34ad7",
   "metadata": {},
   "outputs": [
    {
     "name": "stdout",
     "output_type": "stream",
     "text": [
      "aiohttp==3.9.0\n",
      "aiosignal==1.3.1\n",
      "aiostream==0.5.2\n",
      "alembic==1.13.0\n",
      "annotated-types==0.6.0\n",
      "anyio==3.7.1\n",
      "appnope==0.1.3\n",
      "argon2-cffi==23.1.0\n",
      "argon2-cffi-bindings==21.2.0\n",
      "arrow==1.3.0\n",
      "asgiref==3.7.2\n",
      "asttokens==2.4.1\n",
      "async-lru==2.0.4\n",
      "attrs==23.1.0\n",
      "Babel==2.13.1\n",
      "backoff==2.2.1\n",
      "bcrypt==4.0.1\n",
      "beautifulsoup4==4.12.2\n",
      "bleach==6.1.0\n",
      "cachetools==5.3.2\n"
     ]
    }
   ],
   "source": [
    "# Let's see what packages we need to install\n",
    "!head -20 requirements.txt"
   ]
  },
  {
   "cell_type": "code",
   "execution_count": 5,
   "id": "32660a79",
   "metadata": {},
   "outputs": [],
   "source": [
    "#!pip install -r requirements.txt"
   ]
  },
  {
   "cell_type": "code",
   "execution_count": 6,
   "id": "c5b64141",
   "metadata": {},
   "outputs": [
    {
     "name": "stdout",
     "output_type": "stream",
     "text": [
      "Name: fastapi\n",
      "Version: 0.116.1\n",
      "Summary: FastAPI framework, high performance, easy to learn, fast to code, ready for production\n",
      "Home-page: https://github.com/fastapi/fastapi\n",
      "Author: \n",
      "Author-email: =?utf-8?q?Sebasti=C3=A1n_Ram=C3=ADrez?= <tiangolo@gmail.com>\n",
      "License: \n",
      "Location: /opt/anaconda3/lib/python3.13/site-packages\n",
      "Requires: pydantic, starlette, typing-extensions\n",
      "Required-by: chromadb, gradio\n",
      "---\n",
      "Name: uvicorn\n",
      "Version: 0.37.0\n",
      "Summary: The lightning-fast ASGI server.\n",
      "Home-page: https://uvicorn.dev/\n",
      "Author: \n",
      "Author-email: Tom Christie <tom@tomchristie.com>, Marcelo Trylesinski <marcelotryle@gmail.com>\n",
      "License-Expression: BSD-3-Clause\n",
      "Location: /opt/anaconda3/lib/python3.13/site-packages\n",
      "Requires: click, h11\n",
      "Required-by: chromadb, fastapi-cli, gradio\n",
      "---\n",
      "Name: SQLAlchemy\n",
      "Version: 2.0.39\n",
      "Summary: Database Abstraction Library\n",
      "Home-page: https://www.sqlalchemy.org\n",
      "Author: Mike Bayer\n",
      "Author-email: mike_mp@zzzcomputing.com\n",
      "License: MIT\n",
      "Location: /opt/anaconda3/lib/python3.13/site-packages\n",
      "Requires: greenlet, typing-extensions\n",
      "Required-by: alembic, langchain, langchain-community, llama-index-core\n",
      "---\n",
      "Name: pydantic\n",
      "Version: 2.11.9\n",
      "Summary: Data validation using Python type hints\n",
      "Home-page: https://github.com/pydantic/pydantic\n",
      "Author: \n",
      "Author-email: Samuel Colvin <s@muelcolvin.com>, Eric Jolibois <em.jolibois@gmail.com>, Hasan Ramezani <hasan.r67@gmail.com>, Adrian Garcia Badaracco <1755071+adriangb@users.noreply.github.com>, Terrence Dorsey <terry@pydantic.dev>, David Montague <david@pydantic.dev>, Serge Matveenko <lig@countzero.co>, Marcelo Trylesinski <marcelotryle@gmail.com>, Sydney Runkle <sydneymarierunkle@gmail.com>, David Hewitt <mail@davidhewitt.io>, Alex Hall <alex.mojaki@gmail.com>, Victorien Plot <contact@vctrn.dev>\n",
      "License-Expression: MIT\n",
      "Location: /opt/anaconda3/lib/python3.13/site-packages\n",
      "Requires: annotated-types, pydantic-core, typing-extensions, typing-inspection\n",
      "Required-by: anaconda-auth, anthropic, banks, chromadb, conda-anaconda-tos, docarray, fastapi, google-generativeai, gradio, groq, langchain, langchain-anthropic, langchain-core, langserve, langsmith, llama-cloud, llama-cloud-services, llama-index-core, llama-index-instrumentation, llama-index-workflows, ollama, openai, pydantic-settings, unstructured-client\n"
     ]
    }
   ],
   "source": [
    "# Verify key packages are installed\n",
    "!pip show fastapi uvicorn sqlalchemy pydantic"
   ]
  },
  {
   "cell_type": "code",
   "execution_count": 7,
   "id": "0b59e4d1",
   "metadata": {},
   "outputs": [
    {
     "name": "stdout",
     "output_type": "stream",
     "text": [
      "from functools import lru_cache\n",
      "from typing import Union\n",
      "\n",
      "from fastapi import FastAPI, Depends\n",
      "from fastapi.responses import PlainTextResponse\n",
      "from starlette.exceptions import HTTPException as StarletteHTTPException\n",
      "from fastapi.middleware.cors import CORSMiddleware\n",
      "\n",
      "# routers: import todos and pdfs routers\n",
      "from routers import todos, pdfs\n",
      "\n",
      "import config\n",
      "\n",
      "app = FastAPI()\n",
      "\n",
      "# CORS configuration - MUST be added before routers\n",
      "# More explicit CORS configuration\n",
      "app.add_middleware(\n",
      "    CORSMiddleware,\n",
      "    allow_origins=[\"*\"],  # Allow all origins for development\n",
      "    allow_credentials=False,  # Set to False when using \"*\" origins\n",
      "    allow_methods=[\"*\"],  # Allow all methods\n",
      "    allow_headers=[\"*\"],  # Allow all headers\n",
      "    expose_headers=[\"*\"],  # Expose all headers\n",
      ")\n",
      "\n",
      "\n",
      "# Manual CORS middleware (backup solution)\n",
      "@app.middleware(\"http\")\n",
      "async def add_cors_headers(request, call_next):\n",
      "    response = await call_next(request)\n",
      "    response.headers[\"Access-Control-Allow-Origin\"] = \"*\"\n",
      "    response.headers[\"Access-Control-Allow-Methods\"] = \"GET, POST, PUT, DELETE, OPTIONS\"\n",
      "    response.headers[\"Access-Control-Allow-Headers\"] = \"*\"\n",
      "    response.headers[\"Access-Control-Expose-Headers\"] = \"*\"\n",
      "    response.headers[\"Access-Control-Allow-Credentials\"] = \"true\"\n",
      "    return response\n",
      "\n",
      "# router: include todos and pdfs routers\n",
      "app.include_router(todos.router)\n",
      "app.include_router(pdfs.router)\n",
      "\n",
      "\n",
      "# global http exception handler, to handle errors\n",
      "@app.exception_handler(StarletteHTTPException)\n",
      "async def http_exception_handler(request, exc):\n",
      "    print(f\"{repr(exc)}\")\n",
      "    return PlainTextResponse(str(exc.detail), status_code=exc.status_code)\n",
      "\n",
      "# to use the settings\n",
      "@lru_cache()\n",
      "def get_settings():\n",
      "    return config.Settings()\n",
      "\n",
      "\n",
      "@app.get(\"/\")\n",
      "def read_root():\n",
      "    return \"Hello Todo World - Your CRUD API is ready!\"\n",
      "\n",
      "\n",
      "@app.get(\"/cors-test\")\n",
      "def cors_test():\n",
      "    \"\"\"Test endpoint to verify CORS is working\"\"\"\n",
      "    return {\n",
      "        \"message\": \"CORS is working!\",\n",
      "        \"cors_headers\": \"Should be present in response\",\n",
      "        \"timestamp\": \"2024-01-01T00:00:00Z\"\n",
      "    }\n",
      "\n",
      "\n",
      "@app.options(\"/cors-test\")\n",
      "def cors_test_options():\n",
      "    \"\"\"Handle preflight OPTIONS request\"\"\"\n",
      "    return {\"message\": \"CORS preflight successful\"}\n",
      "\n",
      "\n",
      "@app.get(\"/items/{item_id}\")\n",
      "def read_item(item_id: int, q: Union[str, None] = None):\n",
      "    return {\"item_id\": item_id, \"q\": q}"
     ]
    }
   ],
   "source": [
    "!cat main.py"
   ]
  },
  {
   "cell_type": "code",
   "execution_count": 8,
   "id": "194d1f95",
   "metadata": {},
   "outputs": [
    {
     "name": "stdout",
     "output_type": "stream",
     "text": [
      "🌐 Your FastAPI application is running!\n",
      "\n",
      "📍 Main API: http://localhost:8000\n",
      "📚 Interactive Docs (Swagger): http://localhost:8000/docs\n",
      "📖 Alternative Docs (ReDoc): http://localhost:8000/redoc\n",
      "\n",
      "💡 Tip: Try the /docs endpoint - you can test your API directly in the browser!\n"
     ]
    }
   ],
   "source": [
    "# Print the URLs for easy clicking\n",
    "print(\"🌐 Your FastAPI application is running!\")\n",
    "print(\"\")\n",
    "print(\"📍 Main API: http://localhost:8000\")\n",
    "print(\"📚 Interactive Docs (Swagger): http://localhost:8000/docs\")\n",
    "print(\"📖 Alternative Docs (ReDoc): http://localhost:8000/redoc\")\n",
    "print(\"\")\n",
    "print(\"💡 Tip: Try the /docs endpoint - you can test your API directly in the browser!\")"
   ]
  },
  {
   "cell_type": "code",
   "execution_count": 9,
   "id": "bd6a0382",
   "metadata": {},
   "outputs": [
    {
     "name": "stdout",
     "output_type": "stream",
     "text": [
      "Testing API connectivity...\n",
      "\"Hello Todo World - Your CRUD API is ready!\"zsh:1: no matches found: http://localhost:8000/items/42?q=test\n",
      "📡 Testing /items endpoint...\n"
     ]
    }
   ],
   "source": [
    "# Test basic connectivity\n",
    "print(\"Testing API connectivity...\")\n",
    "\n",
    "# Basic GET request\n",
    "!curl -s http://localhost:8000/ || echo \"❌ Server not running. Start with: uvicorn main:app --reload\"\n",
    "\n",
    "# Test with JSON response formatting\n",
    "!curl -s http://localhost:8000/items/42?q=test | python -m json.tool 2>/dev/null || echo \"📡 Testing /items endpoint...\""
   ]
  },
  {
   "cell_type": "code",
   "execution_count": 10,
   "id": "6d79032e",
   "metadata": {},
   "outputs": [
    {
     "name": "stdout",
     "output_type": "stream",
     "text": [
      "🔥 Hot Reload Test:\n",
      "1. Keep your uvicorn server running\n",
      "2. Edit main.py and change the 'Hello World' message\n",
      "3. Save the file\n",
      "4. Watch the server logs - you'll see 'Reloading...'\n",
      "5. Refresh http://localhost:8000/ to see your changes!\n",
      "\n",
      "💡 This hot reload feature makes development super fast!\n"
     ]
    }
   ],
   "source": [
    "print(\"🔥 Hot Reload Test:\")\n",
    "print(\"1. Keep your uvicorn server running\")\n",
    "print(\"2. Edit main.py and change the 'Hello World' message\")\n",
    "print(\"3. Save the file\")\n",
    "print(\"4. Watch the server logs - you'll see 'Reloading...'\")\n",
    "print(\"5. Refresh http://localhost:8000/ to see your changes!\")\n",
    "print(\"\")\n",
    "print(\"💡 This hot reload feature makes development super fast!\")"
   ]
  },
  {
   "cell_type": "code",
   "execution_count": 11,
   "id": "d20f8ab6",
   "metadata": {},
   "outputs": [
    {
     "name": "stdout",
     "output_type": "stream",
     "text": [
      "Python version: 3.13.5 | packaged by Anaconda, Inc. | (main, Jun 12 2025, 11:09:21) [Clang 14.0.6 ]\n",
      "⚠️ Virtual environment not detected\n"
     ]
    }
   ],
   "source": [
    "# Check Python version\n",
    "import sys\n",
    "print(f\"Python version: {sys.version}\")\n",
    "\n",
    "# Check if we're in virtual environment\n",
    "import os\n",
    "if 'VIRTUAL_ENV' in os.environ:\n",
    "    print(f\"✅ Virtual environment: {os.environ['VIRTUAL_ENV']}\")\n",
    "else:\n",
    "    print(\"⚠️ Virtual environment not detected\")"
   ]
  },
  {
   "cell_type": "code",
   "execution_count": 12,
   "id": "1de7373b",
   "metadata": {},
   "outputs": [
    {
     "name": "stdout",
     "output_type": "stream",
     "text": [
      "✅ FastAPI version: 0.117.1\n",
      "✅ Uvicorn version: 0.37.0\n",
      "✅ SQLAlchemy version: 2.0.39\n",
      "✅ Pydantic version: 2.11.9\n",
      "\n",
      "🎉 All essential packages are installed correctly!\n"
     ]
    }
   ],
   "source": [
    "# Verify key packages are installed and importable\n",
    "try:\n",
    "    import fastapi\n",
    "    print(f\"✅ FastAPI version: {fastapi.__version__}\")\n",
    "    \n",
    "    import uvicorn\n",
    "    print(f\"✅ Uvicorn version: {uvicorn.__version__}\")\n",
    "    \n",
    "    import sqlalchemy\n",
    "    print(f\"✅ SQLAlchemy version: {sqlalchemy.__version__}\")\n",
    "    \n",
    "    import pydantic\n",
    "    print(f\"✅ Pydantic version: {pydantic.version.VERSION}\")\n",
    "    \n",
    "    print(\"\\n🎉 All essential packages are installed correctly!\")\n",
    "    \n",
    "except ImportError as e:\n",
    "    print(f\"❌ Import error: {e}\")\n",
    "    print(\"💡 Make sure you've run: pip install -r requirements.txt\")"
   ]
  },
  {
   "cell_type": "code",
   "execution_count": 13,
   "id": "820735ce",
   "metadata": {},
   "outputs": [
    {
     "name": "stdout",
     "output_type": "stream",
     "text": [
      "📁 Project structure check:\n",
      "✅ main.py\n",
      "✅ config.py\n",
      "✅ database.py\n",
      "✅ models.py\n",
      "✅ schemas.py\n",
      "✅ crud.py\n",
      "✅ requirements.txt\n",
      "✅ .env\n",
      "✅ routers/ directory\n",
      "✅ routers/todos.py\n"
     ]
    }
   ],
   "source": [
    "# Check project structure\n",
    "import os\n",
    "\n",
    "required_files = [\n",
    "    'main.py',\n",
    "    'config.py', \n",
    "    'database.py',\n",
    "    'models.py',\n",
    "    'schemas.py',\n",
    "    'crud.py',\n",
    "    'requirements.txt',\n",
    "    '.env'\n",
    "]\n",
    "\n",
    "print(\"📁 Project structure check:\")\n",
    "for file in required_files:\n",
    "    if os.path.exists(file):\n",
    "        print(f\"✅ {file}\")\n",
    "    else:\n",
    "        print(f\"❌ {file} (missing)\")\n",
    "\n",
    "# Check for routers directory\n",
    "if os.path.exists('routers') and os.path.isdir('routers'):\n",
    "    print(\"✅ routers/ directory\")\n",
    "    if os.path.exists('routers/todos.py'):\n",
    "        print(\"✅ routers/todos.py\")\n",
    "    else:\n",
    "        print(\"❌ routers/todos.py (missing)\")\n",
    "else:\n",
    "    print(\"❌ routers/ directory (missing)\")"
   ]
  },
  {
   "cell_type": "code",
   "execution_count": 14,
   "id": "b066b3eb",
   "metadata": {},
   "outputs": [
    {
     "name": "stdout",
     "output_type": "stream",
     "text": [
      "🧪 Testing Todo API endpoints...\n",
      "\n",
      "\"Hello Todo World - Your CRUD API is ready!\"\n",
      "📋 Available Todo API endpoints:\n",
      "• GET    /todos/           - Get all todos\n",
      "• POST   /todos/           - Create a new todo\n",
      "• GET    /todos/{id}       - Get a specific todo\n",
      "• PUT    /todos/{id}       - Update a todo\n",
      "• DELETE /todos/{id}       - Delete a todo\n",
      "\n",
      "🌐 Interactive API docs: http://localhost:8000/docs\n",
      "📖 Alternative docs: http://localhost:8000/redoc\n"
     ]
    }
   ],
   "source": [
    "# Test the updated API with todos router\n",
    "print(\"🧪 Testing Todo API endpoints...\")\n",
    "print(\"\")\n",
    "\n",
    "# Test the root endpoint\n",
    "!curl -s http://localhost:8000/ || echo \"❌ Server not running. Start with: uvicorn main:app --reload\"\n",
    "\n",
    "print(\"\")\n",
    "print(\"📋 Available Todo API endpoints:\")\n",
    "print(\"• GET    /todos/           - Get all todos\")\n",
    "print(\"• POST   /todos/           - Create a new todo\")\n",
    "print(\"• GET    /todos/{id}       - Get a specific todo\")\n",
    "print(\"• PUT    /todos/{id}       - Update a todo\")\n",
    "print(\"• DELETE /todos/{id}       - Delete a todo\")\n",
    "print(\"\")\n",
    "print(\"🌐 Interactive API docs: http://localhost:8000/docs\")\n",
    "print(\"📖 Alternative docs: http://localhost:8000/redoc\")\n"
   ]
  },
  {
   "cell_type": "code",
   "execution_count": 15,
   "id": "47fe4c87",
   "metadata": {},
   "outputs": [
    {
     "name": "stdout",
     "output_type": "stream",
     "text": [
      "🚀 Starting FastAPI server...\n",
      "\n",
      "Run this command in your terminal:\n",
      "uvicorn main:app --reload --host 0.0.0.0 --port 8000\n",
      "\n",
      "Or run it in the background with:\n",
      "uvicorn main:app --reload --host 0.0.0.0 --port 8000 &\n",
      "\n",
      "Then wait a few seconds and test the connection below.\n"
     ]
    }
   ],
   "source": [
    "# Start the FastAPI server\n",
    "print(\"🚀 Starting FastAPI server...\")\n",
    "print(\"\")\n",
    "print(\"Run this command in your terminal:\")\n",
    "print(\"uvicorn main:app --reload --host 0.0.0.0 --port 8000\")\n",
    "print(\"\")\n",
    "print(\"Or run it in the background with:\")\n",
    "print(\"uvicorn main:app --reload --host 0.0.0.0 --port 8000 &\")\n",
    "print(\"\")\n",
    "print(\"Then wait a few seconds and test the connection below.\")\n"
   ]
  },
  {
   "cell_type": "code",
   "execution_count": 16,
   "id": "925b30b9",
   "metadata": {},
   "outputs": [
    {
     "name": "stdout",
     "output_type": "stream",
     "text": [
      "🔍 Testing server connection...\n",
      "✅ Server is running!\n",
      "Response: \"Hello Todo World - Your CRUD API is ready!\"\n",
      "\n",
      "🎉 Server is ready! You can now:\n",
      "• Visit http://localhost:8000/docs for interactive API docs\n",
      "• Test the todo endpoints\n"
     ]
    }
   ],
   "source": [
    "# Test server connection with better error handling\n",
    "import requests\n",
    "import time\n",
    "\n",
    "def test_server_connection():\n",
    "    \"\"\"Test if the FastAPI server is running\"\"\"\n",
    "    try:\n",
    "        # Test with a short timeout\n",
    "        response = requests.get(\"http://localhost:8000/\", timeout=2)\n",
    "        if response.status_code == 200:\n",
    "            print(\"✅ Server is running!\")\n",
    "            print(f\"Response: {response.text}\")\n",
    "            return True\n",
    "        else:\n",
    "            print(f\"❌ Server responded with status code: {response.status_code}\")\n",
    "            return False\n",
    "    except requests.exceptions.ConnectionError:\n",
    "        print(\"❌ Connection refused - Server is not running\")\n",
    "        print(\"💡 Start the server with: uvicorn main:app --reload\")\n",
    "        return False\n",
    "    except requests.exceptions.Timeout:\n",
    "        print(\"❌ Connection timeout - Server might be starting up\")\n",
    "        print(\"💡 Wait a few seconds and try again\")\n",
    "        return False\n",
    "    except Exception as e:\n",
    "        print(f\"❌ Unexpected error: {e}\")\n",
    "        return False\n",
    "\n",
    "# Test the connection\n",
    "print(\"🔍 Testing server connection...\")\n",
    "server_running = test_server_connection()\n",
    "\n",
    "if server_running:\n",
    "    print(\"\\n🎉 Server is ready! You can now:\")\n",
    "    print(\"• Visit http://localhost:8000/docs for interactive API docs\")\n",
    "    print(\"• Test the todo endpoints\")\n",
    "else:\n",
    "    print(\"\\n📝 To start the server:\")\n",
    "    print(\"1. Open a terminal\")\n",
    "    print(\"2. Navigate to the backend directory\")\n",
    "    print(\"3. Run: uvicorn main:app --reload\")\n"
   ]
  },
  {
   "cell_type": "code",
   "execution_count": 17,
   "id": "d473e86b",
   "metadata": {},
   "outputs": [
    {
     "name": "stdout",
     "output_type": "stream",
     "text": [
      "🚀 Starting FastAPI server from notebook...\n",
      "⚠️  Note: This will block the notebook until you stop the server\n",
      "   Press Ctrl+C in the terminal to stop the server\n",
      "\n",
      "\u001b[32mINFO\u001b[0m:     Will watch for changes in these directories: ['/Users/apple/Downloads/My Files/My File/CRUD4/1019-pdf-app-fastapi-vercel-fullstack-master/001-pdf-fastapi-backend']\n",
      "\u001b[32mINFO\u001b[0m:     Uvicorn running on \u001b[1mhttp://0.0.0.0:8000\u001b[0m (Press CTRL+C to quit)\n",
      "\u001b[32mINFO\u001b[0m:     Started reloader process [\u001b[36m\u001b[1m8319\u001b[0m] using \u001b[36m\u001b[1mWatchFiles\u001b[0m\n",
      "✅ Using SQLite database for testing (overriding DATABASE_URL)\n",
      "\u001b[32mINFO\u001b[0m:     Started server process [\u001b[36m8321\u001b[0m]\n",
      "\u001b[32mINFO\u001b[0m:     Waiting for application startup.\n",
      "\u001b[32mINFO\u001b[0m:     Application startup complete.\n",
      "^C\n",
      "\u001b[32mINFO\u001b[0m:     Shutting down\n",
      "\u001b[32mINFO\u001b[0m:     Finished server process [\u001b[36m8321\u001b[0m]\n",
      "\u001b[32mINFO\u001b[0m:     Stopping reloader process [\u001b[36m\u001b[1m8319\u001b[0m]\n"
     ]
    }
   ],
   "source": [
    "# Alternative: Start server directly from notebook (run this cell)\n",
    "print(\"🚀 Starting FastAPI server from notebook...\")\n",
    "print(\"⚠️  Note: This will block the notebook until you stop the server\")\n",
    "print(\"   Press Ctrl+C in the terminal to stop the server\")\n",
    "print(\"\")\n",
    "\n",
    "# Start the server\n",
    "!uvicorn main:app --reload --host 0.0.0.0 --port 8000\n"
   ]
  },
  {
   "cell_type": "code",
   "execution_count": null,
   "id": "5e98f95a",
   "metadata": {},
   "outputs": [],
   "source": []
  }
 ],
 "metadata": {
  "kernelspec": {
   "display_name": "base",
   "language": "python",
   "name": "python3"
  },
  "language_info": {
   "codemirror_mode": {
    "name": "ipython",
    "version": 3
   },
   "file_extension": ".py",
   "mimetype": "text/x-python",
   "name": "python",
   "nbconvert_exporter": "python",
   "pygments_lexer": "ipython3",
   "version": "3.13.5"
  }
 },
 "nbformat": 4,
 "nbformat_minor": 5
}
