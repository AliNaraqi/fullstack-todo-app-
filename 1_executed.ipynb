{
 "cells": [
  {
   "cell_type": "code",
   "execution_count": 1,
   "id": "dd84323e",
   "metadata": {
    "execution": {
     "iopub.execute_input": "2025-10-21T16:23:16.050878Z",
     "iopub.status.busy": "2025-10-21T16:23:16.050485Z",
     "iopub.status.idle": "2025-10-21T16:23:16.646963Z",
     "shell.execute_reply": "2025-10-21T16:23:16.645618Z"
    }
   },
   "outputs": [
    {
     "name": "stdout",
     "output_type": "stream",
     "text": [
      "Python 3.11.8\r\n"
     ]
    }
   ],
   "source": [
    "#Check Python version (should be 3.11 or higher)\n",
    "!python3 --version"
   ]
  },
  {
   "cell_type": "code",
   "execution_count": 2,
   "id": "e1f316c3",
   "metadata": {
    "execution": {
     "iopub.execute_input": "2025-10-21T16:23:16.660387Z",
     "iopub.status.busy": "2025-10-21T16:23:16.658975Z",
     "iopub.status.idle": "2025-10-21T16:23:16.673326Z",
     "shell.execute_reply": "2025-10-21T16:23:16.672125Z"
    }
   },
   "outputs": [
    {
     "name": "stdout",
     "output_type": "stream",
     "text": [
      "PATH updated for session.\n",
      "which node: /Users/apple/.nvm/versions/node/v22.20.0/bin/node\n",
      "which npm: /Users/apple/.nvm/versions/node/v22.20.0/bin/npm\n",
      "which psql: /usr/local/opt/postgresql@15/bin/psql\n"
     ]
    }
   ],
   "source": [
    "# Configure PATH for this Jupyter session so CLI tools resolve\n",
    "import os, shutil\n",
    "postgres_bin = \"/usr/local/opt/postgresql@15/bin\"\n",
    "nvm_node_bin = \"/Users/apple/.nvm/versions/node/v22.20.0/bin\"\n",
    "paths_to_prepend = [postgres_bin, nvm_node_bin]\n",
    "os.environ[\"PATH\"] = \":\".join([p for p in paths_to_prepend if p]) + \":\" + os.environ.get(\"PATH\", \"\")\n",
    "print(\"PATH updated for session.\")\n",
    "print(\"which node:\", shutil.which(\"node\"))\n",
    "print(\"which npm:\", shutil.which(\"npm\"))\n",
    "print(\"which psql:\", shutil.which(\"psql\"))\n"
   ]
  },
  {
   "cell_type": "code",
   "execution_count": 3,
   "id": "4c095230",
   "metadata": {
    "execution": {
     "iopub.execute_input": "2025-10-21T16:23:16.680035Z",
     "iopub.status.busy": "2025-10-21T16:23:16.679429Z",
     "iopub.status.idle": "2025-10-21T16:23:19.684978Z",
     "shell.execute_reply": "2025-10-21T16:23:19.683791Z"
    }
   },
   "outputs": [
    {
     "name": "stdout",
     "output_type": "stream",
     "text": [
      "v22.20.0\r\n",
      "10.9.3\r\n",
      "\u001b[1G\u001b[0Kpsql (PostgreSQL) 15.14 (Homebrew)\r\n",
      "postgres (PostgreSQL) 15.14 (Homebrew)\r\n"
     ]
    }
   ],
   "source": [
    "# Verify CLI tools resolve after PATH update\n",
    "!node --version || echo \"node not found\"\n",
    "!npm --version || echo \"npm not found\"\n",
    "!psql --version || echo \"psql not found\"\n",
    "!postgres --version || echo \"postgres not found\"\n"
   ]
  },
  {
   "cell_type": "code",
   "execution_count": 4,
   "id": "6123c788",
   "metadata": {
    "execution": {
     "iopub.execute_input": "2025-10-21T16:23:19.690601Z",
     "iopub.status.busy": "2025-10-21T16:23:19.690195Z",
     "iopub.status.idle": "2025-10-21T16:23:20.291545Z",
     "shell.execute_reply": "2025-10-21T16:23:20.290334Z"
    }
   },
   "outputs": [
    {
     "name": "stdout",
     "output_type": "stream",
     "text": [
      "v22.20.0\r\n"
     ]
    }
   ],
   "source": [
    "# Check Node.js version (should be 18 or higher)\n",
    "!/Users/apple/.nvm/versions/node/v22.20.0/bin/node --version"
   ]
  },
  {
   "cell_type": "code",
   "execution_count": 5,
   "id": "6b026c9e",
   "metadata": {
    "execution": {
     "iopub.execute_input": "2025-10-21T16:23:20.299900Z",
     "iopub.status.busy": "2025-10-21T16:23:20.299425Z",
     "iopub.status.idle": "2025-10-21T16:23:21.116072Z",
     "shell.execute_reply": "2025-10-21T16:23:21.113899Z"
    }
   },
   "outputs": [
    {
     "name": "stdout",
     "output_type": "stream",
     "text": [
      "10.9.3\r\n",
      "\u001b[1G\u001b[0K"
     ]
    }
   ],
   "source": [
    "!npm --version"
   ]
  },
  {
   "cell_type": "code",
   "execution_count": 6,
   "id": "efa654d5",
   "metadata": {
    "execution": {
     "iopub.execute_input": "2025-10-21T16:23:21.121881Z",
     "iopub.status.busy": "2025-10-21T16:23:21.121319Z",
     "iopub.status.idle": "2025-10-21T16:23:21.734701Z",
     "shell.execute_reply": "2025-10-21T16:23:21.733223Z"
    }
   },
   "outputs": [
    {
     "name": "stdout",
     "output_type": "stream",
     "text": [
      "git version 2.48.1\r\n"
     ]
    }
   ],
   "source": [
    "!git --version"
   ]
  },
  {
   "cell_type": "code",
   "execution_count": 7,
   "id": "577d3035",
   "metadata": {
    "execution": {
     "iopub.execute_input": "2025-10-21T16:23:21.740499Z",
     "iopub.status.busy": "2025-10-21T16:23:21.740068Z",
     "iopub.status.idle": "2025-10-21T16:23:22.256867Z",
     "shell.execute_reply": "2025-10-21T16:23:22.255651Z"
    }
   },
   "outputs": [
    {
     "name": "stdout",
     "output_type": "stream",
     "text": [
      "psql (PostgreSQL) 15.14 (Homebrew)\r\n"
     ]
    }
   ],
   "source": [
    "!/usr/local/opt/postgresql@15/bin/psql --version"
   ]
  },
  {
   "cell_type": "code",
   "execution_count": 8,
   "id": "9602e000",
   "metadata": {
    "execution": {
     "iopub.execute_input": "2025-10-21T16:23:22.264259Z",
     "iopub.status.busy": "2025-10-21T16:23:22.263372Z",
     "iopub.status.idle": "2025-10-21T16:23:22.861568Z",
     "shell.execute_reply": "2025-10-21T16:23:22.858163Z"
    }
   },
   "outputs": [
    {
     "name": "stdout",
     "output_type": "stream",
     "text": [
      "postgres (PostgreSQL) 15.14 (Homebrew)\r\n"
     ]
    }
   ],
   "source": [
    "# Check PostgreSQL version\n",
    "!postgres --version || psql --version"
   ]
  },
  {
   "cell_type": "code",
   "execution_count": 9,
   "id": "740f2b5c",
   "metadata": {
    "execution": {
     "iopub.execute_input": "2025-10-21T16:23:22.868822Z",
     "iopub.status.busy": "2025-10-21T16:23:22.868313Z",
     "iopub.status.idle": "2025-10-21T16:23:23.451293Z",
     "shell.execute_reply": "2025-10-21T16:23:23.449865Z"
    }
   },
   "outputs": [
    {
     "name": "stdout",
     "output_type": "stream",
     "text": [
      "total 664\r\n",
      "drwxr-xr-x   12 Ali  staff    384 Oct 17 10:43 \u001b[34m.\u001b[m\u001b[m\r\n",
      "drwxr-xr-x@ 107 Ali  staff   3424 Oct  2 17:50 \u001b[34m..\u001b[m\u001b[m\r\n",
      "-rw-r--r--@   1 Ali  staff   6148 Oct  6 16:13 .DS_Store\r\n",
      "-rw-r--r--    1 Ali  staff  96331 Oct 21 09:21 1.ipynb\r\n",
      "drwxrwxr-x@   5 Ali  staff    160 Mar 29  2024 \u001b[34m1019-pdf-app-fastapi-vercel-fullstack-master\u001b[m\u001b[m\r\n",
      "-rw-r--r--    1 Ali  staff  30148 Oct 17 10:28 2.ipynb\r\n",
      "-rw-r--r--    1 Ali  staff  47863 Oct 17 10:30 3.ipynb\r\n",
      "-rw-r--r--    1 Ali  staff  43592 Oct 21 09:21 4.ipynb\r\n",
      "-rw-r--r--    1 Ali  staff  45618 Oct 17 10:42 5.ipynb\r\n",
      "-rw-r--r--    1 Ali  staff  48594 Oct 17 16:59 6.ipynb\r\n",
      "drwxr-xr-x    6 Ali  staff    192 Oct  6 10:52 \u001b[34malembic\u001b[m\u001b[m\r\n",
      "-rw-r--r--    1 Ali  staff   4862 Oct  6 10:52 alembic.ini\r\n"
     ]
    }
   ],
   "source": [
    "!ls -la"
   ]
  },
  {
   "cell_type": "code",
   "execution_count": 10,
   "id": "976176c5",
   "metadata": {
    "execution": {
     "iopub.execute_input": "2025-10-21T16:23:23.456823Z",
     "iopub.status.busy": "2025-10-21T16:23:23.456486Z",
     "iopub.status.idle": "2025-10-21T16:23:23.471705Z",
     "shell.execute_reply": "2025-10-21T16:23:23.470842Z"
    }
   },
   "outputs": [
    {
     "name": "stdout",
     "output_type": "stream",
     "text": [
      "/Users/apple/Downloads/My Files/My File/CRUD4/1019-pdf-app-fastapi-vercel-fullstack-master/001-pdf-fastapi-backend\n"
     ]
    },
    {
     "name": "stderr",
     "output_type": "stream",
     "text": [
      "/Users/apple/.pyenv/versions/3.11.8/lib/python3.11/site-packages/IPython/core/magics/osm.py:417: UserWarning: using dhist requires you to install the `pickleshare` library.\n",
      "  self.shell.db['dhist'] = compress_dhist(dhist)[-100:]\n"
     ]
    }
   ],
   "source": [
    "%cd \"/Users/apple/Downloads/My Files/My File/CRUD4/1019-pdf-app-fastapi-vercel-fullstack-master/001-pdf-fastapi-backend\"\n"
   ]
  },
  {
   "cell_type": "code",
   "execution_count": 11,
   "id": "2dd3d9ba",
   "metadata": {
    "execution": {
     "iopub.execute_input": "2025-10-21T16:23:23.477739Z",
     "iopub.status.busy": "2025-10-21T16:23:23.477306Z",
     "iopub.status.idle": "2025-10-21T16:23:24.051718Z",
     "shell.execute_reply": "2025-10-21T16:23:24.050442Z"
    }
   },
   "outputs": [
    {
     "name": "stdout",
     "output_type": "stream",
     "text": [
      "total 576\r\n",
      "drwxrwxr-x@ 21 Ali  staff     672 Oct  6 12:19 \u001b[34m.\u001b[m\u001b[m\r\n",
      "drwxrwxr-x@  5 Ali  staff     160 Mar 29  2024 \u001b[34m..\u001b[m\u001b[m\r\n",
      "-rw-rw-r--@  1 Ali  staff    6148 Mar 29  2024 .DS_Store\r\n",
      "-rw-r--r--   1 Ali  staff      75 Oct  6 11:12 .env\r\n",
      "-rw-rw-r--@  1 Ali  staff       4 Mar 29  2024 .gitignore\r\n",
      "drwxr-xr-x   9 Ali  staff     288 Oct  7 09:16 \u001b[34m.venv\u001b[m\u001b[m\r\n",
      "drwxrwxr-x@ 14 Ali  staff     448 Oct 21 09:21 \u001b[34m__pycache__\u001b[m\u001b[m\r\n",
      "drwxrwxr-x@  7 Ali  staff     224 Mar 29  2024 \u001b[34malembic\u001b[m\u001b[m\r\n",
      "-rw-rw-r--@  1 Ali  staff    3613 Mar 29  2024 alembic.ini\r\n",
      "-rw-rw-r--@  1 Ali  staff  224963 Mar 29  2024 allergic.pdf\r\n",
      "-rw-r--r--   1 Ali  staff     139 Oct  6 15:39 api.env\r\n",
      "-rw-rw-r--@  1 Ali  staff     651 Oct 21 09:20 config.py\r\n",
      "-rw-r--r--   1 Ali  staff     716 Oct  7 08:24 create_db.py\r\n",
      "-rw-rw-r--@  1 Ali  staff    3025 Oct 16 08:33 crud.py\r\n",
      "-rw-rw-r--@  1 Ali  staff    1449 Oct 16 08:33 database.py\r\n",
      "-rw-rw-r--@  1 Ali  staff    1325 Oct 17 08:58 main.py\r\n",
      "-rw-rw-r--@  1 Ali  staff     461 Oct 16 08:33 models.py\r\n",
      "-rw-rw-r--@  1 Ali  staff    3859 Oct  6 12:03 requirements.txt\r\n",
      "drwxrwxr-x@  5 Ali  staff     160 Oct  7 14:21 \u001b[34mrouters\u001b[m\u001b[m\r\n",
      "-rw-rw-r--@  1 Ali  staff     566 Oct 16 08:33 schemas.py\r\n",
      "-rw-r--r--   1 Ali  staff   12288 Oct  6 12:19 test.db\r\n"
     ]
    }
   ],
   "source": [
    "!ls -la"
   ]
  },
  {
   "cell_type": "code",
   "execution_count": 12,
   "id": "3f3ae046",
   "metadata": {
    "execution": {
     "iopub.execute_input": "2025-10-21T16:23:24.056869Z",
     "iopub.status.busy": "2025-10-21T16:23:24.056438Z",
     "iopub.status.idle": "2025-10-21T16:23:24.066273Z",
     "shell.execute_reply": "2025-10-21T16:23:24.064665Z"
    }
   },
   "outputs": [
    {
     "name": "stdout",
     "output_type": "stream",
     "text": [
      "[Errno 2] No such file or directory: '1019-pdf-app-fastapi-vercel-fullstack-master/001-pdf-fastapi-backend'\n",
      "/Users/apple/Downloads/My Files/My File/CRUD4/1019-pdf-app-fastapi-vercel-fullstack-master/001-pdf-fastapi-backend\n"
     ]
    },
    {
     "name": "stderr",
     "output_type": "stream",
     "text": [
      "/Users/apple/.pyenv/versions/3.11.8/lib/python3.11/site-packages/IPython/core/magics/osm.py:393: UserWarning: using bookmarks requires you to install the `pickleshare` library.\n",
      "  bkms = self.shell.db.get('bookmarks', {})\n"
     ]
    }
   ],
   "source": [
    "%cd \"1019-pdf-app-fastapi-vercel-fullstack-master/001-pdf-fastapi-backend\""
   ]
  },
  {
   "cell_type": "code",
   "execution_count": 13,
   "id": "779f4f7f",
   "metadata": {
    "execution": {
     "iopub.execute_input": "2025-10-21T16:23:24.072421Z",
     "iopub.status.busy": "2025-10-21T16:23:24.072049Z",
     "iopub.status.idle": "2025-10-21T16:23:24.080412Z",
     "shell.execute_reply": "2025-10-21T16:23:24.079084Z"
    }
   },
   "outputs": [
    {
     "name": "stdout",
     "output_type": "stream",
     "text": [
      "[Errno 2] No such file or directory: '001-fastapi-backend'\n",
      "/Users/apple/Downloads/My Files/My File/CRUD4/1019-pdf-app-fastapi-vercel-fullstack-master/001-pdf-fastapi-backend\n"
     ]
    }
   ],
   "source": [
    "%cd 001-fastapi-backend"
   ]
  },
  {
   "cell_type": "code",
   "execution_count": 14,
   "id": "528307b1",
   "metadata": {
    "execution": {
     "iopub.execute_input": "2025-10-21T16:23:24.086197Z",
     "iopub.status.busy": "2025-10-21T16:23:24.085562Z",
     "iopub.status.idle": "2025-10-21T16:23:24.585433Z",
     "shell.execute_reply": "2025-10-21T16:23:24.584246Z"
    }
   },
   "outputs": [
    {
     "name": "stdout",
     "output_type": "stream",
     "text": [
      "total 576\r\n",
      "drwxrwxr-x@ 21 Ali  staff     672 Oct  6 12:19 \u001b[34m.\u001b[m\u001b[m\r\n",
      "drwxrwxr-x@  5 Ali  staff     160 Mar 29  2024 \u001b[34m..\u001b[m\u001b[m\r\n",
      "-rw-rw-r--@  1 Ali  staff    6148 Mar 29  2024 .DS_Store\r\n",
      "-rw-r--r--   1 Ali  staff      75 Oct  6 11:12 .env\r\n",
      "-rw-rw-r--@  1 Ali  staff       4 Mar 29  2024 .gitignore\r\n",
      "drwxr-xr-x   9 Ali  staff     288 Oct  7 09:16 \u001b[34m.venv\u001b[m\u001b[m\r\n",
      "drwxrwxr-x@ 14 Ali  staff     448 Oct 21 09:21 \u001b[34m__pycache__\u001b[m\u001b[m\r\n",
      "drwxrwxr-x@  7 Ali  staff     224 Mar 29  2024 \u001b[34malembic\u001b[m\u001b[m\r\n",
      "-rw-rw-r--@  1 Ali  staff    3613 Mar 29  2024 alembic.ini\r\n",
      "-rw-rw-r--@  1 Ali  staff  224963 Mar 29  2024 allergic.pdf\r\n",
      "-rw-r--r--   1 Ali  staff     139 Oct  6 15:39 api.env\r\n",
      "-rw-rw-r--@  1 Ali  staff     651 Oct 21 09:20 config.py\r\n",
      "-rw-r--r--   1 Ali  staff     716 Oct  7 08:24 create_db.py\r\n",
      "-rw-rw-r--@  1 Ali  staff    3025 Oct 16 08:33 crud.py\r\n",
      "-rw-rw-r--@  1 Ali  staff    1449 Oct 16 08:33 database.py\r\n",
      "-rw-rw-r--@  1 Ali  staff    1325 Oct 17 08:58 main.py\r\n",
      "-rw-rw-r--@  1 Ali  staff     461 Oct 16 08:33 models.py\r\n",
      "-rw-rw-r--@  1 Ali  staff    3859 Oct  6 12:03 requirements.txt\r\n",
      "drwxrwxr-x@  5 Ali  staff     160 Oct  7 14:21 \u001b[34mrouters\u001b[m\u001b[m\r\n",
      "-rw-rw-r--@  1 Ali  staff     566 Oct 16 08:33 schemas.py\r\n",
      "-rw-r--r--   1 Ali  staff   12288 Oct  6 12:19 test.db\r\n"
     ]
    }
   ],
   "source": [
    "!ls -la"
   ]
  },
  {
   "cell_type": "code",
   "execution_count": 15,
   "id": "a78cb628",
   "metadata": {
    "execution": {
     "iopub.execute_input": "2025-10-21T16:23:24.592031Z",
     "iopub.status.busy": "2025-10-21T16:23:24.591159Z",
     "iopub.status.idle": "2025-10-21T16:23:25.505049Z",
     "shell.execute_reply": "2025-10-21T16:23:25.502862Z"
    }
   },
   "outputs": [
    {
     "name": "stdout",
     "output_type": "stream",
     "text": [
      "pyenv-virtualenv: `3.11.4' is not installed in pyenv.\r\n",
      "Run `pyenv install 3.11.4' to install it.\r\n"
     ]
    }
   ],
   "source": [
    "!pyenv virtualenv 3.11.4 todo-app-backend"
   ]
  },
  {
   "cell_type": "code",
   "execution_count": 16,
   "id": "df31b064",
   "metadata": {
    "execution": {
     "iopub.execute_input": "2025-10-21T16:23:25.512298Z",
     "iopub.status.busy": "2025-10-21T16:23:25.511816Z",
     "iopub.status.idle": "2025-10-21T16:23:27.000796Z",
     "shell.execute_reply": "2025-10-21T16:23:26.999684Z"
    }
   },
   "outputs": [
    {
     "name": "stdout",
     "output_type": "stream",
     "text": [
      "/Users/apple/Downloads/My Files/My File/CRUD4/1019-pdf-app-fastapi-vercel-fullstack-master/001-pdf-fastapi-backend\n",
      "Error: Command '['/Users/apple/Downloads/My Files/My File/CRUD4/1019-pdf-app-fastapi-vercel-fullstack-master/001-pdf-fastapi-backend/.venv/bin/python3', '-m', 'ensurepip', '--upgrade', '--default-pip']' returned non-zero exit status 1.\r\n",
      "Python 3.11.3\r\n"
     ]
    }
   ],
   "source": [
    "# Create backend venv (idempotent) and show version using venv python\n",
    "%cd \"/Users/apple/Downloads/My Files/My File/CRUD4/1019-pdf-app-fastapi-vercel-fullstack-master/001-pdf-fastapi-backend\"\n",
    "!python3 -m venv .venv || true\n",
    "!./.venv/bin/python --version"
   ]
  },
  {
   "cell_type": "code",
   "execution_count": 17,
   "id": "9d6a9162",
   "metadata": {
    "execution": {
     "iopub.execute_input": "2025-10-21T16:23:27.006643Z",
     "iopub.status.busy": "2025-10-21T16:23:27.006275Z",
     "iopub.status.idle": "2025-10-21T16:23:27.671415Z",
     "shell.execute_reply": "2025-10-21T16:23:27.669896Z"
    }
   },
   "outputs": [
    {
     "name": "stdout",
     "output_type": "stream",
     "text": [
      "localhost:5432 - accepting connections\r\n",
      "PostgreSQL is running\r\n"
     ]
    }
   ],
   "source": [
    "# Check if PostgreSQL is already running\n",
    "!pg_isready -h localhost -p 5432 && echo \"PostgreSQL is running\" || echo \"PostgreSQL needs to be started\"\n"
   ]
  },
  {
   "cell_type": "code",
   "execution_count": 18,
   "id": "45506e02",
   "metadata": {
    "execution": {
     "iopub.execute_input": "2025-10-21T16:23:27.678613Z",
     "iopub.status.busy": "2025-10-21T16:23:27.678145Z",
     "iopub.status.idle": "2025-10-21T16:23:37.679602Z",
     "shell.execute_reply": "2025-10-21T16:23:37.677309Z"
    }
   },
   "outputs": [
    {
     "name": "stdout",
     "output_type": "stream",
     "text": [
      "Bootstrap failed: 5: Input/output error\r\n",
      "Try re-running the command as root for richer errors.\r\n",
      "Error: Failure while executing; `/bin/launchctl bootstrap gui/501 /Users/apple/Library/LaunchAgents/homebrew.mxcl.postgresql@14.plist` exited with 5.\r\n",
      "brew not found; ensure Postgres is running\r\n"
     ]
    }
   ],
   "source": [
    "# Homebrew not available in this environment; skipping service management\n",
    "!command -v brew >/dev/null 2>&1 && brew services start postgresql || echo \"brew not found; ensure Postgres is running\""
   ]
  },
  {
   "cell_type": "code",
   "execution_count": 19,
   "id": "db93a203",
   "metadata": {
    "execution": {
     "iopub.execute_input": "2025-10-21T16:23:37.689771Z",
     "iopub.status.busy": "2025-10-21T16:23:37.688434Z",
     "iopub.status.idle": "2025-10-21T16:23:38.433873Z",
     "shell.execute_reply": "2025-10-21T16:23:38.432643Z"
    }
   },
   "outputs": [
    {
     "name": "stdout",
     "output_type": "stream",
     "text": [
      "/Users/apple/Downloads/My Files/My File/CRUD4/1019-pdf-app-fastapi-vercel-fullstack-master/001-pdf-fastapi-backend\n",
      "Traceback (most recent call last):\r\n",
      "  File \"/Users/apple/Downloads/My Files/My File/CRUD4/1019-pdf-app-fastapi-vercel-fullstack-master/001-pdf-fastapi-backend/./.venv/bin/pip\", line 7, in <module>\r\n",
      "    from pip._internal.cli.main import main\r\n",
      "  File \"/Users/apple/Downloads/My Files/My File/CRUD4/1019-pdf-app-fastapi-vercel-fullstack-master/001-pdf-fastapi-backend/.venv/lib/python3.11/site-packages/pip/_internal/cli/main.py\", line 11, in <module>\r\n",
      "    from pip._internal.cli.autocompletion import autocomplete\r\n",
      "  File \"/Users/apple/Downloads/My Files/My File/CRUD4/1019-pdf-app-fastapi-vercel-fullstack-master/001-pdf-fastapi-backend/.venv/lib/python3.11/site-packages/pip/_internal/cli/autocompletion.py\", line 12, in <module>\r\n",
      "    from pip._internal.cli.main_parser import create_main_parser\r\n",
      "  File \"/Users/apple/Downloads/My Files/My File/CRUD4/1019-pdf-app-fastapi-vercel-fullstack-master/001-pdf-fastapi-backend/.venv/lib/python3.11/site-packages/pip/_internal/cli/main_parser.py\", line 6, in <module>\r\n",
      "    import subprocess\r\n",
      "  File \"/Library/Frameworks/Python.framework/Versions/3.11/lib/python3.11/subprocess.py\", line 119, in <module>\r\n",
      "    import selectors\r\n",
      "  File \"/Library/Frameworks/Python.framework/Versions/3.11/lib/python3.11/selectors.py\", line 11, in <module>\r\n",
      "    import math\r\n",
      "ImportError: dlopen(/Users/apple/.pyenv/versions/3.11.8/lib/python3.11/lib-dynload/math.cpython-311-darwin.so, 0x0002): symbol not found in flat namespace (__PyModule_Add)\r\n"
     ]
    }
   ],
   "source": [
    "# Install backend requirements using venv pip\n",
    "%cd \"/Users/apple/Downloads/My Files/My File/CRUD4/1019-pdf-app-fastapi-vercel-fullstack-master/001-pdf-fastapi-backend\"\n",
    "!./.venv/bin/pip install -r requirements.txt"
   ]
  },
  {
   "cell_type": "code",
   "execution_count": 20,
   "id": "20962f51",
   "metadata": {
    "execution": {
     "iopub.execute_input": "2025-10-21T16:23:38.439573Z",
     "iopub.status.busy": "2025-10-21T16:23:38.439191Z",
     "iopub.status.idle": "2025-10-21T16:23:41.954445Z",
     "shell.execute_reply": "2025-10-21T16:23:41.952513Z"
    }
   },
   "outputs": [
    {
     "name": "stdout",
     "output_type": "stream",
     "text": [
      "Bootstrap failed: 5: Input/output error\r\n",
      "Try re-running the command as root for richer errors.\r\n",
      "Error: Failure while executing; `/bin/launchctl bootstrap gui/501 /Users/apple/Library/LaunchAgents/homebrew.mxcl.postgresql@14.plist` exited with 5.\r\n",
      "brew not found; start Postgres via Postgres.app or ensure it's already running\r\n"
     ]
    }
   ],
   "source": [
    "# Start PostgreSQL via Homebrew only if brew is available\n",
    "!command -v brew >/dev/null 2>&1 && brew services start postgresql || echo \"brew not found; start Postgres via Postgres.app or ensure it's already running\""
   ]
  },
  {
   "cell_type": "code",
   "execution_count": 21,
   "id": "b806c2b7",
   "metadata": {
    "execution": {
     "iopub.execute_input": "2025-10-21T16:23:41.960942Z",
     "iopub.status.busy": "2025-10-21T16:23:41.960414Z",
     "iopub.status.idle": "2025-10-21T16:23:42.726546Z",
     "shell.execute_reply": "2025-10-21T16:23:42.724520Z"
    }
   },
   "outputs": [
    {
     "name": "stdout",
     "output_type": "stream",
     "text": [
      "createdb: error: database creation failed: ERROR:  database \"mydatabase\" already exists\r\n"
     ]
    }
   ],
   "source": [
    "!createdb mydatabase"
   ]
  },
  {
   "cell_type": "code",
   "execution_count": 22,
   "id": "36091123",
   "metadata": {
    "execution": {
     "iopub.execute_input": "2025-10-21T16:23:42.733853Z",
     "iopub.status.busy": "2025-10-21T16:23:42.733334Z",
     "iopub.status.idle": "2025-10-21T16:23:43.493423Z",
     "shell.execute_reply": "2025-10-21T16:23:43.491639Z"
    }
   },
   "outputs": [
    {
     "name": "stdout",
     "output_type": "stream",
     "text": [
      "ERROR:  role \"user12\" already exists\r\n"
     ]
    }
   ],
   "source": [
    "!psql mydatabase -c \"CREATE USER user12 WITH PASSWORD 'pass12';\""
   ]
  },
  {
   "cell_type": "code",
   "execution_count": 23,
   "id": "8c138bbc",
   "metadata": {
    "execution": {
     "iopub.execute_input": "2025-10-21T16:23:43.500422Z",
     "iopub.status.busy": "2025-10-21T16:23:43.499917Z",
     "iopub.status.idle": "2025-10-21T16:23:44.112564Z",
     "shell.execute_reply": "2025-10-21T16:23:44.111403Z"
    }
   },
   "outputs": [
    {
     "name": "stdout",
     "output_type": "stream",
     "text": [
      "GRANT\r\n"
     ]
    }
   ],
   "source": [
    "!psql mydatabase -c \"GRANT ALL PRIVILEGES ON DATABASE mydatabase TO user12;\""
   ]
  },
  {
   "cell_type": "code",
   "execution_count": 24,
   "id": "90e61a41",
   "metadata": {
    "execution": {
     "iopub.execute_input": "2025-10-21T16:23:44.118264Z",
     "iopub.status.busy": "2025-10-21T16:23:44.117782Z",
     "iopub.status.idle": "2025-10-21T16:23:44.684672Z",
     "shell.execute_reply": "2025-10-21T16:23:44.683504Z"
    }
   },
   "outputs": [
    {
     "name": "stdout",
     "output_type": "stream",
     "text": [
      "\r\n",
      "#Database Configuration\r\n",
      "DATABASE_USER=user12\r\n",
      "DATABASE_PASSWORD=pass12\r\n",
      "DATABASE_HOST=localhost\r\n",
      "DATABASE_PORT=5432\r\n",
      "DATABASE_NAME=mydatabase\r\n"
     ]
    }
   ],
   "source": [
    "!cat api.env"
   ]
  },
  {
   "cell_type": "code",
   "execution_count": 25,
   "id": "373be421",
   "metadata": {
    "execution": {
     "iopub.execute_input": "2025-10-21T16:23:44.690715Z",
     "iopub.status.busy": "2025-10-21T16:23:44.690112Z",
     "iopub.status.idle": "2025-10-21T16:23:47.558615Z",
     "shell.execute_reply": "2025-10-21T16:23:47.557264Z"
    }
   },
   "outputs": [
    {
     "name": "stdout",
     "output_type": "stream",
     "text": [
      "Requirement already satisfied: alembic in /Users/apple/.pyenv/versions/3.11.8/lib/python3.11/site-packages (1.13.0)\r\n",
      "Requirement already satisfied: SQLAlchemy>=1.3.0 in /Users/apple/.pyenv/versions/3.11.8/lib/python3.11/site-packages (from alembic) (2.0.23)\r\n",
      "Requirement already satisfied: Mako in /Users/apple/.pyenv/versions/3.11.8/lib/python3.11/site-packages (from alembic) (1.3.0)\r\n",
      "Requirement already satisfied: typing-extensions>=4 in /Users/apple/.pyenv/versions/3.11.8/lib/python3.11/site-packages (from alembic) (4.8.0)\r\n",
      "Requirement already satisfied: greenlet!=0.4.17 in /Users/apple/.pyenv/versions/3.11.8/lib/python3.11/site-packages (from SQLAlchemy>=1.3.0->alembic) (3.0.1)\r\n",
      "Requirement already satisfied: MarkupSafe>=0.9.2 in /Users/apple/.pyenv/versions/3.11.8/lib/python3.11/site-packages (from Mako->alembic) (2.1.3)\r\n",
      "\r\n",
      "\u001b[1m[\u001b[0m\u001b[34;49mnotice\u001b[0m\u001b[1;39;49m]\u001b[0m\u001b[39;49m A new release of pip is available: \u001b[0m\u001b[31;49m25.1.1\u001b[0m\u001b[39;49m -> \u001b[0m\u001b[32;49m25.2\u001b[0m\r\n",
      "\u001b[1m[\u001b[0m\u001b[34;49mnotice\u001b[0m\u001b[1;39;49m]\u001b[0m\u001b[39;49m To update, run: \u001b[0m\u001b[32;49mpip install --upgrade pip\u001b[0m\r\n"
     ]
    }
   ],
   "source": [
    "!pip install alembic"
   ]
  },
  {
   "cell_type": "code",
   "execution_count": 26,
   "id": "912c4515",
   "metadata": {
    "execution": {
     "iopub.execute_input": "2025-10-21T16:23:47.567094Z",
     "iopub.status.busy": "2025-10-21T16:23:47.566498Z",
     "iopub.status.idle": "2025-10-21T16:23:49.085252Z",
     "shell.execute_reply": "2025-10-21T16:23:49.083724Z"
    }
   },
   "outputs": [
    {
     "name": "stdout",
     "output_type": "stream",
     "text": [
      "/Users/apple/Downloads/My Files/My File/CRUD4/1019-pdf-app-fastapi-vercel-fullstack-master/001-pdf-fastapi-backend\n",
      "Traceback (most recent call last):\r\n",
      "  File \"<string>\", line 1, in <module>\r\n",
      "  File \"/Users/apple/Downloads/My Files/My File/CRUD4/1019-pdf-app-fastapi-vercel-fullstack-master/001-pdf-fastapi-backend/.venv/lib/python3.11/site-packages/dotenv/__init__.py\", line 3, in <module>\r\n",
      "    from .main import (dotenv_values, find_dotenv, get_key, load_dotenv, set_key,\r\n",
      "  File \"/Users/apple/Downloads/My Files/My File/CRUD4/1019-pdf-app-fastapi-vercel-fullstack-master/001-pdf-fastapi-backend/.venv/lib/python3.11/site-packages/dotenv/main.py\", line 6, in <module>\r\n",
      "    import tempfile\r\n",
      "  File \"/Library/Frameworks/Python.framework/Versions/3.11/lib/python3.11/tempfile.py\", line 45, in <module>\r\n",
      "    from random import Random as _Random\r\n",
      "  File \"/Library/Frameworks/Python.framework/Versions/3.11/lib/python3.11/random.py\", line 49, in <module>\r\n",
      "    from math import log as _log, exp as _exp, pi as _pi, e as _e, ceil as _ceil\r\n",
      "ImportError: dlopen(/Users/apple/.pyenv/versions/3.11.8/lib/python3.11/lib-dynload/math.cpython-311-darwin.so, 0x0002): symbol not found in flat namespace (__PyModule_Add)\r\n",
      "Traceback (most recent call last):\r\n",
      "  File \"<frozen runpy>\", line 189, in _run_module_as_main\r\n",
      "  File \"<frozen runpy>\", line 148, in _get_module_details\r\n",
      "  File \"<frozen runpy>\", line 112, in _get_module_details\r\n",
      "  File \"/Users/apple/Downloads/My Files/My File/CRUD4/1019-pdf-app-fastapi-vercel-fullstack-master/001-pdf-fastapi-backend/.venv/lib/python3.11/site-packages/alembic/__init__.py\", line 1, in <module>\r\n",
      "    from . import context\r\n",
      "  File \"/Users/apple/Downloads/My Files/My File/CRUD4/1019-pdf-app-fastapi-vercel-fullstack-master/001-pdf-fastapi-backend/.venv/lib/python3.11/site-packages/alembic/context.py\", line 1, in <module>\r\n",
      "    from .runtime.environment import EnvironmentContext\r\n",
      "  File \"/Users/apple/Downloads/My Files/My File/CRUD4/1019-pdf-app-fastapi-vercel-fullstack-master/001-pdf-fastapi-backend/.venv/lib/python3.11/site-packages/alembic/runtime/environment.py\", line 19, in <module>\r\n",
      "    from sqlalchemy.sql.schema import Column\r\n",
      "  File \"/Users/apple/Downloads/My Files/My File/CRUD4/1019-pdf-app-fastapi-vercel-fullstack-master/001-pdf-fastapi-backend/.venv/lib/python3.11/site-packages/sqlalchemy/__init__.py\", line 12, in <module>\r\n",
      "    from . import util as _util\r\n",
      "  File \"/Users/apple/Downloads/My Files/My File/CRUD4/1019-pdf-app-fastapi-vercel-fullstack-master/001-pdf-fastapi-backend/.venv/lib/python3.11/site-packages/sqlalchemy/util/__init__.py\", line 15, in <module>\r\n",
      "    from ._collections import coerce_generator_arg as coerce_generator_arg\r\n",
      "  File \"/Users/apple/Downloads/My Files/My File/CRUD4/1019-pdf-app-fastapi-vercel-fullstack-master/001-pdf-fastapi-backend/.venv/lib/python3.11/site-packages/sqlalchemy/util/_collections.py\", line 39, in <module>\r\n",
      "    from .typing import Literal\r\n",
      "  File \"/Users/apple/Downloads/My Files/My File/CRUD4/1019-pdf-app-fastapi-vercel-fullstack-master/001-pdf-fastapi-backend/.venv/lib/python3.11/site-packages/sqlalchemy/util/typing.py\", line 34, in <module>\r\n",
      "    from . import compat\r\n",
      "  File \"/Users/apple/Downloads/My Files/My File/CRUD4/1019-pdf-app-fastapi-vercel-fullstack-master/001-pdf-fastapi-backend/.venv/lib/python3.11/site-packages/sqlalchemy/util/compat.py\", line 136, in <module>\r\n",
      "    from importlib import metadata as importlib_metadata\r\n",
      "  File \"/Library/Frameworks/Python.framework/Versions/3.11/lib/python3.11/importlib/metadata/__init__.py\", line 17, in <module>\r\n",
      "    from . import _adapters, _meta\r\n",
      "  File \"/Library/Frameworks/Python.framework/Versions/3.11/lib/python3.11/importlib/metadata/_adapters.py\", line 3, in <module>\r\n",
      "    import email.message\r\n",
      "  File \"/Library/Frameworks/Python.framework/Versions/3.11/lib/python3.11/email/message.py\", line 15, in <module>\r\n",
      "    from email import utils\r\n",
      "  File \"/Library/Frameworks/Python.framework/Versions/3.11/lib/python3.11/email/utils.py\", line 28, in <module>\r\n",
      "    import random\r\n",
      "  File \"/Library/Frameworks/Python.framework/Versions/3.11/lib/python3.11/random.py\", line 49, in <module>\r\n",
      "    from math import log as _log, exp as _exp, pi as _pi, e as _e, ceil as _ceil\r\n",
      "ImportError: dlopen(/Users/apple/.pyenv/versions/3.11.8/lib/python3.11/lib-dynload/math.cpython-311-darwin.so, 0x0002): symbol not found in flat namespace (__PyModule_Add)\r\n"
     ]
    }
   ],
   "source": [
    "# Run Alembic upgrade using venv interpreter in backend dir\n",
    "%cd \"/Users/apple/Downloads/My Files/My File/CRUD4/1019-pdf-app-fastapi-vercel-fullstack-master/001-pdf-fastapi-backend\"\n",
    "!./.venv/bin/python -c \"from dotenv import load_dotenv; load_dotenv('api.env')\" || true\n",
    "!./.venv/bin/python -m alembic upgrade head"
   ]
  },
  {
   "cell_type": "code",
   "execution_count": 27,
   "id": "1fb05491",
   "metadata": {
    "execution": {
     "iopub.execute_input": "2025-10-21T16:23:49.092168Z",
     "iopub.status.busy": "2025-10-21T16:23:49.091046Z",
     "iopub.status.idle": "2025-10-21T16:23:50.896595Z",
     "shell.execute_reply": "2025-10-21T16:23:50.895054Z"
    }
   },
   "outputs": [
    {
     "name": "stdout",
     "output_type": "stream",
     "text": [
      "alembic 1.13.0\r\n"
     ]
    }
   ],
   "source": [
    "!alembic --version"
   ]
  },
  {
   "cell_type": "code",
   "execution_count": 28,
   "id": "2067a531",
   "metadata": {
    "execution": {
     "iopub.execute_input": "2025-10-21T16:23:50.903164Z",
     "iopub.status.busy": "2025-10-21T16:23:50.902726Z",
     "iopub.status.idle": "2025-10-21T16:23:53.562941Z",
     "shell.execute_reply": "2025-10-21T16:23:53.561689Z"
    }
   },
   "outputs": [
    {
     "name": "stdout",
     "output_type": "stream",
     "text": [
      "INFO  [alembic.runtime.migration] Context impl PostgresqlImpl.\r\n",
      "INFO  [alembic.runtime.migration] Will assume transactional DDL.\r\n"
     ]
    }
   ],
   "source": [
    "!alembic upgrade head"
   ]
  },
  {
   "cell_type": "code",
   "execution_count": 29,
   "id": "b7060ea7",
   "metadata": {
    "execution": {
     "iopub.execute_input": "2025-10-21T16:23:53.569662Z",
     "iopub.status.busy": "2025-10-21T16:23:53.568840Z",
     "iopub.status.idle": "2025-10-21T16:23:53.598822Z",
     "shell.execute_reply": "2025-10-21T16:23:53.596986Z"
    }
   },
   "outputs": [
    {
     "data": {
      "text/plain": [
       "True"
      ]
     },
     "execution_count": 29,
     "metadata": {},
     "output_type": "execute_result"
    }
   ],
   "source": [
    "import os\n",
    "from dotenv import load_dotenv\n",
    "\n",
    "if not os.path.isfile('api.env'):\n",
    "    raise FileNotFoundError('api.env not found in current directory')\n",
    "\n",
    "load_dotenv('api.env')\n",
    "\n",
    "# No Alembic/SQLAlchemy config here; the server cell will read env vars at import time."
   ]
  },
  {
   "cell_type": "code",
   "execution_count": 30,
   "id": "7c1a2cdc",
   "metadata": {
    "execution": {
     "iopub.execute_input": "2025-10-21T16:23:53.604285Z",
     "iopub.status.busy": "2025-10-21T16:23:53.603731Z",
     "iopub.status.idle": "2025-10-21T16:23:53.610731Z",
     "shell.execute_reply": "2025-10-21T16:23:53.608938Z"
    }
   },
   "outputs": [
    {
     "name": "stdout",
     "output_type": "stream",
     "text": [
      "DATABASE_USER = user12\n",
      "DATABASE_HOST = localhost\n",
      "DATABASE_NAME = mydatabase\n"
     ]
    }
   ],
   "source": [
    "print('DATABASE_USER =', os.getenv('DATABASE_USER'))\n",
    "print('DATABASE_HOST =', os.getenv('DATABASE_HOST'))\n",
    "print('DATABASE_NAME =', os.getenv('DATABASE_NAME'))"
   ]
  },
  {
   "cell_type": "code",
   "execution_count": 31,
   "id": "c20f461b",
   "metadata": {
    "execution": {
     "iopub.execute_input": "2025-10-21T16:23:53.617567Z",
     "iopub.status.busy": "2025-10-21T16:23:53.617202Z",
     "iopub.status.idle": "2025-10-21T16:23:54.240547Z",
     "shell.execute_reply": "2025-10-21T16:23:54.239450Z"
    }
   },
   "outputs": [
    {
     "name": "stdout",
     "output_type": "stream",
     "text": [
      "total 576\r\n",
      "drwxrwxr-x@ 21 Ali  staff     672 Oct  6 12:19 \u001b[34m.\u001b[m\u001b[m\r\n",
      "drwxrwxr-x@  5 Ali  staff     160 Mar 29  2024 \u001b[34m..\u001b[m\u001b[m\r\n",
      "-rw-rw-r--@  1 Ali  staff    6148 Mar 29  2024 .DS_Store\r\n",
      "-rw-r--r--   1 Ali  staff      75 Oct  6 11:12 .env\r\n",
      "-rw-rw-r--@  1 Ali  staff       4 Mar 29  2024 .gitignore\r\n",
      "drwxr-xr-x   9 Ali  staff     288 Oct  7 09:16 \u001b[34m.venv\u001b[m\u001b[m\r\n",
      "drwxrwxr-x@ 14 Ali  staff     448 Oct 21 09:21 \u001b[34m__pycache__\u001b[m\u001b[m\r\n",
      "drwxrwxr-x@  7 Ali  staff     224 Mar 29  2024 \u001b[34malembic\u001b[m\u001b[m\r\n",
      "-rw-rw-r--@  1 Ali  staff    3613 Mar 29  2024 alembic.ini\r\n",
      "-rw-rw-r--@  1 Ali  staff  224963 Mar 29  2024 allergic.pdf\r\n",
      "-rw-r--r--   1 Ali  staff     139 Oct  6 15:39 api.env\r\n",
      "-rw-rw-r--@  1 Ali  staff     651 Oct 21 09:20 config.py\r\n",
      "-rw-r--r--   1 Ali  staff     716 Oct  7 08:24 create_db.py\r\n",
      "-rw-rw-r--@  1 Ali  staff    3025 Oct 16 08:33 crud.py\r\n",
      "-rw-rw-r--@  1 Ali  staff    1449 Oct 16 08:33 database.py\r\n",
      "-rw-rw-r--@  1 Ali  staff    1325 Oct 17 08:58 main.py\r\n",
      "-rw-rw-r--@  1 Ali  staff     461 Oct 16 08:33 models.py\r\n",
      "-rw-rw-r--@  1 Ali  staff    3859 Oct  6 12:03 requirements.txt\r\n",
      "drwxrwxr-x@  5 Ali  staff     160 Oct  7 14:21 \u001b[34mrouters\u001b[m\u001b[m\r\n",
      "-rw-rw-r--@  1 Ali  staff     566 Oct 16 08:33 schemas.py\r\n",
      "-rw-r--r--   1 Ali  staff   12288 Oct  6 12:19 test.db\r\n"
     ]
    }
   ],
   "source": [
    "!ls -la"
   ]
  },
  {
   "cell_type": "code",
   "execution_count": 32,
   "id": "b0070358",
   "metadata": {
    "execution": {
     "iopub.execute_input": "2025-10-21T16:23:54.249314Z",
     "iopub.status.busy": "2025-10-21T16:23:54.248263Z",
     "iopub.status.idle": "2025-10-21T16:24:20.325396Z",
     "shell.execute_reply": "2025-10-21T16:24:20.324152Z"
    }
   },
   "outputs": [
    {
     "name": "stdout",
     "output_type": "stream",
     "text": [
      "/Users/apple/Downloads/My Files/My File/CRUD4/1019-pdf-app-fastapi-vercel-fullstack-master/002-pdf-vercel-frontend/pdf-app\n",
      "(node:7548) Warning: The 'NO_COLOR' env is ignored due to the 'FORCE_COLOR' env being set.\r\n",
      "(Use `node --trace-warnings ...` to show where the warning was created)\r\n",
      "\u001b[1G\u001b[0K⠙\u001b[1G\u001b[0K⠹\u001b[1G\u001b[0K⠸\u001b[1G\u001b[0K⠼\u001b[1G\u001b[0K⠴\u001b[1G\u001b[0K⠦\u001b[1G\u001b[0K⠧\u001b[1G\u001b[0K⠇\u001b[1G\u001b[0K⠏\u001b[1G\u001b[0K⠋\u001b[1G\u001b[0K⠙\u001b[1G\u001b[0K⠹\u001b[1G\u001b[0K⠸\u001b[1G\u001b[0K⠼\u001b[1G\u001b[0K⠴\u001b[1G\u001b[0K⠦\u001b[1G\u001b[0K⠧\u001b[1G\u001b[0K⠇\u001b[1G\u001b[0K⠏\u001b[1G\u001b[0K⠋\u001b[1G\u001b[0K⠙\u001b[1G\u001b[0K⠹\u001b[1G\u001b[0K⠸\u001b[1G\u001b[0K⠼\u001b[1G\u001b[0K⠴\u001b[1G\u001b[0K⠦\u001b[1G\u001b[0K⠧\u001b[1G\u001b[0K⠇\u001b[1G\u001b[0K⠏\u001b[1G\u001b[0K⠋\u001b[1G\u001b[0K⠙\u001b[1G\u001b[0K⠹\u001b[1G\u001b[0K⠸\u001b[1G\u001b[0K⠼\u001b[1G\u001b[0K⠴\u001b[1G\u001b[0K⠦\u001b[1G\u001b[0K⠧\u001b[1G\u001b[0K⠇\u001b[1G\u001b[0K⠏\u001b[1G\u001b[0K⠋\u001b[1G\u001b[0K⠙\u001b[1G\u001b[0K⠹\u001b[1G\u001b[0K⠸\u001b[1G\u001b[0K⠼\u001b[1G\u001b[0K⠴\u001b[1G\u001b[0K⠦\u001b[1G\u001b[0K⠧\u001b[1G\u001b[0K⠇\u001b[1G\u001b[0K⠏\u001b[1G\u001b[0K⠋\u001b[1G\u001b[0K⠙\u001b[1G\u001b[0K⠹\u001b[1G\u001b[0K⠸\u001b[1G\u001b[0K⠼\u001b[1G\u001b[0K⠴\u001b[1G\u001b[0K⠦\u001b[1G\u001b[0K⠧\u001b[1G\u001b[0K⠇\u001b[1G\u001b[0K⠏\u001b[1G\u001b[0K⠋\u001b[1G\u001b[0K⠙\u001b[1G\u001b[0K⠹\u001b[1G\u001b[0K⠸\u001b[1G\u001b[0K⠼\u001b[1G\u001b[0K⠴\u001b[1G\u001b[0K⠦\u001b[1G\u001b[0K⠧\u001b[1G\u001b[0K⠇\u001b[1G\u001b[0K⠏\u001b[1G\u001b[0K⠋\u001b[1G\u001b[0K⠙\u001b[1G\u001b[0K⠹\u001b[1G\u001b[0K⠸\u001b[1G\u001b[0K⠼\u001b[1G\u001b[0K⠴\u001b[1G\u001b[0K⠦\u001b[1G\u001b[0K⠧\u001b[1G\u001b[0K⠇\u001b[1G\u001b[0K⠏\u001b[1G\u001b[0K⠋\u001b[1G\u001b[0K⠙\u001b[1G\u001b[0K⠹\u001b[1G\u001b[0K⠸\u001b[1G\u001b[0K⠼\u001b[1G\u001b[0K⠴\u001b[1G\u001b[0K⠦\u001b[1G\u001b[0K⠧\u001b[1G\u001b[0K⠇\u001b[1G\u001b[0K⠏\u001b[1G\u001b[0K⠋\u001b[1G\u001b[0K⠙\u001b[1G\u001b[0K⠹\u001b[1G\u001b[0K⠸\u001b[1G\u001b[0K⠼\u001b[1G\u001b[0K⠴\u001b[1G\u001b[0K⠦\u001b[1G\u001b[0K⠧\u001b[1G\u001b[0K⠇\u001b[1G\u001b[0K⠏\u001b[1G\u001b[0K⠋\u001b[1G\u001b[0K⠙\u001b[1G\u001b[0K⠹\u001b[1G\u001b[0K⠸\u001b[1G\u001b[0K⠼\u001b[1G\u001b[0K⠴\u001b[1G\u001b[0K⠦\u001b[1G\u001b[0K⠧\u001b[1G\u001b[0K⠇\u001b[1G\u001b[0K⠏\u001b[1G\u001b[0K⠋\u001b[1G\u001b[0K⠙\u001b[1G\u001b[0K⠹\u001b[1G\u001b[0K⠸\u001b[1G\u001b[0K⠼\u001b[1G\u001b[0K⠴\u001b[1G\u001b[0K⠦\u001b[1G\u001b[0K⠧\u001b[1G\u001b[0K⠇\u001b[1G\u001b[0K⠏\u001b[1G\u001b[0K⠋\u001b[1G\u001b[0K⠙\u001b[1G\u001b[0K⠹\u001b[1G\u001b[0K⠸\u001b[1G\u001b[0K⠼\u001b[1G\u001b[0K⠴\u001b[1G\u001b[0K⠦\u001b[1G\u001b[0K⠧\u001b[1G\u001b[0K⠇\u001b[1G\u001b[0K⠏\u001b[1G\u001b[0K⠋\u001b[1G\u001b[0K⠙\u001b[1G\u001b[0K⠹\u001b[1G\u001b[0K⠸\u001b[1G\u001b[0K⠼\u001b[1G\u001b[0K⠴\u001b[1G\u001b[0K⠦\u001b[1G\u001b[0K⠧\u001b[1G\u001b[0K⠇\u001b[1G\u001b[0K⠏\u001b[1G\u001b[0K⠋\u001b[1G\u001b[0K⠙\u001b[1G\u001b[0K⠹\u001b[1G\u001b[0K⠸\u001b[1G\u001b[0K⠼\u001b[1G\u001b[0K⠴\u001b[1G\u001b[0K⠦\u001b[1G\u001b[0K⠧\u001b[1G\u001b[0K⠇\u001b[1G\u001b[0K⠏\u001b[1G\u001b[0K⠋\u001b[1G\u001b[0K⠙\u001b[1G\u001b[0K⠹\u001b[1G\u001b[0K⠸\u001b[1G\u001b[0K⠼\u001b[1G\u001b[0K⠴\u001b[1G\u001b[0K⠦\u001b[1G\u001b[0K⠧\u001b[1G\u001b[0K⠇\u001b[1G\u001b[0K⠏\u001b[1G\u001b[0K⠋\u001b[1G\u001b[0K⠙\u001b[1G\u001b[0K⠹\u001b[1G\u001b[0K⠸\u001b[1G\u001b[0K⠼\u001b[1G\u001b[0K⠴\u001b[1G\u001b[0K⠦\u001b[1G\u001b[0K⠧\u001b[1G\u001b[0K⠇\u001b[1G\u001b[0K⠏\u001b[1G\u001b[0K⠋\u001b[1G\u001b[0K⠙\u001b[1G\u001b[0K⠹\u001b[1G\u001b[0K⠸\u001b[1G\u001b[0K⠼\u001b[1G\u001b[0K⠴\u001b[1G\u001b[0K⠦\u001b[1G\u001b[0K⠧\u001b[1G\u001b[0K⠇\u001b[1G\u001b[0K⠏\u001b[1G\u001b[0K⠋\u001b[1G\u001b[0K⠙\u001b[1G\u001b[0K⠹\u001b[1G\u001b[0K⠸\u001b[1G\u001b[0K⠼\u001b[1G\u001b[0K⠴\u001b[1G\u001b[0K⠦\u001b[1G\u001b[0K⠧\u001b[1G\u001b[0K⠇\u001b[1G\u001b[0K⠏\u001b[1G\u001b[0K⠋\u001b[1G\u001b[0K⠙\u001b[1G\u001b[0K⠹\u001b[1G\u001b[0K⠸\u001b[1G\u001b[0K⠼\u001b[1G\u001b[0K⠴\u001b[1G\u001b[0K⠦\u001b[1G\u001b[0K⠧\u001b[1G\u001b[0K⠇\u001b[1G\u001b[0K⠏\u001b[1G\u001b[0K⠋\u001b[1G\u001b[0K⠙\u001b[1G\u001b[0K⠹\u001b[1G\u001b[0K⠸\u001b[1G\u001b[0K⠼\u001b[1G\u001b[0K⠴\u001b[1G\u001b[0K⠦\u001b[1G\u001b[0K⠧\u001b[1G\u001b[0K⠇\u001b[1G\u001b[0K⠏\u001b[1G\u001b[0K⠋\u001b[1G\u001b[0K⠙\u001b[1G\u001b[0K⠹\u001b[1G\u001b[0K⠸\u001b[1G\u001b[0K⠼\u001b[1G\u001b[0K\r\n",
      "added 274 packages, and audited 275 packages in 24s\r\n",
      "\u001b[1G\u001b[0K⠼\u001b[1G\u001b[0K\r\n",
      "\u001b[1G\u001b[0K⠼\u001b[1G\u001b[0K106 packages are looking for funding\r\n",
      "\u001b[1G\u001b[0K⠼\u001b[1G\u001b[0K  run `npm fund` for details\r\n",
      "\u001b[1G\u001b[0K⠼\u001b[1G\u001b[0K\r\n",
      "7 vulnerabilities (1 low, 3 moderate, 2 high, 1 critical)\r\n",
      "\r\n",
      "To address issues that do not require attention, run:\r\n",
      "  npm audit fix\r\n",
      "\r\n",
      "To address all issues, run:\r\n",
      "  npm audit fix --force\r\n",
      "\r\n",
      "Run `npm audit` for details.\r\n",
      "\u001b[1G\u001b[0K⠴\u001b[1G\u001b[0K"
     ]
    }
   ],
   "source": [
    "# Frontend install in correct directory\n",
    "%cd \"/Users/apple/Downloads/My Files/My File/CRUD4/1019-pdf-app-fastapi-vercel-fullstack-master/002-pdf-vercel-frontend/pdf-app\"\n",
    "!npm ci || npm install"
   ]
  },
  {
   "cell_type": "code",
   "execution_count": 33,
   "id": "5e31361b",
   "metadata": {
    "execution": {
     "iopub.execute_input": "2025-10-21T16:24:20.332865Z",
     "iopub.status.busy": "2025-10-21T16:24:20.332230Z",
     "iopub.status.idle": "2025-10-21T16:24:21.779416Z",
     "shell.execute_reply": "2025-10-21T16:24:21.777709Z"
    }
   },
   "outputs": [
    {
     "name": "stdout",
     "output_type": "stream",
     "text": [
      "\u001b[1G\u001b[0KNPM-CI(1)                                                              NPM-CI(1)\r\n",
      "\r\n",
      "\r\n",
      "\r\n",
      "N\bNA\bAM\bME\bE\r\n",
      "       n\bnp\bpm\bm-\b-c\bci\bi - Clean install a project\r\n",
      "\r\n",
      "   S\bSy\byn\bno\bop\bps\bsi\bis\bs\r\n",
      "         npm ci\r\n",
      "\r\n",
      "         aliases: clean-install, ic, install-clean, isntall-clean\r\n",
      "\r\n",
      "   D\bDe\bes\bsc\bcr\bri\bip\bpt\bti\bio\bon\bn\r\n",
      "       This command is similar to npm help install, except it's meant to be used\r\n",
      "       in automated environments such as test platforms, continuous integration,\r\n",
      "       and deployment -- or any situation where you want to make sure you're\r\n",
      "       doing a clean install of your dependencies.\r\n",
      "\r\n",
      "       The main differences between using n\bnp\bpm\bm i\bin\bns\bst\bta\bal\bll\bl and n\bnp\bpm\bm c\bci\bi are:\r\n",
      "\r\n",
      "       •   The project m\bmu\bus\bst\bt have an existing p\bpa\bac\bck\bka\bag\bge\be-\b-l\blo\boc\bck\bk.\b.j\bjs\bso\bon\bn or n\bnp\bpm\bm-\b-\r\n",
      "           s\bsh\bhr\bri\bin\bnk\bkw\bwr\bra\bap\bp.\b.j\bjs\bso\bon\bn.\r\n",
      "\r\n",
      "       •   If dependencies in the package lock do not match those in\r\n",
      "           p\bpa\bac\bck\bka\bag\bge\be.\b.j\bjs\bso\bon\bn, n\bnp\bpm\bm c\bci\bi will exit with an error, instead of updating the\r\n",
      "           package lock.\r\n",
      "\r\n",
      "       •   n\bnp\bpm\bm c\bci\bi can only install entire projects at a time: individual\r\n",
      "           dependencies cannot be added with this command.\r\n",
      "\r\n",
      "       •   If a n\bno\bod\bde\be_\b_m\bmo\bod\bdu\bul\ble\bes\bs is already present, it will be automatically\r\n",
      "           removed before n\bnp\bpm\bm c\bci\bi begins its install.\r\n",
      "\r\n",
      "       •   It will never write to p\bpa\bac\bck\bka\bag\bge\be.\b.j\bjs\bso\bon\bn or any of the package-locks:\r\n",
      "           installs are essentially frozen.\r\n",
      "\r\n",
      "\r\n",
      "       NOTE: If you create your p\bpa\bac\bck\bka\bag\bge\be-\b-l\blo\boc\bck\bk.\b.j\bjs\bso\bon\bn file by running n\bnp\bpm\bm i\bin\bns\bst\bta\bal\bll\bl\r\n",
      "       with flags that can affect the shape of your dependency tree, such as\r\n",
      "       -\b--\b-l\ble\beg\bga\bac\bcy\by-\b-p\bpe\bee\ber\br-\b-d\bde\bep\bps\bs or -\b--\b-i\bin\bns\bst\bta\bal\bll\bl-\b-l\bli\bin\bnk\bks\bs, you _\bm_\bu_\bs_\bt provide the same flags to\r\n",
      "       n\bnp\bpm\bm c\bci\bi or you are likely to encounter errors. An easy way to do this is\r\n",
      "       to run, for example, n\bnp\bpm\bm c\bco\bon\bnf\bfi\big\bg s\bse\bet\bt l\ble\beg\bga\bac\bcy\by-\b-p\bpe\bee\ber\br-\b-d\bde\bep\bps\bs=\b=t\btr\bru\bue\be\r\n",
      "       -\b--\b-l\blo\boc\bca\bat\bti\bio\bon\bn=\b=p\bpr\bro\boj\bje\bec\bct\bt and commit the .\b.n\bnp\bpm\bmr\brc\bc file to your repo.\r\n",
      "\r\n",
      "   E\bEx\bxa\bam\bmp\bpl\ble\be\r\n",
      "       Make sure you have a package-lock and an up-to-date install:\r\n",
      "\r\n",
      "         $ cd ./my/npm/project\r\n",
      "         $ npm install\r\n",
      "         added 154 packages in 10s\r\n",
      "         $ ls | grep package-lock\r\n",
      "\r\n",
      "       Run n\bnp\bpm\bm c\bci\bi in that project\r\n",
      "\r\n",
      "         $ npm ci\r\n",
      "         added 154 packages in 5s\r\n",
      "\r\n",
      "       Configure Travis CI to build using n\bnp\bpm\bm c\bci\bi instead of n\bnp\bpm\bm i\bin\bns\bst\bta\bal\bll\bl:\r\n",
      "\r\n",
      "         # .travis.yml\r\n",
      "         install:\r\n",
      "         - npm ci\r\n",
      "         # keep the npm cache around to speed up installs\r\n",
      "         cache:\r\n",
      "           directories:\r\n",
      "           - \"$HOME/.npm\"\r\n",
      "\r\n",
      "   C\bCo\bon\bnf\bfi\big\bgu\bur\bra\bat\bti\bio\bon\bn\r\n",
      "   i\bin\bns\bst\bta\bal\bll\bl-\b-s\bst\btr\bra\bat\bte\beg\bgy\by\r\n",
      "\r\n",
      "       •   Default: \"hoisted\"\r\n",
      "\r\n",
      "       •   Type: \"hoisted\", \"nested\", \"shallow\", or \"linked\"\r\n",
      "\r\n",
      "\r\n",
      "       Sets the strategy for installing packages in node_modules. hoisted\r\n",
      "       (default): Install non-duplicated in top-level, and duplicated as\r\n",
      "       necessary within directory structure. nested: (formerly --legacy-\r\n",
      "       bundling) install in place, no hoisting. shallow (formerly --global-\r\n",
      "       style) only install direct deps at top-level. linked: (experimental)\r\n",
      "       install in node_modules/.store, link in place, unhoisted.\r\n",
      "\r\n",
      "   l\ble\beg\bga\bac\bcy\by-\b-b\bbu\bun\bnd\bdl\bli\bin\bng\bg\r\n",
      "\r\n",
      "       •   Default: false\r\n",
      "\r\n",
      "       •   Type: Boolean\r\n",
      "\r\n",
      "       •   DEPRECATED: This option has been deprecated in favor of -\b--\b-i\bin\bns\bst\bta\bal\bll\bl-\b-\r\n",
      "           s\bst\btr\bra\bat\bte\beg\bgy\by=\b=n\bne\bes\bst\bte\bed\bd\r\n",
      "\r\n",
      "\r\n",
      "       Instead of hoisting package installs in n\bno\bod\bde\be_\b_m\bmo\bod\bdu\bul\ble\bes\bs, install packages in\r\n",
      "       the same manner that they are depended on. This may cause very deep\r\n",
      "       directory structures and duplicate package installs as there is no de-\r\n",
      "       duplicating. Sets -\b--\b-i\bin\bns\bst\bta\bal\bll\bl-\b-s\bst\btr\bra\bat\bte\beg\bgy\by=\b=n\bne\bes\bst\bte\bed\bd.\r\n",
      "\r\n",
      "   g\bgl\blo\bob\bba\bal\bl-\b-s\bst\bty\byl\ble\be\r\n",
      "\r\n",
      "       •   Default: false\r\n",
      "\r\n",
      "       •   Type: Boolean\r\n",
      "\r\n",
      "       •   DEPRECATED: This option has been deprecated in favor of -\b--\b-i\bin\bns\bst\bta\bal\bll\bl-\b-\r\n",
      "           s\bst\btr\bra\bat\bte\beg\bgy\by=\b=s\bsh\bha\bal\bll\blo\bow\bw\r\n",
      "\r\n",
      "\r\n",
      "       Only install direct dependencies in the top level n\bno\bod\bde\be_\b_m\bmo\bod\bdu\bul\ble\bes\bs, but hoist\r\n",
      "       on deeper dependencies. Sets -\b--\b-i\bin\bns\bst\bta\bal\bll\bl-\b-s\bst\btr\bra\bat\bte\beg\bgy\by=\b=s\bsh\bha\bal\bll\blo\bow\bw.\r\n",
      "\r\n",
      "   o\bom\bmi\bit\bt\r\n",
      "\r\n",
      "       •   Default: 'dev' if the N\bNO\bOD\bDE\bE_\b_E\bEN\bNV\bV environment variable is set to\r\n",
      "           'production', otherwise empty.\r\n",
      "\r\n",
      "       •   Type: \"dev\", \"optional\", or \"peer\" (can be set multiple times)\r\n",
      "\r\n",
      "\r\n",
      "       Dependency types to omit from the installation tree on disk.\r\n",
      "\r\n",
      "       Note that these dependencies _\ba_\br_\be still resolved and added to the p\bpa\bac\bck\bka\bag\bge\be-\b-\r\n",
      "       l\blo\boc\bck\bk.\b.j\bjs\bso\bon\bn or n\bnp\bpm\bm-\b-s\bsh\bhr\bri\bin\bnk\bkw\bwr\bra\bap\bp.\b.j\bjs\bso\bon\bn file. They are just not physically\r\n",
      "       installed on disk.\r\n",
      "\r\n",
      "       If a package type appears in both the -\b--\b-i\bin\bnc\bcl\blu\bud\bde\be and -\b--\b-o\bom\bmi\bit\bt lists, then it\r\n",
      "       will be included.\r\n",
      "\r\n",
      "       If the resulting omit list includes '\b'd\bde\bev\bv'\b', then the N\bNO\bOD\bDE\bE_\b_E\bEN\bNV\bV environment\r\n",
      "       variable will be set to '\b'p\bpr\bro\bod\bdu\buc\bct\bti\bio\bon\bn'\b' for all lifecycle scripts.\r\n",
      "\r\n",
      "   i\bin\bnc\bcl\blu\bud\bde\be\r\n",
      "\r\n",
      "       •   Default:\r\n",
      "\r\n",
      "       •   Type: \"prod\", \"dev\", \"optional\", or \"peer\" (can be set multiple\r\n",
      "           times)\r\n",
      "\r\n",
      "\r\n",
      "       Option that allows for defining which types of dependencies to install.\r\n",
      "\r\n",
      "       This is the inverse of -\b--\b-o\bom\bmi\bit\bt=\b=<\b<t\bty\byp\bpe\be>\b>.\r\n",
      "\r\n",
      "       Dependency types specified in -\b--\b-i\bin\bnc\bcl\blu\bud\bde\be will not be omitted, regardless\r\n",
      "       of the order in which omit/include are specified on the command-line.\r\n",
      "\r\n",
      "   s\bst\btr\bri\bic\bct\bt-\b-p\bpe\bee\ber\br-\b-d\bde\bep\bps\bs\r\n",
      "\r\n",
      "       •   Default: false\r\n",
      "\r\n",
      "       •   Type: Boolean\r\n",
      "\r\n",
      "\r\n",
      "       If set to t\btr\bru\bue\be, and -\b--\b-l\ble\beg\bga\bac\bcy\by-\b-p\bpe\bee\ber\br-\b-d\bde\bep\bps\bs is not set, then _\ba_\bn_\by conflicting\r\n",
      "       p\bpe\bee\ber\brD\bDe\bep\bpe\ben\bnd\bde\ben\bnc\bci\bie\bes\bs will be treated as an install failure, even if npm could\r\n",
      "       reasonably guess the appropriate resolution based on non-peer dependency\r\n",
      "       relationships.\r\n",
      "\r\n",
      "       By default, conflicting p\bpe\bee\ber\brD\bDe\bep\bpe\ben\bnd\bde\ben\bnc\bci\bie\bes\bs deep in the dependency graph\r\n",
      "       will be resolved using the nearest non-peer dependency specification,\r\n",
      "       even if doing so will result in some packages receiving a peer dependency\r\n",
      "       outside the range set in their package's p\bpe\bee\ber\brD\bDe\bep\bpe\ben\bnd\bde\ben\bnc\bci\bie\bes\bs object.\r\n",
      "\r\n",
      "       When such an override is performed, a warning is printed, explaining the\r\n",
      "       conflict and the packages involved. If -\b--\b-s\bst\btr\bri\bic\bct\bt-\b-p\bpe\bee\ber\br-\b-d\bde\bep\bps\bs is set, then\r\n",
      "       this warning is treated as a failure.\r\n",
      "\r\n",
      "   f\bfo\bor\bre\beg\bgr\bro\bou\bun\bnd\bd-\b-s\bsc\bcr\bri\bip\bpt\bts\bs\r\n",
      "\r\n",
      "       •   Default: f\bfa\bal\bls\bse\be unless when using n\bnp\bpm\bm p\bpa\bac\bck\bk or n\bnp\bpm\bm p\bpu\bub\bbl\bli\bis\bsh\bh where it\r\n",
      "           defaults to t\btr\bru\bue\be\r\n",
      "\r\n",
      "       •   Type: Boolean\r\n",
      "\r\n",
      "\r\n",
      "       Run all build scripts (ie, p\bpr\bre\bei\bin\bns\bst\bta\bal\bll\bl, i\bin\bns\bst\bta\bal\bll\bl, and p\bpo\bos\bst\bti\bin\bns\bst\bta\bal\bll\bl) scripts\r\n",
      "       for installed packages in the foreground process, sharing standard input,\r\n",
      "       output, and error with the main npm process.\r\n",
      "\r\n",
      "       Note that this will generally make installs run slower, and be much\r\n",
      "       noisier, but can be useful for debugging.\r\n",
      "\r\n",
      "   i\big\bgn\bno\bor\bre\be-\b-s\bsc\bcr\bri\bip\bpt\bts\bs\r\n",
      "\r\n",
      "       •   Default: false\r\n",
      "\r\n",
      "       •   Type: Boolean\r\n",
      "\r\n",
      "\r\n",
      "       If true, npm does not run scripts specified in package.json files.\r\n",
      "\r\n",
      "       Note that commands explicitly intended to run a particular script, such\r\n",
      "       as n\bnp\bpm\bm s\bst\bta\bar\brt\bt, n\bnp\bpm\bm s\bst\bto\bop\bp, n\bnp\bpm\bm r\bre\bes\bst\bta\bar\brt\bt, n\bnp\bpm\bm t\bte\bes\bst\bt, and n\bnp\bpm\bm r\bru\bun\bn-\b-s\bsc\bcr\bri\bip\bpt\bt will\r\n",
      "       still run their intended script if i\big\bgn\bno\bor\bre\be-\b-s\bsc\bcr\bri\bip\bpt\bts\bs is set, but they will\r\n",
      "       _\bn_\bo_\bt run any pre- or post-scripts.\r\n",
      "\r\n",
      "   a\bau\bud\bdi\bit\bt\r\n",
      "\r\n",
      "       •   Default: true\r\n",
      "\r\n",
      "       •   Type: Boolean\r\n",
      "\r\n",
      "\r\n",
      "       When \"true\" submit audit reports alongside the current npm command to the\r\n",
      "       default registry and all registries configured for scopes. See the\r\n",
      "       documentation for npm help audit for details on what is submitted.\r\n",
      "\r\n",
      "   b\bbi\bin\bn-\b-l\bli\bin\bnk\bks\bs\r\n",
      "\r\n",
      "       •   Default: true\r\n",
      "\r\n",
      "       •   Type: Boolean\r\n",
      "\r\n",
      "\r\n",
      "       Tells npm to create symlinks (or .\b.c\bcm\bmd\bd shims on Windows) for package\r\n",
      "       executables.\r\n",
      "\r\n",
      "       Set to false to have it not do this. This can be used to work around the\r\n",
      "       fact that some file systems don't support symlinks, even on ostensibly\r\n",
      "       Unix systems.\r\n",
      "\r\n",
      "   f\bfu\bun\bnd\bd\r\n",
      "\r\n",
      "       •   Default: true\r\n",
      "\r\n",
      "       •   Type: Boolean\r\n",
      "\r\n",
      "\r\n",
      "       When \"true\" displays the message at the end of each n\bnp\bpm\bm i\bin\bns\bst\bta\bal\bll\bl\r\n",
      "       acknowledging the number of dependencies looking for funding. See npm\r\n",
      "       help fund for details.\r\n",
      "\r\n",
      "   d\bdr\bry\by-\b-r\bru\bun\bn\r\n",
      "\r\n",
      "       •   Default: false\r\n",
      "\r\n",
      "       •   Type: Boolean\r\n",
      "\r\n",
      "\r\n",
      "       Indicates that you don't want npm to make any changes and that it should\r\n",
      "       only report what it would have done. This can be passed into any of the\r\n",
      "       commands that modify your local installation, eg, i\bin\bns\bst\bta\bal\bll\bl, u\bup\bpd\bda\bat\bte\be,\r\n",
      "       d\bde\bed\bdu\bup\bpe\be, u\bun\bni\bin\bns\bst\bta\bal\bll\bl, as well as p\bpa\bac\bck\bk and p\bpu\bub\bbl\bli\bis\bsh\bh.\r\n",
      "\r\n",
      "       Note: This is NOT honored by other network related commands, eg d\bdi\bis\bst\bt-\b-\r\n",
      "       t\bta\bag\bgs\bs, o\bow\bwn\bne\ber\br, etc.\r\n",
      "\r\n",
      "   w\bwo\bor\brk\bks\bsp\bpa\bac\bce\be\r\n",
      "\r\n",
      "       •   Default:\r\n",
      "\r\n",
      "       •   Type: String (can be set multiple times)\r\n",
      "\r\n",
      "\r\n",
      "       Enable running a command in the context of the configured workspaces of\r\n",
      "       the current project while filtering by running only the workspaces\r\n",
      "       defined by this configuration option.\r\n",
      "\r\n",
      "       Valid values for the w\bwo\bor\brk\bks\bsp\bpa\bac\bce\be config are either:\r\n",
      "\r\n",
      "       •   Workspace names\r\n",
      "\r\n",
      "       •   Path to a workspace directory\r\n",
      "\r\n",
      "       •   Path to a parent workspace directory (will result in selecting all\r\n",
      "           workspaces within that folder)\r\n",
      "\r\n",
      "\r\n",
      "       When set for the n\bnp\bpm\bm i\bin\bni\bit\bt command, this may be set to the folder of a\r\n",
      "       workspace which does not yet exist, to create the folder and set it up as\r\n",
      "       a brand new workspace within the project.\r\n",
      "\r\n",
      "       This value is not exported to the environment for child processes.\r\n",
      "\r\n",
      "   w\bwo\bor\brk\bks\bsp\bpa\bac\bce\bes\bs\r\n",
      "\r\n",
      "       •   Default: null\r\n",
      "\r\n",
      "       •   Type: null or Boolean\r\n",
      "\r\n",
      "\r\n",
      "       Set to true to run the command in the context of a\bal\bll\bl configured\r\n",
      "       workspaces.\r\n",
      "\r\n",
      "       Explicitly setting this to false will cause commands like i\bin\bns\bst\bta\bal\bll\bl to\r\n",
      "       ignore workspaces altogether. When not set explicitly:\r\n",
      "\r\n",
      "       •   Commands that operate on the n\bno\bod\bde\be_\b_m\bmo\bod\bdu\bul\ble\bes\bs tree (install, update,\r\n",
      "           etc.) will link workspaces into the n\bno\bod\bde\be_\b_m\bmo\bod\bdu\bul\ble\bes\bs folder. - Commands\r\n",
      "           that do other things (test, exec, publish, etc.) will operate on the\r\n",
      "           root project, _\bu_\bn_\bl_\be_\bs_\bs one or more workspaces are specified in the\r\n",
      "           w\bwo\bor\brk\bks\bsp\bpa\bac\bce\be config.\r\n",
      "\r\n",
      "\r\n",
      "       This value is not exported to the environment for child processes.\r\n",
      "\r\n",
      "   i\bin\bnc\bcl\blu\bud\bde\be-\b-w\bwo\bor\brk\bks\bsp\bpa\bac\bce\be-\b-r\bro\boo\bot\bt\r\n",
      "\r\n",
      "       •   Default: false\r\n",
      "\r\n",
      "       •   Type: Boolean\r\n",
      "\r\n",
      "\r\n",
      "       Include the workspace root when workspaces are enabled for a command.\r\n",
      "\r\n",
      "       When false, specifying individual workspaces via the w\bwo\bor\brk\bks\bsp\bpa\bac\bce\be config, or\r\n",
      "       all workspaces via the w\bwo\bor\brk\bks\bsp\bpa\bac\bce\bes\bs flag, will cause npm to operate only on\r\n",
      "       the specified workspaces, and not on the root project.\r\n",
      "\r\n",
      "       This value is not exported to the environment for child processes.\r\n",
      "\r\n",
      "   i\bin\bns\bst\bta\bal\bll\bl-\b-l\bli\bin\bnk\bks\bs\r\n",
      "\r\n",
      "       •   Default: false\r\n",
      "\r\n",
      "       •   Type: Boolean\r\n",
      "\r\n",
      "\r\n",
      "       When set file: protocol dependencies will be packed and installed as\r\n",
      "       regular dependencies instead of creating a symlink. This option has no\r\n",
      "       effect on workspaces.\r\n",
      "\r\n",
      "   S\bSe\bee\be A\bAl\bls\bso\bo\r\n",
      "\r\n",
      "       •   npm help install\r\n",
      "\r\n",
      "       •   p\bpa\bac\bck\bka\bag\bge\be-\b-l\blo\boc\bck\bk.\b.j\bjs\bso\bon\bn _\b⟨_\b/_\bc_\bo_\bn_\bf_\bi_\bg_\bu_\br_\bi_\bn_\bg_\b-_\bn_\bp_\bm_\b/_\bp_\ba_\bc_\bk_\ba_\bg_\be_\b-_\bl_\bo_\bc_\bk_\b-_\bj_\bs_\bo_\bn_\b⟩\r\n",
      "\r\n",
      "\r\n",
      "\r\n",
      "NPM@10.9.3                          June 2025                          NPM-CI(1)\r\n",
      "\u001b[1G\u001b[0K⠙\u001b[1G\u001b[0K"
     ]
    }
   ],
   "source": [
    "!npm help ci"
   ]
  },
  {
   "cell_type": "code",
   "execution_count": 34,
   "id": "efdb7f1a",
   "metadata": {
    "execution": {
     "iopub.execute_input": "2025-10-21T16:24:21.786420Z",
     "iopub.status.busy": "2025-10-21T16:24:21.785942Z",
     "iopub.status.idle": "2025-10-22T00:17:28.290706Z",
     "shell.execute_reply": "2025-10-22T00:17:28.288129Z"
    }
   },
   "outputs": [
    {
     "name": "stdout",
     "output_type": "stream",
     "text": [
      "/Users/apple/Downloads/My Files/My File/CRUD4/1019-pdf-app-fastapi-vercel-fullstack-master/002-pdf-vercel-frontend/pdf-app\n",
      "\r\n",
      "> pdf-app@0.1.0 dev\r\n",
      "> next dev\r\n",
      "\r\n",
      "\u001b[1G\u001b[0K(node:7756) Warning: The 'NO_COLOR' env is ignored due to the 'FORCE_COLOR' env being set.\r\n",
      "(Use `node --trace-warnings ...` to show where the warning was created)\r\n",
      "(node:7761) Warning: The 'NO_COLOR' env is ignored due to the 'FORCE_COLOR' env being set.\r\n",
      "(Use `node --trace-warnings ...` to show where the warning was created)\r\n",
      "   ▲ Next.js 14.0.4\r\n",
      "   - Local:        http://localhost:3000\r\n",
      "   - Environments: .env.local\r\n",
      "\r\n",
      " ✓ Ready in 6.4s\r\n",
      "\u001b[?25h\r\n",
      "\u001b[1G\u001b[0K⠙\u001b[1G\u001b[0K"
     ]
    }
   ],
   "source": [
    "# Start frontend dev server from frontend dir\n",
    "%cd \"/Users/apple/Downloads/My Files/My File/CRUD4/1019-pdf-app-fastapi-vercel-fullstack-master/002-pdf-vercel-frontend/pdf-app\"\n",
    "!npm run dev"
   ]
  },
  {
   "cell_type": "code",
   "execution_count": 35,
   "id": "8ad4784b",
   "metadata": {
    "execution": {
     "iopub.execute_input": "2025-10-22T00:17:28.302738Z",
     "iopub.status.busy": "2025-10-22T00:17:28.301843Z",
     "iopub.status.idle": "2025-10-22T00:17:30.586286Z",
     "shell.execute_reply": "2025-10-22T00:17:30.585172Z"
    }
   },
   "outputs": [
    {
     "name": "stdout",
     "output_type": "stream",
     "text": [
      "/Users/apple/Downloads/My Files/My File/CRUD4/1019-pdf-app-fastapi-vercel-fullstack-master/001-pdf-fastapi-backend\n",
      "Traceback (most recent call last):\r\n",
      "  File \"/Users/apple/Downloads/My Files/My File/CRUD4/1019-pdf-app-fastapi-vercel-fullstack-master/001-pdf-fastapi-backend/./.venv/bin/uvicorn\", line 5, in <module>\r\n",
      "    from uvicorn.main import main\r\n",
      "  File \"/Users/apple/Downloads/My Files/My File/CRUD4/1019-pdf-app-fastapi-vercel-fullstack-master/001-pdf-fastapi-backend/.venv/lib/python3.11/site-packages/uvicorn/__init__.py\", line 1, in <module>\r\n",
      "    from uvicorn.config import Config\r\n",
      "  File \"/Users/apple/Downloads/My Files/My File/CRUD4/1019-pdf-app-fastapi-vercel-fullstack-master/001-pdf-fastapi-backend/.venv/lib/python3.11/site-packages/uvicorn/config.py\", line 1, in <module>\r\n",
      "    import asyncio\r\n",
      "  File \"/Library/Frameworks/Python.framework/Versions/3.11/lib/python3.11/asyncio/__init__.py\", line 8, in <module>\r\n",
      "    from .base_events import *\r\n",
      "  File \"/Library/Frameworks/Python.framework/Versions/3.11/lib/python3.11/asyncio/base_events.py\", line 40, in <module>\r\n",
      "    from . import events\r\n",
      "  File \"/Library/Frameworks/Python.framework/Versions/3.11/lib/python3.11/asyncio/events.py\", line 14, in <module>\r\n",
      "    import contextvars\r\n",
      "  File \"/Library/Frameworks/Python.framework/Versions/3.11/lib/python3.11/contextvars.py\", line 1, in <module>\r\n",
      "    from _contextvars import Context, ContextVar, Token, copy_context\r\n",
      "ImportError: dlopen(/Library/Frameworks/Python.framework/Versions/3.11/lib/python3.11/lib-dynload/_contextvars.cpython-311-darwin.so, 0x0002): tried: '/Library/Frameworks/Python.framework/Versions/3.11/lib/python3.11/lib-dynload/_contextvars.cpython-311-darwin.so' (code signature in <21F955D6-938B-359F-8659-CF758A9E161F> '/Library/Frameworks/Python.framework/Versions/3.11/lib/python3.11/lib-dynload/_contextvars.cpython-311-darwin.so' not valid for use in process: library load denied by system policy)\r\n"
     ]
    }
   ],
   "source": [
    "# Start FastAPI backend server using venv uvicorn (foreground)\n",
    "%cd \"/Users/apple/Downloads/My Files/My File/CRUD4/1019-pdf-app-fastapi-vercel-fullstack-master/001-pdf-fastapi-backend\"\n",
    "!./.venv/bin/python -c \"from dotenv import load_dotenv; load_dotenv('api.env')\" || true\n",
    "!./.venv/bin/uvicorn main:app --reload --port 8000 --host 127.0.0.1\n"
   ]
  },
  {
   "cell_type": "code",
   "execution_count": 36,
   "id": "d368dbee",
   "metadata": {
    "execution": {
     "iopub.execute_input": "2025-10-22T00:17:30.591084Z",
     "iopub.status.busy": "2025-10-22T00:17:30.590681Z",
     "iopub.status.idle": "2025-10-22T00:17:31.103905Z",
     "shell.execute_reply": "2025-10-22T00:17:31.102453Z"
    }
   },
   "outputs": [
    {
     "name": "stdout",
     "output_type": "stream",
     "text": [
      "\r\n",
      "#Database Configuration\r\n",
      "DATABASE_USER=user12\r\n",
      "DATABASE_PASSWORD=pass12\r\n",
      "DATABASE_HOST=localhost\r\n",
      "DATABASE_PORT=5432\r\n",
      "DATABASE_NAME=mydatabase\r\n"
     ]
    }
   ],
   "source": [
    "!cat api.env"
   ]
  },
  {
   "cell_type": "code",
   "execution_count": 37,
   "id": "cec83022",
   "metadata": {
    "execution": {
     "iopub.execute_input": "2025-10-22T00:17:31.108707Z",
     "iopub.status.busy": "2025-10-22T00:17:31.108388Z",
     "iopub.status.idle": "2025-10-22T00:17:31.677532Z",
     "shell.execute_reply": "2025-10-22T00:17:31.676269Z"
    }
   },
   "outputs": [
    {
     "name": "stdout",
     "output_type": "stream",
     "text": [
      "/Users/apple/Downloads/My Files/My File/CRUD4/1019-pdf-app-fastapi-vercel-fullstack-master/001-pdf-fastapi-backend\n",
      "Traceback (most recent call last):\r\n",
      "  File \"<frozen runpy>\", line 189, in _run_module_as_main\r\n",
      "  File \"<frozen runpy>\", line 148, in _get_module_details\r\n",
      "  File \"<frozen runpy>\", line 112, in _get_module_details\r\n",
      "  File \"/Users/apple/.pyenv/versions/3.11.8/lib/python3.11/site-packages/uvicorn/__init__.py\", line 1, in <module>\r\n",
      "    from uvicorn.config import Config\r\n",
      "  File \"/Users/apple/.pyenv/versions/3.11.8/lib/python3.11/site-packages/uvicorn/config.py\", line 1, in <module>\r\n",
      "    import asyncio\r\n",
      "  File \"/Users/apple/.pyenv/versions/3.11.8/lib/python3.11/asyncio/__init__.py\", line 8, in <module>\r\n",
      "    from .base_events import *\r\n",
      "  File \"/Users/apple/.pyenv/versions/3.11.8/lib/python3.11/asyncio/base_events.py\", line 24, in <module>\r\n",
      "    import socket\r\n",
      "  File \"/Users/apple/.pyenv/versions/3.11.8/lib/python3.11/socket.py\", line 51, in <module>\r\n",
      "    import _socket\r\n",
      "ImportError: dlopen(/Users/apple/.pyenv/versions/3.11.8/lib/python3.11/lib-dynload/_socket.cpython-311-darwin.so, 0x0002): tried: '/Users/apple/.pyenv/versions/3.11.8/lib/python3.11/lib-dynload/_socket.cpython-311-darwin.so' (code signature in <70DAF213-3C25-3182-B805-1C2E6DB4BF76> '/Users/apple/.pyenv/versions/3.11.8/lib/python3.11/lib-dynload/_socket.cpython-311-darwin.so' not valid for use in process: library load denied by system policy)\r\n"
     ]
    }
   ],
   "source": [
    "# Start FastAPI server - SIMPLE VERSION\n",
    "%cd \"/Users/apple/Downloads/My Files/My File/CRUD4/1019-pdf-app-fastapi-vercel-fullstack-master/001-pdf-fastapi-backend\"\n",
    "!python -m uvicorn main:app --reload --port 8000"
   ]
  },
  {
   "cell_type": "code",
   "execution_count": 38,
   "id": "f79ca01e",
   "metadata": {
    "execution": {
     "iopub.execute_input": "2025-10-22T00:17:31.682286Z",
     "iopub.status.busy": "2025-10-22T00:17:31.681966Z",
     "iopub.status.idle": "2025-10-22T00:17:32.177744Z",
     "shell.execute_reply": "2025-10-22T00:17:32.176525Z"
    }
   },
   "outputs": [
    {
     "name": "stdout",
     "output_type": "stream",
     "text": [
      "\"Hello Todo World - Your CRUD API is ready!\""
     ]
    }
   ],
   "source": [
    "# Test server connection (run this after starting the server)\n",
    "!curl http://127.0.0.1:8000/ || echo \"Server not running - start the server cell first\"\n"
   ]
  },
  {
   "cell_type": "code",
   "execution_count": 39,
   "id": "891ec5a3",
   "metadata": {
    "execution": {
     "iopub.execute_input": "2025-10-22T00:17:32.182682Z",
     "iopub.status.busy": "2025-10-22T00:17:32.182295Z",
     "iopub.status.idle": "2025-10-22T00:17:32.206982Z",
     "shell.execute_reply": "2025-10-22T00:17:32.205934Z"
    }
   },
   "outputs": [
    {
     "name": "stdout",
     "output_type": "stream",
     "text": [
      "Server already running\n"
     ]
    }
   ],
   "source": [
    "# Start FastAPI server in background using venv uvicorn (no reloader)\n",
    "import subprocess, time\n",
    "backend_dir = \"/Users/apple/Downloads/My Files/My File/CRUD4/1019-pdf-app-fastapi-vercel-fullstack-master/001-pdf-fastapi-backend\"\n",
    "venv_uvicorn = f\"{backend_dir}/.venv/bin/uvicorn\"\n",
    "# Attempt to start only if not already listening\n",
    "try:\n",
    "    subprocess.run([\"curl\", \"-s\", \"http://127.0.0.1:8000/\"], check=True, capture_output=True)\n",
    "    print(\"Server already running\")\n",
    "except subprocess.CalledProcessError:\n",
    "    p = subprocess.Popen([venv_uvicorn, \"main:app\", \"--host\", \"127.0.0.1\", \"--port\", \"8000\", \"--no-access-log\"], cwd=backend_dir)\n",
    "    time.sleep(1)\n",
    "    print(f\"Uvicorn started with PID {p.pid} at http://127.0.0.1:8000\")\n"
   ]
  },
  {
   "cell_type": "code",
   "execution_count": 40,
   "id": "e6c2027d",
   "metadata": {
    "execution": {
     "iopub.execute_input": "2025-10-22T00:17:32.210898Z",
     "iopub.status.busy": "2025-10-22T00:17:32.210508Z",
     "iopub.status.idle": "2025-10-22T00:17:32.697407Z",
     "shell.execute_reply": "2025-10-22T00:17:32.696048Z"
    }
   },
   "outputs": [
    {
     "name": "stdout",
     "output_type": "stream",
     "text": [
      "\"Hello Todo World - Your CRUD API is ready!\""
     ]
    }
   ],
   "source": [
    "# Backend health check\n",
    "!curl -s http://127.0.0.1:8000/ || echo \"Server not running\""
   ]
  },
  {
   "cell_type": "code",
   "execution_count": null,
   "id": "97c5404b",
   "metadata": {},
   "outputs": [],
   "source": []
  }
 ],
 "metadata": {
  "kernelspec": {
   "display_name": "base",
   "language": "python",
   "name": "python3"
  },
  "language_info": {
   "codemirror_mode": {
    "name": "ipython",
    "version": 3
   },
   "file_extension": ".py",
   "mimetype": "text/x-python",
   "name": "python",
   "nbconvert_exporter": "python",
   "pygments_lexer": "ipython3",
   "version": "3.11.8"
  }
 },
 "nbformat": 4,
 "nbformat_minor": 5
}
