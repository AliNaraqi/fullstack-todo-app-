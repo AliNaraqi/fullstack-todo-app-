{
 "cells": [
  {
   "cell_type": "code",
   "execution_count": 1,
   "id": "b7cebec9",
   "metadata": {},
   "outputs": [
    {
     "name": "stdout",
     "output_type": "stream",
     "text": [
      "/Users/apple/Downloads/My Files/My File/CRUD4/1019-pdf-app-fastapi-vercel-fullstack-master/001-pdf-fastapi-backend\n"
     ]
    }
   ],
   "source": [
    "%cd /Users/apple/Downloads/My Files/My File/CRUD4/1019-pdf-app-fastapi-vercel-fullstack-master/001-pdf-fastapi-backend"
   ]
  },
  {
   "cell_type": "code",
   "execution_count": 2,
   "id": "30a53900",
   "metadata": {},
   "outputs": [
    {
     "name": "stdout",
     "output_type": "stream",
     "text": [
      "📁 Alembic Project Structure:\n",
      "\n",
      "📄 Configuration files:\n",
      "✅ alembic.ini\n",
      "\n",
      "📁 Alembic directory:\n",
      "✅ alembic/ directory exists\n",
      "   Contents: ['script.py.mako', 'env.py', 'versions', '__pycache__', 'README']\n",
      "   Migrations: 2 files\n",
      "     📄 30a84d438097_create_pdfs_table.py\n"
     ]
    }
   ],
   "source": [
    "# Check Alembic-related files\n",
    "import os\n",
    "\n",
    "print(\"📁 Alembic Project Structure:\")\n",
    "print(\"\\n📄 Configuration files:\")\n",
    "config_files = ['alembic.ini']\n",
    "for file in config_files:\n",
    "    if os.path.exists(file):\n",
    "        print(f\"✅ {file}\")\n",
    "    else:\n",
    "        print(f\"❌ {file} (missing)\")\n",
    "\n",
    "print(\"\\n📁 Alembic directory:\")\n",
    "if os.path.exists('alembic') and os.path.isdir('alembic'):\n",
    "    print(\"✅ alembic/ directory exists\")\n",
    "    \n",
    "    # Check contents of alembic directory\n",
    "    alembic_contents = os.listdir('alembic')\n",
    "    print(f\"   Contents: {alembic_contents}\")\n",
    "    \n",
    "    # Check for versions directory\n",
    "    if os.path.exists('alembic/versions'):\n",
    "        versions = os.listdir('alembic/versions')\n",
    "        print(f\"   Migrations: {len(versions)} files\")\n",
    "        for version in versions:\n",
    "            if version.endswith('.py') and version != '__pycache__':\n",
    "                print(f\"     📄 {version}\")\n",
    "    else:\n",
    "        print(\"❌ alembic/versions directory missing\")\n",
    "else:\n",
    "    print(\"❌ alembic/ directory missing\")"
   ]
  },
  {
   "cell_type": "code",
   "execution_count": 3,
   "id": "0fec738b",
   "metadata": {},
   "outputs": [
    {
     "name": "stdout",
     "output_type": "stream",
     "text": [
      "# A generic, single database configuration.\n",
      "\n",
      "[alembic]\n",
      "# path to migration scripts\n",
      "script_location = alembic\n",
      "\n",
      "# template used to generate migration file names; The default value is %%(rev)s_%%(slug)s\n",
      "# Uncomment the line below if you want the files to be prepended with date and time\n",
      "# see https://alembic.sqlalchemy.org/en/latest/tutorial.html#editing-the-ini-file\n",
      "# for all available tokens\n",
      "# file_template = %%(year)d_%%(month).2d_%%(day).2d_%%(hour).2d%%(minute).2d-%%(rev)s_%%(slug)s\n",
      "\n",
      "# sys.path path, will be prepended to sys.path if present.\n",
      "# defaults to the current working directory.\n",
      "prepend_sys_path = .\n",
      "\n",
      "# timezone to use when rendering the date within the migration file\n",
      "# as well as the filename.\n",
      "# If specified, requires the python>=3.9 or backports.zoneinfo library.\n",
      "# Any required deps can installed by adding `alembic[tz]` to the pip requirements\n",
      "# string value is passed to ZoneInfo()\n",
      "# leave blank for localtime\n",
      "# timezone =\n",
      "\n",
      "# max length of characters to apply to the\n",
      "# \"slug\" field\n",
      "# truncate_slug_length = 40\n",
      "\n",
      "# set to 'true' to run the environment during\n",
      "# the 'revision' command, regardless of autogenerate\n"
     ]
    }
   ],
   "source": [
    "# Let's examine the alembic.ini file\n",
    "!head -30 alembic.ini"
   ]
  },
  {
   "cell_type": "code",
   "execution_count": 4,
   "id": "fa85ea7c",
   "metadata": {},
   "outputs": [
    {
     "name": "stdout",
     "output_type": "stream",
     "text": [
      "from dotenv import load_dotenv\n",
      "from pathlib import Path\n",
      "load_dotenv()\n",
      "\n",
      "from logging.config import fileConfig\n",
      "\n",
      "from sqlalchemy import engine_from_config\n",
      "from sqlalchemy import pool\n",
      "\n",
      "from alembic import context\n",
      "\n",
      "# this is the Alembic Config object, which provides\n",
      "# access to the values within the .ini file in use.\n",
      "config = context.config\n",
      "\n",
      "import os\n",
      "\n",
      "# Ensure environment variables are loaded from a local api.env if present\n",
      "# This mirrors the runtime behavior in database.py so CLI migrations work the same way.\n",
      "backend_dir = Path(__file__).resolve().parents[1]\n",
      "api_env_path = backend_dir / \"api.env\"\n",
      "if api_env_path.exists():\n",
      "    load_dotenv(dotenv_path=api_env_path, override=True)\n",
      "\n",
      "# Prefer a single DATABASE_URL; otherwise assemble from individual parts\n",
      "database_url = os.getenv(\"DATABASE_URL\")\n",
      "if not database_url:\n",
      "    user = os.getenv(\"DATABASE_USER\")\n",
      "    password = os.getenv(\"DATABASE_PASSWORD\", \"\")\n",
      "    host = os.getenv(\"DATABASE_HOST\", \"localhost\")\n",
      "    port = os.getenv(\"DATABASE_PORT\", \"5432\")\n",
      "    name = os.getenv(\"DATABASE_NAME\")\n",
      "\n",
      "    if not user or not name:\n",
      "        raise RuntimeError(\n",
      "            \"Database configuration is incomplete. Set DATABASE_URL or DATABASE_USER and DATABASE_NAME (and optional DATABASE_PASSWORD, DATABASE_HOST, DATABASE_PORT).\"\n",
      "        )\n",
      "\n",
      "    database_url = f\"postgresql://{user}:{password}@{host}:{port}/{name}\"\n",
      "\n",
      "config.set_main_option(\"sqlalchemy.url\", database_url)\n",
      "\n",
      "\n",
      "# Interpret the config file for Python logging.\n",
      "# This line sets up loggers basically.\n",
      "if config.config_file_name is not None:\n",
      "    fileConfig(config.config_file_name)\n",
      "\n",
      "# add your model's MetaData object here\n",
      "# for 'autogenerate' support\n"
     ]
    }
   ],
   "source": [
    "# Let's examine the env.py file\n",
    "!head -50 alembic/env.py"
   ]
  },
  {
   "cell_type": "code",
   "execution_count": 5,
   "id": "ec466079",
   "metadata": {},
   "outputs": [
    {
     "name": "stdout",
     "output_type": "stream",
     "text": [
      "25:# Prefer a single DATABASE_URL; otherwise assemble from individual parts\n",
      "26:database_url = os.getenv(\"DATABASE_URL\")\n",
      "28:    user = os.getenv(\"DATABASE_USER\")\n",
      "29:    password = os.getenv(\"DATABASE_PASSWORD\", \"\")\n",
      "30:    host = os.getenv(\"DATABASE_HOST\", \"localhost\")\n",
      "31:    port = os.getenv(\"DATABASE_PORT\", \"5432\")\n",
      "32:    name = os.getenv(\"DATABASE_NAME\")\n",
      "36:            \"Database configuration is incomplete. Set DATABASE_URL or DATABASE_USER and DATABASE_NAME (and optional DATABASE_PASSWORD, DATABASE_HOST, DATABASE_PORT).\"\n",
      "51:from models import Base\n"
     ]
    }
   ],
   "source": [
    "# Check if env.py has our database configuration\n",
    "!grep -n \"models\\|DATABASE\\|os.environ\" alembic/env.py || echo \"Configuration may need updating\""
   ]
  },
  {
   "cell_type": "code",
   "execution_count": 6,
   "id": "b94e9dca",
   "metadata": {},
   "outputs": [
    {
     "name": "stdout",
     "output_type": "stream",
     "text": [
      "✅ Using SQLite database for testing (overriding DATABASE_URL)\n",
      "INFO  [alembic.runtime.migration] Context impl PostgresqlImpl.\n",
      "INFO  [alembic.runtime.migration] Will assume transactional DDL.\n",
      "30a84d438097 (head)\n"
     ]
    }
   ],
   "source": [
    "# Check current migration status using venv alembic\n",
    "!./.venv/bin/python -m alembic current"
   ]
  },
  {
   "cell_type": "code",
   "execution_count": 7,
   "id": "12a02b02",
   "metadata": {},
   "outputs": [
    {
     "name": "stdout",
     "output_type": "stream",
     "text": [
      "<base> -> 30a84d438097 (head), create pdfs table\n"
     ]
    }
   ],
   "source": [
    "# Test alembic commands with venv\n",
    "!./.venv/bin/python -m alembic history"
   ]
  },
  {
   "cell_type": "code",
   "execution_count": 8,
   "id": "3a063bab",
   "metadata": {},
   "outputs": [
    {
     "name": "stdout",
     "output_type": "stream",
     "text": [
      "Rev: 30a84d438097 (head)\n",
      "Parent: <base>\n",
      "Path: /Users/apple/Downloads/My Files/My File/CRUD4/1019-pdf-app-fastapi-vercel-fullstack-master/001-pdf-fastapi-backend/alembic/versions/30a84d438097_create_pdfs_table.py\n",
      "\n",
      "    create pdfs table\n",
      "    \n",
      "    Revision ID: 30a84d438097\n",
      "    Revises: \n",
      "    Create Date: 2023-12-12 11:48:48.793261\n",
      "\n"
     ]
    }
   ],
   "source": [
    "!alembic history --verbose"
   ]
  },
  {
   "cell_type": "code",
   "execution_count": 9,
   "id": "4ed4c81a",
   "metadata": {},
   "outputs": [
    {
     "name": "stdout",
     "output_type": "stream",
     "text": [
      "📄 Found 1 migration file(s):\n",
      "   alembic/versions/30a84d438097_create_pdfs_table.py\n",
      "\n",
      "📋 Latest migration: 30a84d438097_create_pdfs_table.py\n"
     ]
    }
   ],
   "source": [
    "# Find our migration file\n",
    "import os\n",
    "import glob\n",
    "\n",
    "migration_files = glob.glob('alembic/versions/*.py')\n",
    "migration_files = [f for f in migration_files if '__pycache__' not in f]\n",
    "\n",
    "print(f\"📄 Found {len(migration_files)} migration file(s):\")\n",
    "for file in migration_files:\n",
    "    print(f\"   {file}\")\n",
    "\n",
    "if migration_files:\n",
    "    latest_migration = migration_files[0]  # Assuming we have one\n",
    "    print(f\"\\n📋 Latest migration: {os.path.basename(latest_migration)}\")\n",
    "else:\n",
    "    print(\"❌ No migration files found\")"
   ]
  },
  {
   "cell_type": "code",
   "execution_count": 10,
   "id": "a50f65bd",
   "metadata": {},
   "outputs": [
    {
     "name": "stdout",
     "output_type": "stream",
     "text": [
      "📄 Content of alembic/versions/30a84d438097_create_pdfs_table.py:\n",
      "==================================================\n",
      "\"\"\"create pdfs table\n",
      "\n",
      "Revision ID: 30a84d438097\n",
      "Revises: \n",
      "Create Date: 2023-12-12 11:48:48.793261\n",
      "\n",
      "\"\"\"\n",
      "from typing import Sequence, Union\n",
      "\n",
      "from alembic import op\n",
      "import sqlalchemy as sa\n",
      "\n",
      "\n",
      "# revision identifiers, used by Alembic.\n",
      "revision: str = '30a84d438097'\n",
      "down_revision: Union[str, None] = None\n",
      "branch_labels: Union[str, Sequence[str], None] = None\n",
      "depends_on: Union[str, Sequence[str], None] = None\n",
      "\n",
      "\n",
      "def upgrade():\n",
      "    op.create_table(\n",
      "        'pdfs',\n",
      "        sa.Column('id', sa.BigInteger, primary_key=True),\n",
      "        sa.Column('name', sa.Text, nullable=False),\n",
      "        sa.Column('file', sa.Text, nullable=False),\n",
      "        sa.Column('selected', sa.Boolean, nullable=False, default=False)\n",
      "    )\n",
      "\n",
      "def downgrade():\n",
      "    op.drop_table('pdfs')\n",
      "\n"
     ]
    }
   ],
   "source": [
    "# Read the migration file content\n",
    "import glob\n",
    "\n",
    "migration_files = glob.glob('alembic/versions/*.py')\n",
    "if migration_files:\n",
    "    migration_file = migration_files[0]\n",
    "    print(f\"📄 Content of {migration_file}:\")\n",
    "    print(\"=\" * 50)\n",
    "    with open(migration_file, 'r') as f:\n",
    "        print(f.read())\n",
    "else:\n",
    "    print(\"❌ No migration file found to read\")"
   ]
  },
  {
   "cell_type": "code",
   "execution_count": 11,
   "id": "2da99431",
   "metadata": {},
   "outputs": [
    {
     "name": "stdout",
     "output_type": "stream",
     "text": [
      "             List of relations\n",
      " Schema |      Name       | Type  | Owner  \n",
      "--------+-----------------+-------+--------\n",
      " public | alembic_version | table | user12\n",
      " public | pdfs            | table | user12\n",
      " public | todos           | table | user12\n",
      "(3 rows)\n",
      "\n"
     ]
    }
   ],
   "source": [
    "# Check what tables exist before migration\n",
    "# Use full path to psql since it might not be in PATH in Jupyter\n",
    "!PGPASSWORD=pass12 /usr/local/opt/postgresql@15/bin/psql -U user12 -h localhost -d mydatabase -c \"\\dt\""
   ]
  },
  {
   "cell_type": "code",
   "execution_count": 12,
   "id": "9af024f1",
   "metadata": {},
   "outputs": [
    {
     "name": "stdout",
     "output_type": "stream",
     "text": [
      "🔍 Testing PostgreSQL connection...\n",
      "✅ PostgreSQL connection successful!\n",
      "📊 Database version:\n",
      "    PostgreSQL 15.14 (Homebrew) on x86_64-apple-darwin21.6.0, compiled by Apple clang version 14.0.0 (clang-1400.0.29.202), 64-bit\n",
      "\n",
      "📋 Current tables in database:\n",
      "                List of relations\n",
      "    Schema |      Name       | Type  | Owner  \n",
      "   --------+-----------------+-------+--------\n",
      "    public | alembic_version | table | user12\n",
      "    public | pdfs            | table | user12\n",
      "    public | todos           | table | user12\n",
      "   (3 rows)\n",
      "   \n"
     ]
    }
   ],
   "source": [
    "# Test PostgreSQL connection and show database info\n",
    "print(\"🔍 Testing PostgreSQL connection...\")\n",
    "\n",
    "# Test basic connection\n",
    "result = !PGPASSWORD=pass12 /usr/local/opt/postgresql@15/bin/psql -U user12 -h localhost -d mydatabase -c \"SELECT version();\"\n",
    "print(\"✅ PostgreSQL connection successful!\")\n",
    "print(\"📊 Database version:\")\n",
    "for line in result:\n",
    "    if \"PostgreSQL\" in line:\n",
    "        print(f\"   {line}\")\n",
    "\n",
    "# Show current tables\n",
    "print(\"\\n📋 Current tables in database:\")\n",
    "tables_result = !PGPASSWORD=pass12 /usr/local/opt/postgresql@15/bin/psql -U user12 -h localhost -d mydatabase -c \"\\dt\"\n",
    "for line in tables_result:\n",
    "    print(f\"   {line}\")\n"
   ]
  },
  {
   "cell_type": "code",
   "execution_count": 13,
   "id": "3a372e0a",
   "metadata": {},
   "outputs": [
    {
     "name": "stdout",
     "output_type": "stream",
     "text": [
      "✅ Using SQLite database for testing (overriding DATABASE_URL)\n",
      "INFO  [alembic.runtime.migration] Context impl PostgresqlImpl.\n",
      "INFO  [alembic.runtime.migration] Will assume transactional DDL.\n"
     ]
    }
   ],
   "source": [
    "# Use the virtual environment's alembic to avoid import issues\n",
    "!./.venv/bin/python -m alembic upgrade head"
   ]
  },
  {
   "cell_type": "code",
   "execution_count": 14,
   "id": "676fd44f",
   "metadata": {},
   "outputs": [
    {
     "name": "stdout",
     "output_type": "stream",
     "text": [
      "🔍 Checking migration status...\n"
     ]
    },
    {
     "name": "stdout",
     "output_type": "stream",
     "text": [
      "✅ Using SQLite database for testing (overriding DATABASE_URL)\n",
      "INFO  [alembic.runtime.migration] Context impl PostgresqlImpl.\n",
      "INFO  [alembic.runtime.migration] Will assume transactional DDL.\n",
      "30a84d438097 (head)\n",
      "\n",
      "📋 Migration history:\n",
      "Rev: 30a84d438097 (head)\n",
      "Parent: <base>\n",
      "Path: /Users/apple/Downloads/My Files/My File/CRUD4/1019-pdf-app-fastapi-vercel-fullstack-master/001-pdf-fastapi-backend/alembic/versions/30a84d438097_create_pdfs_table.py\n",
      "\n",
      "    create pdfs table\n",
      "    \n",
      "    Revision ID: 30a84d438097\n",
      "    Revises: \n",
      "    Create Date: 2023-12-12 11:48:48.793261\n",
      "\n"
     ]
    }
   ],
   "source": [
    "# Verify migration status after upgrade\n",
    "print(\"🔍 Checking migration status...\")\n",
    "!./.venv/bin/python -m alembic current\n",
    "print(\"\\n📋 Migration history:\")\n",
    "!./.venv/bin/python -m alembic history --verbose\n"
   ]
  },
  {
   "cell_type": "code",
   "execution_count": 15,
   "id": "c6761680",
   "metadata": {},
   "outputs": [
    {
     "name": "stdout",
     "output_type": "stream",
     "text": [
      "📋 Tables in database after migration:\n"
     ]
    },
    {
     "name": "stdout",
     "output_type": "stream",
     "text": [
      "             List of relations\n",
      " Schema |      Name       | Type  | Owner  \n",
      "--------+-----------------+-------+--------\n",
      " public | alembic_version | table | user12\n",
      " public | pdfs            | table | user12\n",
      " public | todos           | table | user12\n",
      "(3 rows)\n",
      "\n"
     ]
    }
   ],
   "source": [
    "# Check tables after migration\n",
    "print(\"📋 Tables in database after migration:\")\n",
    "!PGPASSWORD=pass12 /usr/local/opt/postgresql@15/bin/psql -U user12 -h localhost -d mydatabase -c \"\\dt\""
   ]
  },
  {
   "cell_type": "code",
   "execution_count": 16,
   "id": "0b7efd09",
   "metadata": {},
   "outputs": [
    {
     "name": "stdout",
     "output_type": "stream",
     "text": [
      "🔍 Structure of todos table:\n"
     ]
    },
    {
     "name": "stdout",
     "output_type": "stream",
     "text": [
      "                              Table \"public.todos\"\n",
      "  Column   |  Type   | Collation | Nullable |              Default              \n",
      "-----------+---------+-----------+----------+-----------------------------------\n",
      " id        | bigint  |           | not null | nextval('todos_id_seq'::regclass)\n",
      " name      | text    |           |          | \n",
      " completed | boolean |           | not null | false\n",
      "Indexes:\n",
      "    \"todos_pkey\" PRIMARY KEY, btree (id)\n",
      "\n"
     ]
    }
   ],
   "source": [
    "# Check the structure of our todos table\n",
    "print(\"🔍 Structure of todos table:\")\n",
    "!PGPASSWORD=pass12 /usr/local/opt/postgresql@15/bin/psql -U user12 -h localhost -d mydatabase -c \"\\d todos\""
   ]
  },
  {
   "cell_type": "code",
   "execution_count": 17,
   "id": "a872bf6a",
   "metadata": {},
   "outputs": [
    {
     "name": "stdout",
     "output_type": "stream",
     "text": [
      "📊 Current Alembic migration status:\n",
      "✅ Using SQLite database for testing (overriding DATABASE_URL)\n",
      "INFO  [alembic.runtime.migration] Context impl PostgresqlImpl.\n",
      "INFO  [alembic.runtime.migration] Will assume transactional DDL.\n",
      "30a84d438097 (head)\n"
     ]
    }
   ],
   "source": [
    "# Check current migration version\n",
    "print(\"📊 Current Alembic migration status:\")\n",
    "!./.venv/bin/python -m alembic current"
   ]
  },
  {
   "cell_type": "code",
   "execution_count": 18,
   "id": "ddbc1cdf",
   "metadata": {},
   "outputs": [
    {
     "name": "stdout",
     "output_type": "stream",
     "text": [
      "➕ Testing todo insertion:\n",
      "INSERT 0 1\n"
     ]
    }
   ],
   "source": [
    "# Test inserting a todo\n",
    "print(\"➕ Testing todo insertion:\")\n",
    "!PGPASSWORD=pass12 /usr/local/opt/postgresql@15/bin/psql -U user12 -h localhost -d mydatabase -c \"INSERT INTO todos (name, completed) VALUES ('Test todo from migration', false);\""
   ]
  },
  {
   "cell_type": "code",
   "execution_count": 19,
   "id": "e320a50e",
   "metadata": {},
   "outputs": [
    {
     "name": "stdout",
     "output_type": "stream",
     "text": [
      "📋 Testing todo selection:\n",
      " id |           name           | completed \n",
      "----+--------------------------+-----------\n",
      "  1 | Test todo from migration | f\n",
      "(1 row)\n",
      "\n"
     ]
    }
   ],
   "source": [
    "# Test selecting todos\n",
    "print(\"📋 Testing todo selection:\")\n",
    "!PGPASSWORD=pass12 /usr/local/opt/postgresql@15/bin/psql -U user12 -h localhost -d mydatabase -c \"SELECT * FROM todos;\""
   ]
  },
  {
   "cell_type": "code",
   "execution_count": 20,
   "id": "cefd03e0",
   "metadata": {},
   "outputs": [
    {
     "name": "stdout",
     "output_type": "stream",
     "text": [
      "📋 Testing todo selection:\n",
      "UPDATE 1\n"
     ]
    }
   ],
   "source": [
    "# Test selecting todos\n",
    "print(\"📋 Testing todo selection:\")\n",
    "!PGPASSWORD=pass12 /usr/local/opt/postgresql@15/bin/psql -U user12 -h localhost -d mydatabase -c \"UPDATE todos SET completed = true WHERE name = 'Test todo from migration';\""
   ]
  },
  {
   "cell_type": "code",
   "execution_count": 21,
   "id": "7df8dc2f",
   "metadata": {},
   "outputs": [
    {
     "name": "stdout",
     "output_type": "stream",
     "text": [
      "🔍 Verifying update:\n",
      " id |           name           | completed \n",
      "----+--------------------------+-----------\n",
      "  1 | Test todo from migration | t\n",
      "(1 row)\n",
      "\n"
     ]
    }
   ],
   "source": [
    "# Verify the update worked\n",
    "print(\"🔍 Verifying update:\")\n",
    "!PGPASSWORD=pass12 /usr/local/opt/postgresql@15/bin/psql -U user12 -h localhost -d mydatabase -c \"SELECT * FROM todos;\" "
   ]
  },
  {
   "cell_type": "code",
   "execution_count": 22,
   "id": "4db61526",
   "metadata": {},
   "outputs": [
    {
     "name": "stdout",
     "output_type": "stream",
     "text": [
      "🧹 Cleaning up test data:\n",
      "psql: warning: extra command-line argument \"!PGPASSWORD=pass12\" ignored\n",
      "psql: warning: extra command-line argument \"/usr/local/opt/postgresql@15/bin/psql\" ignored\n",
      " id |           name           | completed \n",
      "----+--------------------------+-----------\n",
      "  1 | Test todo from migration | t\n",
      "(1 row)\n",
      "\n",
      "DELETE 1\n"
     ]
    }
   ],
   "source": [
    "# Clean up test data\n",
    "print(\"🧹 Cleaning up test data:\")\n",
    "!PGPASSWORD=pass12 /usr/local/opt/postgresql@15/bin/psql -U user12 -h localhost -d mydatabase -c \"SELECT * FROM todos;\" !PGPASSWORD=pass12 /usr/local/opt/postgresql@15/bin/psql -U user12 -h localhost -d mydatabase -c  \"DELETE FROM todos WHERE name = 'Test todo from migration';\""
   ]
  },
  {
   "cell_type": "code",
   "execution_count": 23,
   "id": "483a70df",
   "metadata": {},
   "outputs": [
    {
     "name": "stdout",
     "output_type": "stream",
     "text": [
      "📊 Current state before rollback test:\n",
      "✅ Using SQLite database for testing (overriding DATABASE_URL)\n",
      "INFO  [alembic.runtime.migration] Context impl PostgresqlImpl.\n",
      "INFO  [alembic.runtime.migration] Will assume transactional DDL.\n",
      "30a84d438097 (head)\n",
      "\n",
      "📋 Current tables:\n",
      "             List of relations\n",
      " Schema |      Name       | Type  | Owner  \n",
      "--------+-----------------+-------+--------\n",
      " public | alembic_version | table | user12\n",
      " public | pdfs            | table | user12\n",
      " public | todos           | table | user12\n",
      "(3 rows)\n",
      "\n"
     ]
    }
   ],
   "source": [
    "# Check current migration state\n",
    "print(\"📊 Current state before rollback test:\")\n",
    "!./.venv/bin/python -m alembic current\n",
    "\n",
    "print(\"\\n📋 Current tables:\")\n",
    "!PGPASSWORD=pass12 /usr/local/opt/postgresql@15/bin/psql -U user12 -h localhost -d mydatabase -c \"\\dt\""
   ]
  },
  {
   "cell_type": "code",
   "execution_count": 24,
   "id": "9f061e22",
   "metadata": {},
   "outputs": [
    {
     "name": "stdout",
     "output_type": "stream",
     "text": [
      "⬇️ Rolling back one migration (demo only):\n",
      "✅ Using SQLite database for testing (overriding DATABASE_URL)\n",
      "INFO  [alembic.runtime.migration] Context impl PostgresqlImpl.\n",
      "INFO  [alembic.runtime.migration] Will assume transactional DDL.\n",
      "INFO  [alembic.runtime.migration] Running downgrade 30a84d438097 -> , create pdfs table\n"
     ]
    }
   ],
   "source": [
    "# Rollback one migration (this will remove our todos table!)\n",
    "print(\"⬇️ Rolling back one migration (demo only):\")\n",
    "!./.venv/bin/python -m alembic downgrade -1"
   ]
  },
  {
   "cell_type": "code",
   "execution_count": 25,
   "id": "d0507374",
   "metadata": {},
   "outputs": [
    {
     "name": "stdout",
     "output_type": "stream",
     "text": [
      "📊 State after rollback:\n",
      "✅ Using SQLite database for testing (overriding DATABASE_URL)\n",
      "INFO  [alembic.runtime.migration] Context impl PostgresqlImpl.\n",
      "INFO  [alembic.runtime.migration] Will assume transactional DDL.\n",
      "\n",
      "📋 Tables after rollback (should be empty or only alembic_version):\n",
      "             List of relations\n",
      " Schema |      Name       | Type  | Owner  \n",
      "--------+-----------------+-------+--------\n",
      " public | alembic_version | table | user12\n",
      " public | todos           | table | user12\n",
      "(2 rows)\n",
      "\n"
     ]
    }
   ],
   "source": [
    "# Check state after rollback\n",
    "print(\"📊 State after rollback:\")\n",
    "!./.venv/bin/python -m alembic current\n",
    "\n",
    "print(\"\\n📋 Tables after rollback (should be empty or only alembic_version):\")\n",
    "!PGPASSWORD=pass12 /usr/local/opt/postgresql@15/bin/psql -U user12 -h localhost -d mydatabase -c \"\\dt\""
   ]
  },
  {
   "cell_type": "code",
   "execution_count": 26,
   "id": "da498be7",
   "metadata": {},
   "outputs": [
    {
     "name": "stdout",
     "output_type": "stream",
     "text": [
      "⬆️ Rolling forward to restore todos table:\n",
      "✅ Using SQLite database for testing (overriding DATABASE_URL)\n",
      "INFO  [alembic.runtime.migration] Context impl PostgresqlImpl.\n",
      "INFO  [alembic.runtime.migration] Will assume transactional DDL.\n",
      "INFO  [alembic.runtime.migration] Running upgrade  -> 30a84d438097, create pdfs table\n"
     ]
    }
   ],
   "source": [
    "# Roll forward to get our table back\n",
    "print(\"⬆️ Rolling forward to restore todos table:\")\n",
    "!./.venv/bin/python -m alembic upgrade head"
   ]
  },
  {
   "cell_type": "code",
   "execution_count": 27,
   "id": "9a657b20",
   "metadata": {},
   "outputs": [
    {
     "name": "stdout",
     "output_type": "stream",
     "text": [
      "🔍 Verifying table restoration:\n",
      "             List of relations\n",
      " Schema |      Name       | Type  | Owner  \n",
      "--------+-----------------+-------+--------\n",
      " public | alembic_version | table | user12\n",
      " public | pdfs            | table | user12\n",
      " public | todos           | table | user12\n",
      "(3 rows)\n",
      "\n"
     ]
    }
   ],
   "source": [
    "# Verify the table is back\n",
    "print(\"🔍 Verifying table restoration:\")\n",
    "!PGPASSWORD=pass12 /usr/local/opt/postgresql@15/bin/psql -U user12 -h localhost -d mydatabase -c \"\\dt\""
   ]
  },
  {
   "cell_type": "code",
   "execution_count": 28,
   "id": "7570ea79",
   "metadata": {},
   "outputs": [
    {
     "name": "stdout",
     "output_type": "stream",
     "text": [
      "📋 Example of enhanced model with priority field:\n",
      "\n",
      "from sqlalchemy import Boolean, Column, ForeignKey, Integer, String\n",
      "from sqlalchemy.orm import relationship\n",
      "\n",
      "from database import Base\n",
      "\n",
      "class ToDo(Base):\n",
      "    __tablename__ = \"todos\"\n",
      "\n",
      "    id = Column(Integer, primary_key=True, index=True)\n",
      "    name = Column(String)\n",
      "    completed = Column(Boolean, default=False)\n",
      "    # NEW: Priority field (1=low, 2=medium, 3=high)\n",
      "    priority = Column(Integer, default=1)\n",
      "\n",
      "\n",
      "💡 If we added this field to models.py, we could generate a migration with:\n",
      "   alembic revision --autogenerate -m 'add priority field to todos'\n"
     ]
    }
   ],
   "source": [
    "# Let's create a temporary enhanced model to show migration generation\n",
    "enhanced_model_code = '''\n",
    "from sqlalchemy import Boolean, Column, ForeignKey, Integer, String\n",
    "from sqlalchemy.orm import relationship\n",
    "\n",
    "from database import Base\n",
    "\n",
    "class ToDo(Base):\n",
    "    __tablename__ = \"todos\"\n",
    "\n",
    "    id = Column(Integer, primary_key=True, index=True)\n",
    "    name = Column(String)\n",
    "    completed = Column(Boolean, default=False)\n",
    "    # NEW: Priority field (1=low, 2=medium, 3=high)\n",
    "    priority = Column(Integer, default=1)\n",
    "'''\n",
    "\n",
    "print(\"📋 Example of enhanced model with priority field:\")\n",
    "print(enhanced_model_code)\n",
    "print(\"\\n💡 If we added this field to models.py, we could generate a migration with:\")\n",
    "print(\"   alembic revision --autogenerate -m 'add priority field to todos'\")"
   ]
  },
  {
   "cell_type": "code",
   "execution_count": 29,
   "id": "1b2a3b98",
   "metadata": {},
   "outputs": [
    {
     "name": "stdout",
     "output_type": "stream",
     "text": [
      "📊 Example Data Migration:\n",
      "\n",
      "def upgrade():\n",
      "    # 1. Add new column\n",
      "    op.add_column('todos', sa.Column('priority', sa.Integer(), default=1))\n",
      "    \n",
      "    # 2. Migrate existing data\n",
      "    connection = op.get_bind()\n",
      "    \n",
      "    # Set priority based on existing data\n",
      "    connection.execute(\n",
      "        \"UPDATE todos SET priority = 3 WHERE name ILIKE '%urgent%'\"\n",
      "    )\n",
      "    connection.execute(\n",
      "        \"UPDATE todos SET priority = 2 WHERE name ILIKE '%important%'\"\n",
      "    )\n",
      "    connection.execute(\n",
      "        \"UPDATE todos SET priority = 1 WHERE priority IS NULL\"\n",
      "    )\n",
      "\n",
      "def downgrade():\n",
      "    # Remove the column (data will be lost!)\n",
      "    op.drop_column('todos', 'priority')\n",
      "\n",
      "\n",
      "💡 This migration adds a priority column and sets values based on existing todo names.\n",
      "📊 Example Data Migration:\n",
      "\n",
      "def upgrade():\n",
      "    # 1. Add new column\n",
      "    op.add_column('todos', sa.Column('priority', sa.Integer(), default=1))\n",
      "    \n",
      "    # 2. Migrate existing data\n",
      "    connection = op.get_bind()\n",
      "    \n",
      "    # Set priority based on existing data\n",
      "    connection.execute(\n",
      "        \"UPDATE todos SET priority = 3 WHERE name ILIKE '%urgent%'\"\n",
      "    )\n",
      "    connection.execute(\n",
      "        \"UPDATE todos SET priority = 2 WHERE name ILIKE '%important%'\"\n",
      "    )\n",
      "    connection.execute(\n",
      "        \"UPDATE todos SET priority = 1 WHERE priority IS NULL\"\n",
      "    )\n",
      "\n",
      "def downgrade():\n",
      "    # Remove the column (data will be lost!)\n",
      "    op.drop_column('todos', 'priority')\n",
      "\n",
      "\n",
      "💡 This migration adds a priority column and sets values based on existing todo names.\n"
     ]
    }
   ],
   "source": [
    "# Example of a data migration\n",
    "data_migration_example = '''\n",
    "def upgrade():\n",
    "    # 1. Add new column\n",
    "    op.add_column('todos', sa.Column('priority', sa.Integer(), default=1))\n",
    "    \n",
    "    # 2. Migrate existing data\n",
    "    connection = op.get_bind()\n",
    "    \n",
    "    # Set priority based on existing data\n",
    "    connection.execute(\n",
    "        \"UPDATE todos SET priority = 3 WHERE name ILIKE '%urgent%'\"\n",
    "    )\n",
    "    connection.execute(\n",
    "        \"UPDATE todos SET priority = 2 WHERE name ILIKE '%important%'\"\n",
    "    )\n",
    "    connection.execute(\n",
    "        \"UPDATE todos SET priority = 1 WHERE priority IS NULL\"\n",
    "    )\n",
    "\n",
    "def downgrade():\n",
    "    # Remove the column (data will be lost!)\n",
    "    op.drop_column('todos', 'priority')\n",
    "'''\n",
    "\n",
    "print(\"📊 Example Data Migration:\")\n",
    "print(data_migration_example)\n",
    "print(\"\\n💡 This migration adds a priority column and sets values based on existing todo names.\")# Example of a data migration\n",
    "data_migration_example = '''\n",
    "def upgrade():\n",
    "    # 1. Add new column\n",
    "    op.add_column('todos', sa.Column('priority', sa.Integer(), default=1))\n",
    "    \n",
    "    # 2. Migrate existing data\n",
    "    connection = op.get_bind()\n",
    "    \n",
    "    # Set priority based on existing data\n",
    "    connection.execute(\n",
    "        \"UPDATE todos SET priority = 3 WHERE name ILIKE '%urgent%'\"\n",
    "    )\n",
    "    connection.execute(\n",
    "        \"UPDATE todos SET priority = 2 WHERE name ILIKE '%important%'\"\n",
    "    )\n",
    "    connection.execute(\n",
    "        \"UPDATE todos SET priority = 1 WHERE priority IS NULL\"\n",
    "    )\n",
    "\n",
    "def downgrade():\n",
    "    # Remove the column (data will be lost!)\n",
    "    op.drop_column('todos', 'priority')\n",
    "'''\n",
    "\n",
    "print(\"📊 Example Data Migration:\")\n",
    "print(data_migration_example)\n",
    "print(\"\\n💡 This migration adds a priority column and sets values based on existing todo names.\")"
   ]
  },
  {
   "cell_type": "code",
   "execution_count": 30,
   "id": "d0fe9252",
   "metadata": {},
   "outputs": [
    {
     "name": "stdout",
     "output_type": "stream",
     "text": [
      "🔧 Complex Migration Example:\n",
      "\n",
      "def upgrade():\n",
      "    # Scenario: Split \"name\" field into \"title\" and \"description\"\n",
      "    \n",
      "    # 1. Add new columns\n",
      "    op.add_column('todos', sa.Column('title', sa.String(100)))\n",
      "    op.add_column('todos', sa.Column('description', sa.Text()))\n",
      "    \n",
      "    # 2. Migrate data from old column to new columns\n",
      "    connection = op.get_bind()\n",
      "    \n",
      "    # For existing data, use first 50 chars as title, rest as description\n",
      "    connection.execute(\"\"\"\n",
      "        UPDATE todos \n",
      "        SET \n",
      "            title = SUBSTRING(name FROM 1 FOR 50),\n",
      "            description = CASE \n",
      "                WHEN LENGTH(name) > 50 THEN SUBSTRING(name FROM 51)\n",
      "                ELSE ''\n",
      "            END\n",
      "        WHERE name IS NOT NULL\n",
      "    \"\"\")\n",
      "    \n",
      "    # 3. Remove old column\n",
      "    op.drop_column('todos', 'name')\n",
      "\n",
      "def downgrade():\n",
      "    # Reverse the process\n",
      "    op.add_column('todos', sa.Column('name', sa.String()))\n",
      "    \n",
      "    connection = op.get_bind()\n",
      "    connection.execute(\"\"\"\n",
      "        UPDATE todos \n",
      "        SET name = COALESCE(title, '') || ' ' || COALESCE(description, '')\n",
      "    \"\"\")\n",
      "    \n",
      "    op.drop_column('todos', 'description')\n",
      "    op.drop_column('todos', 'title')\n",
      "\n",
      "\n",
      "💡 This shows how to safely restructure data while preserving information.\n"
     ]
    }
   ],
   "source": [
    "# Example of complex schema change\n",
    "complex_migration_example = '''\n",
    "def upgrade():\n",
    "    # Scenario: Split \"name\" field into \"title\" and \"description\"\n",
    "    \n",
    "    # 1. Add new columns\n",
    "    op.add_column('todos', sa.Column('title', sa.String(100)))\n",
    "    op.add_column('todos', sa.Column('description', sa.Text()))\n",
    "    \n",
    "    # 2. Migrate data from old column to new columns\n",
    "    connection = op.get_bind()\n",
    "    \n",
    "    # For existing data, use first 50 chars as title, rest as description\n",
    "    connection.execute(\"\"\"\n",
    "        UPDATE todos \n",
    "        SET \n",
    "            title = SUBSTRING(name FROM 1 FOR 50),\n",
    "            description = CASE \n",
    "                WHEN LENGTH(name) > 50 THEN SUBSTRING(name FROM 51)\n",
    "                ELSE ''\n",
    "            END\n",
    "        WHERE name IS NOT NULL\n",
    "    \"\"\")\n",
    "    \n",
    "    # 3. Remove old column\n",
    "    op.drop_column('todos', 'name')\n",
    "\n",
    "def downgrade():\n",
    "    # Reverse the process\n",
    "    op.add_column('todos', sa.Column('name', sa.String()))\n",
    "    \n",
    "    connection = op.get_bind()\n",
    "    connection.execute(\"\"\"\n",
    "        UPDATE todos \n",
    "        SET name = COALESCE(title, '') || ' ' || COALESCE(description, '')\n",
    "    \"\"\")\n",
    "    \n",
    "    op.drop_column('todos', 'description')\n",
    "    op.drop_column('todos', 'title')\n",
    "'''\n",
    "\n",
    "print(\"🔧 Complex Migration Example:\")\n",
    "print(complex_migration_example)\n",
    "print(\"\\n💡 This shows how to safely restructure data while preserving information.\")"
   ]
  },
  {
   "cell_type": "code",
   "execution_count": 31,
   "id": "23a6ac74",
   "metadata": {},
   "outputs": [
    {
     "name": "stdout",
     "output_type": "stream",
     "text": [
      "🔧 Alembic Configuration Check:\n",
      "✅ alembic.ini - Main configuration file\n",
      "✅ alembic/env.py - Environment configuration\n",
      "✅ alembic/script.py.mako - Migration template\n",
      "✅ alembic/versions/ - Migration files directory\n",
      "\n",
      "📄 Migration files found: 1\n",
      "   📋 30a84d438097_create_pdfs_table.py\n"
     ]
    }
   ],
   "source": [
    "# Check Alembic configuration status\n",
    "import os\n",
    "\n",
    "print(\"🔧 Alembic Configuration Check:\")\n",
    "\n",
    "# Check required files\n",
    "required_files = {\n",
    "    'alembic.ini': 'Main configuration file',\n",
    "    'alembic/env.py': 'Environment configuration',\n",
    "    'alembic/script.py.mako': 'Migration template',\n",
    "    'alembic/versions/': 'Migration files directory'\n",
    "}\n",
    "\n",
    "for file_path, description in required_files.items():\n",
    "    if os.path.exists(file_path):\n",
    "        print(f\"✅ {file_path} - {description}\")\n",
    "    else:\n",
    "        print(f\"❌ {file_path} - {description} (MISSING)\")\n",
    "\n",
    "# Check for migration files\n",
    "if os.path.exists('alembic/versions'):\n",
    "    migration_files = [f for f in os.listdir('alembic/versions') \n",
    "                      if f.endswith('.py') and f != '__pycache__']\n",
    "    print(f\"\\n📄 Migration files found: {len(migration_files)}\")\n",
    "    for migration in migration_files:\n",
    "        print(f\"   📋 {migration}\")\n",
    "else:\n",
    "    print(\"\\n❌ No migrations directory found\")"
   ]
  },
  {
   "cell_type": "code",
   "execution_count": 32,
   "id": "872e0ca3",
   "metadata": {},
   "outputs": [
    {
     "name": "stdout",
     "output_type": "stream",
     "text": [
      "📊 Database Migration Status:\n",
      "\n",
      "📍 Current migration version:\n"
     ]
    },
    {
     "name": "stdout",
     "output_type": "stream",
     "text": [
      "✅ Using SQLite database for testing (overriding DATABASE_URL)\n",
      "INFO  [alembic.runtime.migration] Context impl PostgresqlImpl.\n",
      "INFO  [alembic.runtime.migration] Will assume transactional DDL.\n",
      "30a84d438097 (head)\n",
      "\n",
      "📚 Migration history:\n",
      "Rev: 30a84d438097 (head)\n",
      "Parent: <base>\n",
      "Path: /Users/apple/Downloads/My Files/My File/CRUD4/1019-pdf-app-fastapi-vercel-fullstack-master/001-pdf-fastapi-backend/alembic/versions/30a84d438097_create_pdfs_table.py\n",
      "\n",
      "    create pdfs table\n",
      "    \n",
      "    Revision ID: 30a84d438097\n",
      "    Revises: \n",
      "    Create Date: 2023-12-12 11:48:48.793261\n",
      "\n"
     ]
    }
   ],
   "source": [
    "# Check database migration status\n",
    "print(\"📊 Database Migration Status:\")\n",
    "\n",
    "# Check current migration version\n",
    "print(\"\\n📍 Current migration version:\")\n",
    "!./.venv/bin/python -m alembic current\n",
    "\n",
    "# Check migration history\n",
    "print(\"\\n📚 Migration history:\")\n",
    "!./.venv/bin/python -m alembic history --verbose"
   ]
  },
  {
   "cell_type": "code",
   "execution_count": 33,
   "id": "44f39b6e",
   "metadata": {},
   "outputs": [
    {
     "name": "stdout",
     "output_type": "stream",
     "text": [
      "🗄️ Database Table Verification:\n",
      "\n",
      "📋 All tables in database:\n",
      "             List of relations\n",
      " Schema |      Name       | Type  | Owner  \n",
      "--------+-----------------+-------+--------\n",
      " public | alembic_version | table | user12\n",
      " public | pdfs            | table | user12\n",
      " public | todos           | table | user12\n",
      "(3 rows)\n",
      "\n",
      "\n",
      "🔍 Todos table structure:\n",
      "                              Table \"public.todos\"\n",
      "  Column   |  Type   | Collation | Nullable |              Default              \n",
      "-----------+---------+-----------+----------+-----------------------------------\n",
      " id        | bigint  |           | not null | nextval('todos_id_seq'::regclass)\n",
      " name      | text    |           |          | \n",
      " completed | boolean |           | not null | false\n",
      "Indexes:\n",
      "    \"todos_pkey\" PRIMARY KEY, btree (id)\n",
      "\n",
      "\n",
      "📊 Alembic version tracking:\n",
      " version_num  \n",
      "--------------\n",
      " 30a84d438097\n",
      "(1 row)\n",
      "\n"
     ]
    }
   ],
   "source": [
    "# Check database tables and structure\n",
    "print(\"🗄️ Database Table Verification:\")\n",
    "\n",
    "# List all tables\n",
    "print(\"\\n📋 All tables in database:\")\n",
    "!PGPASSWORD=pass12 /usr/local/opt/postgresql@15/bin/psql -U user12 -h localhost -d mydatabase -c \"\\dt\"\n",
    "\n",
    "# Check todos table structure\n",
    "print(\"\\n🔍 Todos table structure:\")\n",
    "!PGPASSWORD=pass12 /usr/local/opt/postgresql@15/bin/psql -U user12 -h localhost -d mydatabase -c \"\\d todos\"\n",
    "\n",
    "# Check alembic_version table (tracks migrations)\n",
    "print(\"\\n📊 Alembic version tracking:\")\n",
    "!PGPASSWORD=pass12 /usr/local/opt/postgresql@15/bin/psql -U user12 -h localhost -d mydatabase -c  \"SELECT * FROM alembic_version;\""
   ]
  },
  {
   "cell_type": "code",
   "execution_count": 34,
   "id": "65ee21de",
   "metadata": {},
   "outputs": [
    {
     "name": "stdout",
     "output_type": "stream",
     "text": [
      "🔄 Model-Database Synchronization Check:\n",
      "✅ Using SQLite database for testing (overriding DATABASE_URL)\n",
      "✅ Successfully queried todos table: 13 todos found\n",
      "✅ Successfully created todo: ID 14\n",
      "✅ Model-database synchronization is working perfectly!\n",
      "\n"
     ]
    }
   ],
   "source": [
    "# Test that our SQLAlchemy models match the database\n",
    "print(\"🔄 Model-Database Synchronization Check:\")\n",
    "\n",
    "# Use subprocess to run Python with virtual environment\n",
    "import subprocess\n",
    "import sys\n",
    "\n",
    "try:\n",
    "    # Run the test using the virtual environment's Python\n",
    "    result = subprocess.run([\n",
    "        './.venv/bin/python', '-c', '''\n",
    "import sys\n",
    "sys.path.append(\".\")\n",
    "from models import Todo\n",
    "from database import SessionLocal\n",
    "\n",
    "# Test creating a session and querying\n",
    "session = SessionLocal()\n",
    "\n",
    "# Try to query todos table (this will fail if structure doesn't match)\n",
    "todos_count = session.query(Todo).count()\n",
    "print(f\"✅ Successfully queried todos table: {todos_count} todos found\")\n",
    "\n",
    "# Test creating a todo object\n",
    "test_todo = Todo(name=\"Sync test\", completed=False)\n",
    "session.add(test_todo)\n",
    "session.commit()\n",
    "\n",
    "print(f\"✅ Successfully created todo: ID {test_todo.id}\")\n",
    "\n",
    "# Clean up\n",
    "session.delete(test_todo)\n",
    "session.commit()\n",
    "session.close()\n",
    "\n",
    "print(\"✅ Model-database synchronization is working perfectly!\")\n",
    "'''\n",
    "    ], capture_output=True, text=True, cwd='.')\n",
    "    \n",
    "    print(result.stdout)\n",
    "    if result.stderr:\n",
    "        print(\"Errors:\", result.stderr)\n",
    "        \n",
    "except Exception as e:\n",
    "    print(f\"❌ Model-database sync issue: {e}\")\n",
    "    print(\"💡 This might indicate a mismatch between models and database schema\")"
   ]
  },
  {
   "cell_type": "code",
   "execution_count": 35,
   "id": "372a8fb4",
   "metadata": {},
   "outputs": [
    {
     "name": "stdout",
     "output_type": "stream",
     "text": [
      "🧪 Final Integration Test:\n",
      "✅ Using SQLite database for testing (overriding DATABASE_URL)\n",
      "\n",
      "Errors: Traceback (most recent call last):\n",
      "  File \"<string>\", line 6, in <module>\n",
      "ImportError: cannot import name 'ToDoRequest' from 'schemas' (/Users/apple/Downloads/My Files/My File/CRUD4/1019-pdf-app-fastapi-vercel-fullstack-master/001-pdf-fastapi-backend/schemas.py)\n",
      "\n"
     ]
    }
   ],
   "source": [
    "# Complete integration test: Models + Database + Migrations\n",
    "print(\"🧪 Final Integration Test:\")\n",
    "\n",
    "# Use subprocess to run Python with virtual environment\n",
    "import subprocess\n",
    "import sys\n",
    "\n",
    "try:\n",
    "    # Run the integration test using the virtual environment's Python\n",
    "    result = subprocess.run([\n",
    "        './.venv/bin/python', '-c', '''\n",
    "import sys\n",
    "sys.path.append(\".\")\n",
    "from models import Todo\n",
    "from database import SessionLocal\n",
    "from schemas import ToDoRequest, ToDoResponse\n",
    "\n",
    "print(\"\\\\n1️⃣ Testing complete data flow...\")\n",
    "\n",
    "# Create session\n",
    "session = SessionLocal()\n",
    "\n",
    "# Create todo using schema validation\n",
    "todo_request = ToDoRequest(name=\"Integration test todo\", completed=False)\n",
    "print(f\"   📥 Request validated: {todo_request.dict()}\")\n",
    "\n",
    "# Convert to database model\n",
    "db_todo = Todo(**todo_request.dict())\n",
    "session.add(db_todo)\n",
    "session.commit()\n",
    "session.refresh(db_todo)\n",
    "print(f\"   💾 Saved to database: ID {db_todo.id}\")\n",
    "\n",
    "# Convert to response schema\n",
    "todo_response = ToDoResponse.from_orm(db_todo)\n",
    "print(f\"   📤 Response created: {todo_response.json()}\")\n",
    "\n",
    "# Test update\n",
    "db_todo.completed = True\n",
    "session.commit()\n",
    "print(f\"   ✏️ Updated todo completion status\")\n",
    "\n",
    "# Test query\n",
    "found_todo = session.query(Todo).filter(Todo.id == db_todo.id).first()\n",
    "print(f\"   🔍 Found todo: {found_todo.name}, completed={found_todo.completed}\")\n",
    "\n",
    "# Clean up\n",
    "session.delete(db_todo)\n",
    "session.commit()\n",
    "session.close()\n",
    "\n",
    "print(\"\\\\n🎉 COMPLETE INTEGRATION TEST PASSED!\")\n",
    "print(\"✅ Migrations working\")\n",
    "print(\"✅ Database connection working\")\n",
    "print(\"✅ Models working\")\n",
    "print(\"✅ Schemas working\")\n",
    "print(\"✅ Everything integrated perfectly!\")\n",
    "'''\n",
    "    ], capture_output=True, text=True, cwd='.')\n",
    "    \n",
    "    print(result.stdout)\n",
    "    if result.stderr:\n",
    "        print(\"Errors:\", result.stderr)\n",
    "        \n",
    "except Exception as e:\n",
    "    print(f\"❌ Integration test failed: {e}\")\n",
    "    import traceback\n",
    "    traceback.print_exc()"
   ]
  },
  {
   "cell_type": "code",
   "execution_count": null,
   "id": "f741aa59",
   "metadata": {},
   "outputs": [],
   "source": []
  }
 ],
 "metadata": {
  "kernelspec": {
   "display_name": "base",
   "language": "python",
   "name": "python3"
  },
  "language_info": {
   "codemirror_mode": {
    "name": "ipython",
    "version": 3
   },
   "file_extension": ".py",
   "mimetype": "text/x-python",
   "name": "python",
   "nbconvert_exporter": "python",
   "pygments_lexer": "ipython3",
   "version": "3.13.5"
  }
 },
 "nbformat": 4,
 "nbformat_minor": 5
}
