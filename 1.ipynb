{
 "cells": [
  {
   "cell_type": "code",
   "execution_count": 1,
   "id": "dd84323e",
   "metadata": {},
   "outputs": [
    {
     "name": "stdout",
     "output_type": "stream",
     "text": [
      "Python 3.13.5\n"
     ]
    }
   ],
   "source": [
    "#Check Python version (should be 3.11 or higher)\n",
    "!python3 --version"
   ]
  },
  {
   "cell_type": "code",
   "execution_count": 2,
   "id": "e1f316c3",
   "metadata": {},
   "outputs": [
    {
     "name": "stdout",
     "output_type": "stream",
     "text": [
      "PATH updated for session.\n",
      "which node: /Users/apple/.nvm/versions/node/v22.20.0/bin/node\n",
      "which npm: /Users/apple/.nvm/versions/node/v22.20.0/bin/npm\n",
      "which psql: /usr/local/opt/postgresql@15/bin/psql\n"
     ]
    }
   ],
   "source": [
    "# Configure PATH for this Jupyter session so CLI tools resolve\n",
    "import os, shutil\n",
    "postgres_bin = \"/usr/local/opt/postgresql@15/bin\"\n",
    "nvm_node_bin = \"/Users/apple/.nvm/versions/node/v22.20.0/bin\"\n",
    "paths_to_prepend = [postgres_bin, nvm_node_bin]\n",
    "os.environ[\"PATH\"] = \":\".join([p for p in paths_to_prepend if p]) + \":\" + os.environ.get(\"PATH\", \"\")\n",
    "print(\"PATH updated for session.\")\n",
    "print(\"which node:\", shutil.which(\"node\"))\n",
    "print(\"which npm:\", shutil.which(\"npm\"))\n",
    "print(\"which psql:\", shutil.which(\"psql\"))\n"
   ]
  },
  {
   "cell_type": "code",
   "execution_count": 3,
   "id": "4c095230",
   "metadata": {},
   "outputs": [
    {
     "name": "stdout",
     "output_type": "stream",
     "text": [
      "v22.20.0\n",
      "10.9.3\n",
      "\u001b[1G\u001b[0Kpsql (PostgreSQL) 15.14 (Homebrew)\n",
      "postgres (PostgreSQL) 15.14 (Homebrew)\n"
     ]
    }
   ],
   "source": [
    "# Verify CLI tools resolve after PATH update\n",
    "!node --version || echo \"node not found\"\n",
    "!npm --version || echo \"npm not found\"\n",
    "!psql --version || echo \"psql not found\"\n",
    "!postgres --version || echo \"postgres not found\"\n"
   ]
  },
  {
   "cell_type": "code",
   "execution_count": 4,
   "id": "6123c788",
   "metadata": {},
   "outputs": [
    {
     "name": "stdout",
     "output_type": "stream",
     "text": [
      "v22.20.0\n"
     ]
    }
   ],
   "source": [
    "# Check Node.js version (should be 18 or higher)\n",
    "!/Users/apple/.nvm/versions/node/v22.20.0/bin/node --version"
   ]
  },
  {
   "cell_type": "code",
   "execution_count": 5,
   "id": "6b026c9e",
   "metadata": {},
   "outputs": [
    {
     "name": "stdout",
     "output_type": "stream",
     "text": [
      "10.9.3\n",
      "\u001b[1G\u001b[0K"
     ]
    }
   ],
   "source": [
    "!npm --version"
   ]
  },
  {
   "cell_type": "code",
   "execution_count": 6,
   "id": "efa654d5",
   "metadata": {},
   "outputs": [
    {
     "name": "stdout",
     "output_type": "stream",
     "text": [
      "git version 2.37.1 (Apple Git-137.1)\n"
     ]
    }
   ],
   "source": [
    "!git --version"
   ]
  },
  {
   "cell_type": "code",
   "execution_count": 7,
   "id": "577d3035",
   "metadata": {},
   "outputs": [
    {
     "name": "stdout",
     "output_type": "stream",
     "text": [
      "psql (PostgreSQL) 15.14 (Homebrew)\n"
     ]
    }
   ],
   "source": [
    "!/usr/local/opt/postgresql@15/bin/psql --version"
   ]
  },
  {
   "cell_type": "code",
   "execution_count": 8,
   "id": "9602e000",
   "metadata": {},
   "outputs": [
    {
     "name": "stdout",
     "output_type": "stream",
     "text": [
      "postgres (PostgreSQL) 15.14 (Homebrew)\n"
     ]
    }
   ],
   "source": [
    "# Check PostgreSQL version\n",
    "!postgres --version || psql --version"
   ]
  },
  {
   "cell_type": "code",
   "execution_count": 9,
   "id": "740f2b5c",
   "metadata": {},
   "outputs": [
    {
     "name": "stdout",
     "output_type": "stream",
     "text": [
      "total 968\n",
      "drwxr-xr-x   14 Ali  staff     448 Oct 21 17:17 \u001b[34m.\u001b[m\u001b[m\n",
      "drwxr-xr-x@ 107 Ali  staff    3424 Oct  2 17:50 \u001b[34m..\u001b[m\u001b[m\n",
      "-rw-r--r--@   1 Ali  staff    6148 Oct  6 16:13 .DS_Store\n",
      "-rw-r--r--    1 Ali  staff   89219 Oct 22 08:09 1.ipynb\n",
      "drwxrwxr-x@   5 Ali  staff     160 Mar 29  2024 \u001b[34m1019-pdf-app-fastapi-vercel-fullstack-master\u001b[m\u001b[m\n",
      "-rw-r--r--    1 Ali  staff   72844 Oct 21 17:17 1_executed.ipynb\n",
      "-rw-r--r--    1 Ali  staff   30541 Oct 21 09:32 2.ipynb\n",
      "-rw-r--r--    1 Ali  staff   27412 Oct 21 09:38 3.ipynb\n",
      "-rw-r--r--    1 Ali  staff   34661 Oct 22 08:08 4.ipynb\n",
      "-rw-r--r--    1 Ali  staff   45618 Oct 21 09:39 5.ipynb\n",
      "-rw-r--r--    1 Ali  staff   48804 Oct 21 09:40 6.ipynb\n",
      "-rw-r--r--    1 Ali  staff  114803 Oct 22 08:08 7.ipynb\n",
      "drwxr-xr-x    6 Ali  staff     192 Oct  6 10:52 \u001b[34malembic\u001b[m\u001b[m\n",
      "-rw-r--r--    1 Ali  staff    4862 Oct  6 10:52 alembic.ini\n"
     ]
    }
   ],
   "source": [
    "!ls -la"
   ]
  },
  {
   "cell_type": "code",
   "execution_count": 10,
   "id": "976176c5",
   "metadata": {},
   "outputs": [
    {
     "name": "stdout",
     "output_type": "stream",
     "text": [
      "/Users/apple/Downloads/My Files/My File/CRUD4/1019-pdf-app-fastapi-vercel-fullstack-master/001-pdf-fastapi-backend\n"
     ]
    }
   ],
   "source": [
    "%cd \"/Users/apple/Downloads/My Files/My File/CRUD4/1019-pdf-app-fastapi-vercel-fullstack-master/001-pdf-fastapi-backend\"\n"
   ]
  },
  {
   "cell_type": "code",
   "execution_count": 11,
   "id": "2dd3d9ba",
   "metadata": {},
   "outputs": [
    {
     "name": "stdout",
     "output_type": "stream",
     "text": [
      "total 592\n",
      "drwxrwxr-x@ 21 Ali  staff     672 Oct 21 12:01 \u001b[34m.\u001b[m\u001b[m\n",
      "drwxrwxr-x@  5 Ali  staff     160 Mar 29  2024 \u001b[34m..\u001b[m\u001b[m\n",
      "-rw-rw-r--@  1 Ali  staff    6148 Mar 29  2024 .DS_Store\n",
      "-rw-r--r--   1 Ali  staff      75 Oct  6 11:12 .env\n",
      "-rw-rw-r--@  1 Ali  staff       4 Mar 29  2024 .gitignore\n",
      "drwxr-xr-x   9 Ali  staff     288 Oct  7 09:16 \u001b[34m.venv\u001b[m\u001b[m\n",
      "drwxrwxr-x@ 14 Ali  staff     448 Oct 21 11:48 \u001b[34m__pycache__\u001b[m\u001b[m\n",
      "drwxrwxr-x@  7 Ali  staff     224 Mar 29  2024 \u001b[34malembic\u001b[m\u001b[m\n",
      "-rw-rw-r--@  1 Ali  staff    3613 Mar 29  2024 alembic.ini\n",
      "-rw-rw-r--@  1 Ali  staff  224963 Mar 29  2024 allergic.pdf\n",
      "-rw-r--r--   1 Ali  staff     139 Oct  6 15:39 api.env\n",
      "-rw-rw-r--@  1 Ali  staff     651 Oct 22 08:07 config.py\n",
      "-rw-r--r--   1 Ali  staff     716 Oct  7 08:24 create_db.py\n",
      "-rw-rw-r--@  1 Ali  staff    3451 Oct 22 08:08 crud.py\n",
      "-rw-rw-r--@  1 Ali  staff    1161 Oct 22 08:08 database.py\n",
      "-rw-rw-r--@  1 Ali  staff    2338 Oct 22 08:08 main.py\n",
      "-rw-rw-r--@  1 Ali  staff     461 Oct 16 08:33 models.py\n",
      "-rw-rw-r--@  1 Ali  staff    3859 Oct  6 12:03 requirements.txt\n",
      "drwxrwxr-x@  5 Ali  staff     160 Oct  7 14:21 \u001b[34mrouters\u001b[m\u001b[m\n",
      "-rw-rw-r--@  1 Ali  staff     566 Oct 16 08:33 schemas.py\n",
      "-rw-r--r--   1 Ali  staff   20480 Oct 21 12:01 test.db\n"
     ]
    }
   ],
   "source": [
    "!ls -la"
   ]
  },
  {
   "cell_type": "code",
   "execution_count": 12,
   "id": "3f3ae046",
   "metadata": {},
   "outputs": [
    {
     "name": "stdout",
     "output_type": "stream",
     "text": [
      "[Errno 2] No such file or directory: '1019-pdf-app-fastapi-vercel-fullstack-master/001-pdf-fastapi-backend'\n",
      "/Users/apple/Downloads/My Files/My File/CRUD4/1019-pdf-app-fastapi-vercel-fullstack-master/001-pdf-fastapi-backend\n"
     ]
    }
   ],
   "source": [
    "%cd \"1019-pdf-app-fastapi-vercel-fullstack-master/001-pdf-fastapi-backend\""
   ]
  },
  {
   "cell_type": "code",
   "execution_count": 13,
   "id": "779f4f7f",
   "metadata": {},
   "outputs": [
    {
     "name": "stdout",
     "output_type": "stream",
     "text": [
      "[Errno 2] No such file or directory: '001-fastapi-backend'\n",
      "/Users/apple/Downloads/My Files/My File/CRUD4/1019-pdf-app-fastapi-vercel-fullstack-master/001-pdf-fastapi-backend\n"
     ]
    }
   ],
   "source": [
    "%cd 001-fastapi-backend"
   ]
  },
  {
   "cell_type": "code",
   "execution_count": 14,
   "id": "528307b1",
   "metadata": {},
   "outputs": [
    {
     "name": "stdout",
     "output_type": "stream",
     "text": [
      "total 592\n",
      "drwxrwxr-x@ 21 Ali  staff     672 Oct 21 12:01 \u001b[34m.\u001b[m\u001b[m\n",
      "drwxrwxr-x@  5 Ali  staff     160 Mar 29  2024 \u001b[34m..\u001b[m\u001b[m\n",
      "-rw-rw-r--@  1 Ali  staff    6148 Mar 29  2024 .DS_Store\n",
      "-rw-r--r--   1 Ali  staff      75 Oct  6 11:12 .env\n",
      "-rw-rw-r--@  1 Ali  staff       4 Mar 29  2024 .gitignore\n",
      "drwxr-xr-x   9 Ali  staff     288 Oct  7 09:16 \u001b[34m.venv\u001b[m\u001b[m\n",
      "drwxrwxr-x@ 14 Ali  staff     448 Oct 21 11:48 \u001b[34m__pycache__\u001b[m\u001b[m\n",
      "drwxrwxr-x@  7 Ali  staff     224 Mar 29  2024 \u001b[34malembic\u001b[m\u001b[m\n",
      "-rw-rw-r--@  1 Ali  staff    3613 Mar 29  2024 alembic.ini\n",
      "-rw-rw-r--@  1 Ali  staff  224963 Mar 29  2024 allergic.pdf\n",
      "-rw-r--r--   1 Ali  staff     139 Oct  6 15:39 api.env\n",
      "-rw-rw-r--@  1 Ali  staff     651 Oct 22 08:07 config.py\n",
      "-rw-r--r--   1 Ali  staff     716 Oct  7 08:24 create_db.py\n",
      "-rw-rw-r--@  1 Ali  staff    3451 Oct 22 08:08 crud.py\n",
      "-rw-rw-r--@  1 Ali  staff    1161 Oct 22 08:08 database.py\n",
      "-rw-rw-r--@  1 Ali  staff    2338 Oct 22 08:08 main.py\n",
      "-rw-rw-r--@  1 Ali  staff     461 Oct 16 08:33 models.py\n",
      "-rw-rw-r--@  1 Ali  staff    3859 Oct  6 12:03 requirements.txt\n",
      "drwxrwxr-x@  5 Ali  staff     160 Oct  7 14:21 \u001b[34mrouters\u001b[m\u001b[m\n",
      "-rw-rw-r--@  1 Ali  staff     566 Oct 16 08:33 schemas.py\n",
      "-rw-r--r--   1 Ali  staff   20480 Oct 21 12:01 test.db\n"
     ]
    }
   ],
   "source": [
    "!ls -la"
   ]
  },
  {
   "cell_type": "code",
   "execution_count": 15,
   "id": "a78cb628",
   "metadata": {},
   "outputs": [
    {
     "name": "stdout",
     "output_type": "stream",
     "text": [
      "zsh:1: command not found: pyenv\n"
     ]
    }
   ],
   "source": [
    "!pyenv virtualenv 3.11.4 todo-app-backend"
   ]
  },
  {
   "cell_type": "code",
   "execution_count": 16,
   "id": "df31b064",
   "metadata": {},
   "outputs": [
    {
     "name": "stdout",
     "output_type": "stream",
     "text": [
      "/Users/apple/Downloads/My Files/My File/CRUD4/1019-pdf-app-fastapi-vercel-fullstack-master/001-pdf-fastapi-backend\n",
      "Python 3.11.3\n"
     ]
    }
   ],
   "source": [
    "# Create backend venv (idempotent) and show version using venv python\n",
    "%cd \"/Users/apple/Downloads/My Files/My File/CRUD4/1019-pdf-app-fastapi-vercel-fullstack-master/001-pdf-fastapi-backend\"\n",
    "!python3 -m venv .venv || true\n",
    "!./.venv/bin/python --version"
   ]
  },
  {
   "cell_type": "code",
   "execution_count": 17,
   "metadata": {},
   "outputs": [
    {
     "name": "stdout",
     "output_type": "stream",
     "text": [
      "localhost:5432 - accepting connections\n",
      "PostgreSQL is running\n"
     ]
    }
   ],
   "source": [
    "# Check if PostgreSQL is already running\n",
    "!pg_isready -h localhost -p 5432 && echo \"PostgreSQL is running\" || echo \"PostgreSQL needs to be started\"\n"
   ]
  },
  {
   "cell_type": "code",
   "execution_count": 18,
   "id": "45506e02",
   "metadata": {},
   "outputs": [
    {
     "name": "stdout",
     "output_type": "stream",
     "text": [
      "brew not found; ensure Postgres is running\n"
     ]
    }
   ],
   "source": [
    "# Homebrew not available in this environment; skipping service management\n",
    "!command -v brew >/dev/null 2>&1 && brew services start postgresql || echo \"brew not found; ensure Postgres is running\""
   ]
  },
  {
   "cell_type": "code",
   "execution_count": 19,
   "id": "db93a203",
   "metadata": {},
   "outputs": [
    {
     "name": "stdout",
     "output_type": "stream",
     "text": [
      "/Users/apple/Downloads/My Files/My File/CRUD4/1019-pdf-app-fastapi-vercel-fullstack-master/001-pdf-fastapi-backend\n",
      "Requirement already satisfied: aiohttp==3.9.0 in ./.venv/lib/python3.11/site-packages (from -r requirements.txt (line 1)) (3.9.0)\n",
      "Requirement already satisfied: aiosignal==1.3.1 in ./.venv/lib/python3.11/site-packages (from -r requirements.txt (line 2)) (1.3.1)\n",
      "Requirement already satisfied: aiostream==0.5.2 in ./.venv/lib/python3.11/site-packages (from -r requirements.txt (line 3)) (0.5.2)\n",
      "Requirement already satisfied: alembic==1.13.0 in ./.venv/lib/python3.11/site-packages (from -r requirements.txt (line 4)) (1.13.0)\n",
      "Requirement already satisfied: annotated-types==0.6.0 in ./.venv/lib/python3.11/site-packages (from -r requirements.txt (line 5)) (0.6.0)\n",
      "Requirement already satisfied: anyio==3.7.1 in ./.venv/lib/python3.11/site-packages (from -r requirements.txt (line 6)) (3.7.1)\n",
      "Requirement already satisfied: appnope==0.1.3 in ./.venv/lib/python3.11/site-packages (from -r requirements.txt (line 7)) (0.1.3)\n",
      "Requirement already satisfied: argon2-cffi==23.1.0 in ./.venv/lib/python3.11/site-packages (from -r requirements.txt (line 8)) (23.1.0)\n",
      "Requirement already satisfied: argon2-cffi-bindings==21.2.0 in ./.venv/lib/python3.11/site-packages (from -r requirements.txt (line 9)) (21.2.0)\n",
      "Requirement already satisfied: arrow==1.3.0 in ./.venv/lib/python3.11/site-packages (from -r requirements.txt (line 10)) (1.3.0)\n",
      "Requirement already satisfied: asgiref==3.7.2 in ./.venv/lib/python3.11/site-packages (from -r requirements.txt (line 11)) (3.7.2)\n",
      "Requirement already satisfied: asttokens==2.4.1 in ./.venv/lib/python3.11/site-packages (from -r requirements.txt (line 12)) (2.4.1)\n",
      "Requirement already satisfied: async-lru==2.0.4 in ./.venv/lib/python3.11/site-packages (from -r requirements.txt (line 13)) (2.0.4)\n",
      "Requirement already satisfied: attrs==23.1.0 in ./.venv/lib/python3.11/site-packages (from -r requirements.txt (line 14)) (23.1.0)\n",
      "Requirement already satisfied: Babel==2.13.1 in ./.venv/lib/python3.11/site-packages (from -r requirements.txt (line 15)) (2.13.1)\n",
      "Requirement already satisfied: backoff==2.2.1 in ./.venv/lib/python3.11/site-packages (from -r requirements.txt (line 16)) (2.2.1)\n",
      "Requirement already satisfied: bcrypt==4.0.1 in ./.venv/lib/python3.11/site-packages (from -r requirements.txt (line 17)) (4.0.1)\n",
      "Requirement already satisfied: beautifulsoup4==4.12.2 in ./.venv/lib/python3.11/site-packages (from -r requirements.txt (line 18)) (4.12.2)\n",
      "Requirement already satisfied: bleach==6.1.0 in ./.venv/lib/python3.11/site-packages (from -r requirements.txt (line 19)) (6.1.0)\n",
      "Requirement already satisfied: cachetools==5.3.2 in ./.venv/lib/python3.11/site-packages (from -r requirements.txt (line 20)) (5.3.2)\n",
      "Requirement already satisfied: certifi==2023.11.17 in ./.venv/lib/python3.11/site-packages (from -r requirements.txt (line 21)) (2023.11.17)\n",
      "Requirement already satisfied: cffi==1.16.0 in ./.venv/lib/python3.11/site-packages (from -r requirements.txt (line 22)) (1.16.0)\n",
      "Requirement already satisfied: charset-normalizer==3.3.2 in ./.venv/lib/python3.11/site-packages (from -r requirements.txt (line 23)) (3.3.2)\n",
      "Requirement already satisfied: chroma-hnswlib==0.7.3 in ./.venv/lib/python3.11/site-packages (from -r requirements.txt (line 24)) (0.7.3)\n",
      "Requirement already satisfied: chromadb==0.4.18 in ./.venv/lib/python3.11/site-packages (from -r requirements.txt (line 25)) (0.4.18)\n",
      "Requirement already satisfied: click==8.1.7 in ./.venv/lib/python3.11/site-packages (from -r requirements.txt (line 26)) (8.1.7)\n",
      "Requirement already satisfied: coloredlogs==15.0.1 in ./.venv/lib/python3.11/site-packages (from -r requirements.txt (line 27)) (15.0.1)\n",
      "Requirement already satisfied: comm==0.2.0 in ./.venv/lib/python3.11/site-packages (from -r requirements.txt (line 28)) (0.2.0)\n",
      "Requirement already satisfied: dataclasses-json==0.6.2 in ./.venv/lib/python3.11/site-packages (from -r requirements.txt (line 29)) (0.6.2)\n",
      "Requirement already satisfied: debugpy==1.8.0 in ./.venv/lib/python3.11/site-packages (from -r requirements.txt (line 30)) (1.8.0)\n",
      "Requirement already satisfied: decorator==5.1.1 in ./.venv/lib/python3.11/site-packages (from -r requirements.txt (line 31)) (5.1.1)\n",
      "Requirement already satisfied: defusedxml==0.7.1 in ./.venv/lib/python3.11/site-packages (from -r requirements.txt (line 32)) (0.7.1)\n",
      "Requirement already satisfied: Deprecated==1.2.14 in ./.venv/lib/python3.11/site-packages (from -r requirements.txt (line 33)) (1.2.14)\n",
      "Requirement already satisfied: distro==1.8.0 in ./.venv/lib/python3.11/site-packages (from -r requirements.txt (line 34)) (1.8.0)\n",
      "Requirement already satisfied: executing==2.0.1 in ./.venv/lib/python3.11/site-packages (from -r requirements.txt (line 35)) (2.0.1)\n",
      "Requirement already satisfied: fastapi==0.104.1 in ./.venv/lib/python3.11/site-packages (from -r requirements.txt (line 36)) (0.104.1)\n",
      "Requirement already satisfied: fastjsonschema==2.19.0 in ./.venv/lib/python3.11/site-packages (from -r requirements.txt (line 37)) (2.19.0)\n",
      "Requirement already satisfied: filelock==3.13.1 in ./.venv/lib/python3.11/site-packages (from -r requirements.txt (line 38)) (3.13.1)\n",
      "Requirement already satisfied: flatbuffers==23.5.26 in ./.venv/lib/python3.11/site-packages (from -r requirements.txt (line 39)) (23.5.26)\n",
      "Requirement already satisfied: fqdn==1.5.1 in ./.venv/lib/python3.11/site-packages (from -r requirements.txt (line 40)) (1.5.1)\n",
      "Requirement already satisfied: frozenlist==1.4.0 in ./.venv/lib/python3.11/site-packages (from -r requirements.txt (line 41)) (1.4.0)\n",
      "Requirement already satisfied: fsspec==2023.10.0 in ./.venv/lib/python3.11/site-packages (from -r requirements.txt (line 42)) (2023.10.0)\n",
      "Requirement already satisfied: google-auth==2.23.4 in ./.venv/lib/python3.11/site-packages (from -r requirements.txt (line 43)) (2.23.4)\n",
      "Requirement already satisfied: googleapis-common-protos==1.61.0 in ./.venv/lib/python3.11/site-packages (from -r requirements.txt (line 44)) (1.61.0)\n",
      "Requirement already satisfied: greenlet==3.0.1 in ./.venv/lib/python3.11/site-packages (from -r requirements.txt (line 45)) (3.0.1)\n",
      "Requirement already satisfied: grpcio==1.59.3 in ./.venv/lib/python3.11/site-packages (from -r requirements.txt (line 46)) (1.59.3)\n",
      "Requirement already satisfied: h11==0.14.0 in ./.venv/lib/python3.11/site-packages (from -r requirements.txt (line 47)) (0.14.0)\n",
      "Requirement already satisfied: httpcore==1.0.2 in ./.venv/lib/python3.11/site-packages (from -r requirements.txt (line 48)) (1.0.2)\n",
      "Requirement already satisfied: httpie==3.2.2 in ./.venv/lib/python3.11/site-packages (from -r requirements.txt (line 49)) (3.2.2)\n",
      "Requirement already satisfied: httptools==0.6.1 in ./.venv/lib/python3.11/site-packages (from -r requirements.txt (line 50)) (0.6.1)\n",
      "Requirement already satisfied: httpx==0.25.1 in ./.venv/lib/python3.11/site-packages (from -r requirements.txt (line 51)) (0.25.1)\n",
      "Requirement already satisfied: huggingface-hub==0.19.4 in ./.venv/lib/python3.11/site-packages (from -r requirements.txt (line 52)) (0.19.4)\n",
      "Requirement already satisfied: humanfriendly==10.0 in ./.venv/lib/python3.11/site-packages (from -r requirements.txt (line 53)) (10.0)\n",
      "Requirement already satisfied: idna==3.4 in ./.venv/lib/python3.11/site-packages (from -r requirements.txt (line 54)) (3.4)\n",
      "Requirement already satisfied: importlib-metadata==6.8.0 in ./.venv/lib/python3.11/site-packages (from -r requirements.txt (line 55)) (6.8.0)\n",
      "Requirement already satisfied: importlib-resources==6.1.1 in ./.venv/lib/python3.11/site-packages (from -r requirements.txt (line 56)) (6.1.1)\n",
      "Requirement already satisfied: iniconfig==2.0.0 in ./.venv/lib/python3.11/site-packages (from -r requirements.txt (line 57)) (2.0.0)\n",
      "Requirement already satisfied: ipykernel==6.27.0 in ./.venv/lib/python3.11/site-packages (from -r requirements.txt (line 58)) (6.27.0)\n",
      "Requirement already satisfied: ipython==8.17.2 in ./.venv/lib/python3.11/site-packages (from -r requirements.txt (line 59)) (8.17.2)\n",
      "Requirement already satisfied: ipywidgets==8.1.1 in ./.venv/lib/python3.11/site-packages (from -r requirements.txt (line 60)) (8.1.1)\n",
      "Requirement already satisfied: isoduration==20.11.0 in ./.venv/lib/python3.11/site-packages (from -r requirements.txt (line 61)) (20.11.0)\n",
      "Requirement already satisfied: jedi==0.19.1 in ./.venv/lib/python3.11/site-packages (from -r requirements.txt (line 62)) (0.19.1)\n",
      "Requirement already satisfied: Jinja2==3.1.2 in ./.venv/lib/python3.11/site-packages (from -r requirements.txt (line 63)) (3.1.2)\n",
      "Requirement already satisfied: joblib==1.3.2 in ./.venv/lib/python3.11/site-packages (from -r requirements.txt (line 64)) (1.3.2)\n",
      "Requirement already satisfied: json5==0.9.14 in ./.venv/lib/python3.11/site-packages (from -r requirements.txt (line 65)) (0.9.14)\n",
      "Requirement already satisfied: jsonpointer==2.4 in ./.venv/lib/python3.11/site-packages (from -r requirements.txt (line 66)) (2.4)\n",
      "Requirement already satisfied: jsonschema==4.20.0 in ./.venv/lib/python3.11/site-packages (from -r requirements.txt (line 67)) (4.20.0)\n",
      "Requirement already satisfied: jsonschema-specifications==2023.11.1 in ./.venv/lib/python3.11/site-packages (from -r requirements.txt (line 68)) (2023.11.1)\n",
      "Requirement already satisfied: jupyter==1.0.0 in ./.venv/lib/python3.11/site-packages (from -r requirements.txt (line 69)) (1.0.0)\n",
      "Requirement already satisfied: jupyter-console==6.6.3 in ./.venv/lib/python3.11/site-packages (from -r requirements.txt (line 70)) (6.6.3)\n",
      "Requirement already satisfied: jupyter-events==0.9.0 in ./.venv/lib/python3.11/site-packages (from -r requirements.txt (line 71)) (0.9.0)\n",
      "Requirement already satisfied: jupyter-lsp==2.2.0 in ./.venv/lib/python3.11/site-packages (from -r requirements.txt (line 72)) (2.2.0)\n",
      "Requirement already satisfied: jupyter_client==8.6.0 in ./.venv/lib/python3.11/site-packages (from -r requirements.txt (line 73)) (8.6.0)\n",
      "Requirement already satisfied: jupyter_core==5.5.0 in ./.venv/lib/python3.11/site-packages (from -r requirements.txt (line 74)) (5.5.0)\n",
      "Requirement already satisfied: jupyter_server==2.10.1 in ./.venv/lib/python3.11/site-packages (from -r requirements.txt (line 75)) (2.10.1)\n",
      "Requirement already satisfied: jupyter_server_terminals==0.4.4 in ./.venv/lib/python3.11/site-packages (from -r requirements.txt (line 76)) (0.4.4)\n",
      "Requirement already satisfied: jupyterlab==4.0.9 in ./.venv/lib/python3.11/site-packages (from -r requirements.txt (line 77)) (4.0.9)\n",
      "Requirement already satisfied: jupyterlab-widgets==3.0.9 in ./.venv/lib/python3.11/site-packages (from -r requirements.txt (line 78)) (3.0.9)\n",
      "Requirement already satisfied: jupyterlab_pygments==0.3.0 in ./.venv/lib/python3.11/site-packages (from -r requirements.txt (line 79)) (0.3.0)\n",
      "Requirement already satisfied: jupyterlab_server==2.25.2 in ./.venv/lib/python3.11/site-packages (from -r requirements.txt (line 80)) (2.25.2)\n",
      "Requirement already satisfied: kubernetes==28.1.0 in ./.venv/lib/python3.11/site-packages (from -r requirements.txt (line 81)) (28.1.0)\n",
      "Requirement already satisfied: llama-index==0.9.7 in ./.venv/lib/python3.11/site-packages (from -r requirements.txt (line 82)) (0.9.7)\n",
      "Requirement already satisfied: Mako==1.3.0 in ./.venv/lib/python3.11/site-packages (from -r requirements.txt (line 83)) (1.3.0)\n",
      "Requirement already satisfied: markdown-it-py==3.0.0 in ./.venv/lib/python3.11/site-packages (from -r requirements.txt (line 84)) (3.0.0)\n",
      "Requirement already satisfied: MarkupSafe==2.1.3 in ./.venv/lib/python3.11/site-packages (from -r requirements.txt (line 85)) (2.1.3)\n",
      "Requirement already satisfied: marshmallow==3.20.1 in ./.venv/lib/python3.11/site-packages (from -r requirements.txt (line 86)) (3.20.1)\n",
      "Requirement already satisfied: matplotlib-inline==0.1.6 in ./.venv/lib/python3.11/site-packages (from -r requirements.txt (line 87)) (0.1.6)\n",
      "Requirement already satisfied: mdurl==0.1.2 in ./.venv/lib/python3.11/site-packages (from -r requirements.txt (line 88)) (0.1.2)\n",
      "Requirement already satisfied: mistune==3.0.2 in ./.venv/lib/python3.11/site-packages (from -r requirements.txt (line 89)) (3.0.2)\n",
      "Requirement already satisfied: mmh3==4.0.1 in ./.venv/lib/python3.11/site-packages (from -r requirements.txt (line 90)) (4.0.1)\n",
      "Requirement already satisfied: monotonic==1.6 in ./.venv/lib/python3.11/site-packages (from -r requirements.txt (line 91)) (1.6)\n",
      "Requirement already satisfied: mpmath==1.3.0 in ./.venv/lib/python3.11/site-packages (from -r requirements.txt (line 92)) (1.3.0)\n",
      "Requirement already satisfied: multidict==6.0.4 in ./.venv/lib/python3.11/site-packages (from -r requirements.txt (line 93)) (6.0.4)\n",
      "Requirement already satisfied: mypy-extensions==1.0.0 in ./.venv/lib/python3.11/site-packages (from -r requirements.txt (line 94)) (1.0.0)\n",
      "Requirement already satisfied: nbclient==0.9.0 in ./.venv/lib/python3.11/site-packages (from -r requirements.txt (line 95)) (0.9.0)\n",
      "Requirement already satisfied: nbconvert==7.11.0 in ./.venv/lib/python3.11/site-packages (from -r requirements.txt (line 96)) (7.11.0)\n",
      "Requirement already satisfied: nbformat==5.9.2 in ./.venv/lib/python3.11/site-packages (from -r requirements.txt (line 97)) (5.9.2)\n",
      "Requirement already satisfied: nest-asyncio==1.5.8 in ./.venv/lib/python3.11/site-packages (from -r requirements.txt (line 98)) (1.5.8)\n",
      "Requirement already satisfied: nltk==3.8.1 in ./.venv/lib/python3.11/site-packages (from -r requirements.txt (line 99)) (3.8.1)\n",
      "Requirement already satisfied: notebook==7.0.6 in ./.venv/lib/python3.11/site-packages (from -r requirements.txt (line 100)) (7.0.6)\n",
      "Requirement already satisfied: notebook_shim==0.2.3 in ./.venv/lib/python3.11/site-packages (from -r requirements.txt (line 101)) (0.2.3)\n",
      "Requirement already satisfied: numpy==1.26.2 in ./.venv/lib/python3.11/site-packages (from -r requirements.txt (line 102)) (1.26.2)\n",
      "Requirement already satisfied: oauthlib==3.2.2 in ./.venv/lib/python3.11/site-packages (from -r requirements.txt (line 103)) (3.2.2)\n",
      "Requirement already satisfied: onnxruntime==1.16.3 in ./.venv/lib/python3.11/site-packages (from -r requirements.txt (line 104)) (1.16.3)\n",
      "Requirement already satisfied: openai==1.3.5 in ./.venv/lib/python3.11/site-packages (from -r requirements.txt (line 105)) (1.3.5)\n",
      "Requirement already satisfied: opentelemetry-api==1.21.0 in ./.venv/lib/python3.11/site-packages (from -r requirements.txt (line 106)) (1.21.0)\n",
      "Requirement already satisfied: opentelemetry-exporter-otlp-proto-common==1.21.0 in ./.venv/lib/python3.11/site-packages (from -r requirements.txt (line 107)) (1.21.0)\n",
      "Requirement already satisfied: opentelemetry-exporter-otlp-proto-grpc==1.21.0 in ./.venv/lib/python3.11/site-packages (from -r requirements.txt (line 108)) (1.21.0)\n",
      "Requirement already satisfied: opentelemetry-instrumentation==0.42b0 in ./.venv/lib/python3.11/site-packages (from -r requirements.txt (line 109)) (0.42b0)\n",
      "Requirement already satisfied: opentelemetry-instrumentation-asgi==0.42b0 in ./.venv/lib/python3.11/site-packages (from -r requirements.txt (line 110)) (0.42b0)\n",
      "Requirement already satisfied: opentelemetry-instrumentation-fastapi==0.42b0 in ./.venv/lib/python3.11/site-packages (from -r requirements.txt (line 111)) (0.42b0)\n",
      "Requirement already satisfied: opentelemetry-proto==1.21.0 in ./.venv/lib/python3.11/site-packages (from -r requirements.txt (line 112)) (1.21.0)\n",
      "Requirement already satisfied: opentelemetry-sdk==1.21.0 in ./.venv/lib/python3.11/site-packages (from -r requirements.txt (line 113)) (1.21.0)\n",
      "Requirement already satisfied: opentelemetry-semantic-conventions==0.42b0 in ./.venv/lib/python3.11/site-packages (from -r requirements.txt (line 114)) (0.42b0)\n",
      "Requirement already satisfied: opentelemetry-util-http==0.42b0 in ./.venv/lib/python3.11/site-packages (from -r requirements.txt (line 115)) (0.42b0)\n",
      "Requirement already satisfied: overrides==7.4.0 in ./.venv/lib/python3.11/site-packages (from -r requirements.txt (line 116)) (7.4.0)\n",
      "Requirement already satisfied: packaging==23.2 in ./.venv/lib/python3.11/site-packages (from -r requirements.txt (line 117)) (23.2)\n",
      "Requirement already satisfied: pandas==2.1.3 in ./.venv/lib/python3.11/site-packages (from -r requirements.txt (line 118)) (2.1.3)\n",
      "Requirement already satisfied: pandocfilters==1.5.0 in ./.venv/lib/python3.11/site-packages (from -r requirements.txt (line 119)) (1.5.0)\n",
      "Requirement already satisfied: parso==0.8.3 in ./.venv/lib/python3.11/site-packages (from -r requirements.txt (line 120)) (0.8.3)\n",
      "Requirement already satisfied: pexpect==4.8.0 in ./.venv/lib/python3.11/site-packages (from -r requirements.txt (line 121)) (4.8.0)\n",
      "Requirement already satisfied: platformdirs==4.0.0 in ./.venv/lib/python3.11/site-packages (from -r requirements.txt (line 122)) (4.0.0)\n",
      "Requirement already satisfied: pluggy==1.3.0 in ./.venv/lib/python3.11/site-packages (from -r requirements.txt (line 123)) (1.3.0)\n",
      "Requirement already satisfied: posthog==3.0.2 in ./.venv/lib/python3.11/site-packages (from -r requirements.txt (line 124)) (3.0.2)\n",
      "Requirement already satisfied: prometheus-client==0.19.0 in ./.venv/lib/python3.11/site-packages (from -r requirements.txt (line 125)) (0.19.0)\n",
      "Requirement already satisfied: prompt-toolkit==3.0.41 in ./.venv/lib/python3.11/site-packages (from -r requirements.txt (line 126)) (3.0.41)\n",
      "Requirement already satisfied: protobuf==4.25.1 in ./.venv/lib/python3.11/site-packages (from -r requirements.txt (line 127)) (4.25.1)\n",
      "Requirement already satisfied: psutil==5.9.6 in ./.venv/lib/python3.11/site-packages (from -r requirements.txt (line 128)) (5.9.6)\n",
      "Requirement already satisfied: psycopg2==2.9.9 in ./.venv/lib/python3.11/site-packages (from -r requirements.txt (line 129)) (2.9.9)\n",
      "Requirement already satisfied: psycopg2-binary==2.9.9 in ./.venv/lib/python3.11/site-packages (from -r requirements.txt (line 130)) (2.9.9)\n",
      "Requirement already satisfied: ptyprocess==0.7.0 in ./.venv/lib/python3.11/site-packages (from -r requirements.txt (line 131)) (0.7.0)\n",
      "Requirement already satisfied: pulsar-client==3.3.0 in ./.venv/lib/python3.11/site-packages (from -r requirements.txt (line 132)) (3.3.0)\n",
      "Requirement already satisfied: pure-eval==0.2.2 in ./.venv/lib/python3.11/site-packages (from -r requirements.txt (line 133)) (0.2.2)\n",
      "Requirement already satisfied: pyasn1==0.5.1 in ./.venv/lib/python3.11/site-packages (from -r requirements.txt (line 134)) (0.5.1)\n",
      "Requirement already satisfied: pyasn1-modules==0.3.0 in ./.venv/lib/python3.11/site-packages (from -r requirements.txt (line 135)) (0.3.0)\n",
      "Requirement already satisfied: pycparser==2.21 in ./.venv/lib/python3.11/site-packages (from -r requirements.txt (line 136)) (2.21)\n",
      "Requirement already satisfied: pydantic==2.5.2 in ./.venv/lib/python3.11/site-packages (from -r requirements.txt (line 137)) (2.5.2)\n",
      "Requirement already satisfied: pydantic-settings==2.1.0 in ./.venv/lib/python3.11/site-packages (from -r requirements.txt (line 138)) (2.1.0)\n",
      "Requirement already satisfied: pydantic_core==2.14.5 in ./.venv/lib/python3.11/site-packages (from -r requirements.txt (line 139)) (2.14.5)\n",
      "Requirement already satisfied: Pygments==2.17.2 in ./.venv/lib/python3.11/site-packages (from -r requirements.txt (line 140)) (2.17.2)\n",
      "Requirement already satisfied: pypdf==3.17.1 in ./.venv/lib/python3.11/site-packages (from -r requirements.txt (line 141)) (3.17.1)\n",
      "Requirement already satisfied: PyPika==0.48.9 in ./.venv/lib/python3.11/site-packages (from -r requirements.txt (line 142)) (0.48.9)\n",
      "Requirement already satisfied: PySocks==1.7.1 in ./.venv/lib/python3.11/site-packages (from -r requirements.txt (line 143)) (1.7.1)\n",
      "Requirement already satisfied: pytest==7.4.3 in ./.venv/lib/python3.11/site-packages (from -r requirements.txt (line 144)) (7.4.3)\n",
      "Requirement already satisfied: python-dateutil==2.8.2 in ./.venv/lib/python3.11/site-packages (from -r requirements.txt (line 145)) (2.8.2)\n",
      "Requirement already satisfied: python-dotenv==1.0.0 in ./.venv/lib/python3.11/site-packages (from -r requirements.txt (line 146)) (1.0.0)\n",
      "Requirement already satisfied: python-json-logger==2.0.7 in ./.venv/lib/python3.11/site-packages (from -r requirements.txt (line 147)) (2.0.7)\n",
      "Requirement already satisfied: pytz==2023.3.post1 in ./.venv/lib/python3.11/site-packages (from -r requirements.txt (line 148)) (2023.3.post1)\n",
      "Requirement already satisfied: PyYAML==6.0.1 in ./.venv/lib/python3.11/site-packages (from -r requirements.txt (line 149)) (6.0.1)\n",
      "Requirement already satisfied: pyzmq==25.1.1 in ./.venv/lib/python3.11/site-packages (from -r requirements.txt (line 150)) (25.1.1)\n",
      "Requirement already satisfied: qtconsole==5.5.1 in ./.venv/lib/python3.11/site-packages (from -r requirements.txt (line 151)) (5.5.1)\n",
      "Requirement already satisfied: QtPy==2.4.1 in ./.venv/lib/python3.11/site-packages (from -r requirements.txt (line 152)) (2.4.1)\n",
      "Requirement already satisfied: referencing==0.31.0 in ./.venv/lib/python3.11/site-packages (from -r requirements.txt (line 153)) (0.31.0)\n",
      "Requirement already satisfied: regex==2023.10.3 in ./.venv/lib/python3.11/site-packages (from -r requirements.txt (line 154)) (2023.10.3)\n",
      "Requirement already satisfied: requests==2.31.0 in ./.venv/lib/python3.11/site-packages (from -r requirements.txt (line 155)) (2.31.0)\n",
      "Requirement already satisfied: requests-oauthlib==1.3.1 in ./.venv/lib/python3.11/site-packages (from -r requirements.txt (line 156)) (1.3.1)\n",
      "Requirement already satisfied: requests-toolbelt==1.0.0 in ./.venv/lib/python3.11/site-packages (from -r requirements.txt (line 157)) (1.0.0)\n",
      "Requirement already satisfied: rfc3339-validator==0.1.4 in ./.venv/lib/python3.11/site-packages (from -r requirements.txt (line 158)) (0.1.4)\n",
      "Requirement already satisfied: rfc3986-validator==0.1.1 in ./.venv/lib/python3.11/site-packages (from -r requirements.txt (line 159)) (0.1.1)\n",
      "Requirement already satisfied: rich==13.7.0 in ./.venv/lib/python3.11/site-packages (from -r requirements.txt (line 160)) (13.7.0)\n",
      "Requirement already satisfied: rpds-py==0.13.1 in ./.venv/lib/python3.11/site-packages (from -r requirements.txt (line 161)) (0.13.1)\n",
      "Requirement already satisfied: rsa==4.9 in ./.venv/lib/python3.11/site-packages (from -r requirements.txt (line 162)) (4.9)\n",
      "Requirement already satisfied: Send2Trash==1.8.2 in ./.venv/lib/python3.11/site-packages (from -r requirements.txt (line 163)) (1.8.2)\n",
      "Requirement already satisfied: six==1.16.0 in ./.venv/lib/python3.11/site-packages (from -r requirements.txt (line 164)) (1.16.0)\n",
      "Requirement already satisfied: sniffio==1.3.0 in ./.venv/lib/python3.11/site-packages (from -r requirements.txt (line 165)) (1.3.0)\n",
      "Requirement already satisfied: soupsieve==2.5 in ./.venv/lib/python3.11/site-packages (from -r requirements.txt (line 166)) (2.5)\n",
      "Requirement already satisfied: SQLAlchemy==2.0.23 in ./.venv/lib/python3.11/site-packages (from -r requirements.txt (line 167)) (2.0.23)\n",
      "Requirement already satisfied: stack-data==0.6.3 in ./.venv/lib/python3.11/site-packages (from -r requirements.txt (line 168)) (0.6.3)\n",
      "Requirement already satisfied: starlette==0.27.0 in ./.venv/lib/python3.11/site-packages (from -r requirements.txt (line 169)) (0.27.0)\n",
      "Requirement already satisfied: sympy==1.12 in ./.venv/lib/python3.11/site-packages (from -r requirements.txt (line 170)) (1.12)\n",
      "Requirement already satisfied: tenacity==8.2.3 in ./.venv/lib/python3.11/site-packages (from -r requirements.txt (line 171)) (8.2.3)\n",
      "Requirement already satisfied: terminado==0.18.0 in ./.venv/lib/python3.11/site-packages (from -r requirements.txt (line 172)) (0.18.0)\n",
      "Requirement already satisfied: tiktoken==0.5.1 in ./.venv/lib/python3.11/site-packages (from -r requirements.txt (line 173)) (0.5.1)\n",
      "Requirement already satisfied: tinycss2==1.2.1 in ./.venv/lib/python3.11/site-packages (from -r requirements.txt (line 174)) (1.2.1)\n",
      "Requirement already satisfied: tokenizers==0.15.0 in ./.venv/lib/python3.11/site-packages (from -r requirements.txt (line 175)) (0.15.0)\n",
      "Requirement already satisfied: tornado==6.3.3 in ./.venv/lib/python3.11/site-packages (from -r requirements.txt (line 176)) (6.3.3)\n",
      "Requirement already satisfied: tqdm==4.66.1 in ./.venv/lib/python3.11/site-packages (from -r requirements.txt (line 177)) (4.66.1)\n",
      "Requirement already satisfied: traitlets==5.13.0 in ./.venv/lib/python3.11/site-packages (from -r requirements.txt (line 178)) (5.13.0)\n",
      "Requirement already satisfied: typer==0.9.0 in ./.venv/lib/python3.11/site-packages (from -r requirements.txt (line 179)) (0.9.0)\n",
      "Requirement already satisfied: types-python-dateutil==2.8.19.14 in ./.venv/lib/python3.11/site-packages (from -r requirements.txt (line 180)) (2.8.19.14)\n",
      "Requirement already satisfied: typing-inspect==0.9.0 in ./.venv/lib/python3.11/site-packages (from -r requirements.txt (line 181)) (0.9.0)\n",
      "Requirement already satisfied: typing_extensions==4.8.0 in ./.venv/lib/python3.11/site-packages (from -r requirements.txt (line 182)) (4.8.0)\n",
      "Requirement already satisfied: tzdata==2023.3 in ./.venv/lib/python3.11/site-packages (from -r requirements.txt (line 183)) (2023.3)\n",
      "Requirement already satisfied: uri-template==1.3.0 in ./.venv/lib/python3.11/site-packages (from -r requirements.txt (line 184)) (1.3.0)\n",
      "Requirement already satisfied: urllib3==1.26.18 in ./.venv/lib/python3.11/site-packages (from -r requirements.txt (line 185)) (1.26.18)\n",
      "Requirement already satisfied: uvicorn==0.24.0.post1 in ./.venv/lib/python3.11/site-packages (from -r requirements.txt (line 186)) (0.24.0.post1)\n",
      "Requirement already satisfied: uvloop==0.19.0 in ./.venv/lib/python3.11/site-packages (from -r requirements.txt (line 187)) (0.19.0)\n",
      "Requirement already satisfied: watchfiles==0.21.0 in ./.venv/lib/python3.11/site-packages (from -r requirements.txt (line 188)) (0.21.0)\n",
      "Requirement already satisfied: wcwidth==0.2.12 in ./.venv/lib/python3.11/site-packages (from -r requirements.txt (line 189)) (0.2.12)\n",
      "Requirement already satisfied: webcolors==1.13 in ./.venv/lib/python3.11/site-packages (from -r requirements.txt (line 190)) (1.13)\n",
      "Requirement already satisfied: webencodings==0.5.1 in ./.venv/lib/python3.11/site-packages (from -r requirements.txt (line 191)) (0.5.1)\n",
      "Requirement already satisfied: websocket-client==1.6.4 in ./.venv/lib/python3.11/site-packages (from -r requirements.txt (line 192)) (1.6.4)\n",
      "Requirement already satisfied: websockets==12.0 in ./.venv/lib/python3.11/site-packages (from -r requirements.txt (line 193)) (12.0)\n",
      "Requirement already satisfied: widgetsnbextension==4.0.9 in ./.venv/lib/python3.11/site-packages (from -r requirements.txt (line 194)) (4.0.9)\n",
      "Requirement already satisfied: wrapt==1.16.0 in ./.venv/lib/python3.11/site-packages (from -r requirements.txt (line 195)) (1.16.0)\n",
      "Requirement already satisfied: yarl==1.9.3 in ./.venv/lib/python3.11/site-packages (from -r requirements.txt (line 196)) (1.9.3)\n",
      "Requirement already satisfied: zipp==3.17.0 in ./.venv/lib/python3.11/site-packages (from -r requirements.txt (line 197)) (3.17.0)\n",
      "Requirement already satisfied: boto3==1.34.0 in ./.venv/lib/python3.11/site-packages (from -r requirements.txt (line 200)) (1.34.0)\n",
      "Requirement already satisfied: python-multipart==0.0.9 in ./.venv/lib/python3.11/site-packages (from -r requirements.txt (line 201)) (0.0.9)\n",
      "Requirement already satisfied: pip in ./.venv/lib/python3.11/site-packages (from httpie==3.2.2->-r requirements.txt (line 49)) (25.2)\n",
      "Requirement already satisfied: setuptools in ./.venv/lib/python3.11/site-packages (from httpie==3.2.2->-r requirements.txt (line 49)) (65.5.0)\n",
      "Requirement already satisfied: botocore<1.35.0,>=1.34.0 in ./.venv/lib/python3.11/site-packages (from boto3==1.34.0->-r requirements.txt (line 200)) (1.34.162)\n",
      "Requirement already satisfied: jmespath<2.0.0,>=0.7.1 in ./.venv/lib/python3.11/site-packages (from boto3==1.34.0->-r requirements.txt (line 200)) (1.0.1)\n",
      "Requirement already satisfied: s3transfer<0.10.0,>=0.9.0 in ./.venv/lib/python3.11/site-packages (from boto3==1.34.0->-r requirements.txt (line 200)) (0.9.0)\n"
     ]
    }
   ],
   "source": [
    "# Install backend requirements using venv pip\n",
    "%cd \"/Users/apple/Downloads/My Files/My File/CRUD4/1019-pdf-app-fastapi-vercel-fullstack-master/001-pdf-fastapi-backend\"\n",
    "!./.venv/bin/pip install -r requirements.txt"
   ]
  },
  {
   "cell_type": "code",
   "execution_count": 20,
   "id": "20962f51",
   "metadata": {},
   "outputs": [
    {
     "name": "stdout",
     "output_type": "stream",
     "text": [
      "brew not found; start Postgres via Postgres.app or ensure it's already running\n"
     ]
    }
   ],
   "source": [
    "# Start PostgreSQL via Homebrew only if brew is available\n",
    "!command -v brew >/dev/null 2>&1 && brew services start postgresql || echo \"brew not found; start Postgres via Postgres.app or ensure it's already running\""
   ]
  },
  {
   "cell_type": "code",
   "execution_count": 21,
   "id": "b806c2b7",
   "metadata": {},
   "outputs": [
    {
     "name": "stdout",
     "output_type": "stream",
     "text": [
      "createdb: error: database creation failed: ERROR:  database \"mydatabase\" already exists\n"
     ]
    }
   ],
   "source": [
    "!createdb mydatabase"
   ]
  },
  {
   "cell_type": "code",
   "execution_count": 22,
   "id": "36091123",
   "metadata": {},
   "outputs": [
    {
     "name": "stdout",
     "output_type": "stream",
     "text": [
      "ERROR:  role \"user12\" already exists\n"
     ]
    }
   ],
   "source": [
    "!psql mydatabase -c \"CREATE USER user12 WITH PASSWORD 'pass12';\""
   ]
  },
  {
   "cell_type": "code",
   "execution_count": 23,
   "id": "8c138bbc",
   "metadata": {},
   "outputs": [
    {
     "name": "stdout",
     "output_type": "stream",
     "text": [
      "GRANT\n"
     ]
    }
   ],
   "source": [
    "!psql mydatabase -c \"GRANT ALL PRIVILEGES ON DATABASE mydatabase TO user12;\""
   ]
  },
  {
   "cell_type": "code",
   "execution_count": 24,
   "id": "90e61a41",
   "metadata": {},
   "outputs": [
    {
     "name": "stdout",
     "output_type": "stream",
     "text": [
      "\n",
      "#Database Configuration\n",
      "DATABASE_USER=user12\n",
      "DATABASE_PASSWORD=pass12\n",
      "DATABASE_HOST=localhost\n",
      "DATABASE_PORT=5432\n",
      "DATABASE_NAME=mydatabase\n"
     ]
    }
   ],
   "source": [
    "!cat api.env"
   ]
  },
  {
   "cell_type": "code",
   "execution_count": null,
   "id": "373be421",
   "metadata": {},
   "outputs": [
    {
     "name": "stdout",
     "output_type": "stream",
     "text": [
      "Requirement already satisfied: alembic in /opt/anaconda3/lib/python3.13/site-packages (1.16.5)\n",
      "Requirement already satisfied: SQLAlchemy>=1.4.0 in /opt/anaconda3/lib/python3.13/site-packages (from alembic) (2.0.39)\n",
      "Requirement already satisfied: Mako in /opt/anaconda3/lib/python3.13/site-packages (from alembic) (1.3.10)\n",
      "Requirement already satisfied: typing-extensions>=4.12 in /opt/anaconda3/lib/python3.13/site-packages (from alembic) (4.12.2)\n",
      "Requirement already satisfied: greenlet!=0.4.17 in /opt/anaconda3/lib/python3.13/site-packages (from SQLAlchemy>=1.4.0->alembic) (3.1.1)\n",
      "Requirement already satisfied: MarkupSafe>=0.9.2 in /opt/anaconda3/lib/python3.13/site-packages (from Mako->alembic) (3.0.2)\n"
     ]
    }
   ],
   "source": [
    "#!pip install alembic"
   ]
  },
  {
   "cell_type": "code",
   "execution_count": 25,
   "id": "912c4515",
   "metadata": {},
   "outputs": [
    {
     "name": "stdout",
     "output_type": "stream",
     "text": [
      "/Users/apple/Downloads/My Files/My File/CRUD4/1019-pdf-app-fastapi-vercel-fullstack-master/001-pdf-fastapi-backend\n",
      "✅ Using SQLite database for testing (overriding DATABASE_URL)\n",
      "INFO  [alembic.runtime.migration] Context impl PostgresqlImpl.\n",
      "INFO  [alembic.runtime.migration] Will assume transactional DDL.\n"
     ]
    }
   ],
   "source": [
    "# Run Alembic upgrade using venv interpreter in backend dir\n",
    "%cd \"/Users/apple/Downloads/My Files/My File/CRUD4/1019-pdf-app-fastapi-vercel-fullstack-master/001-pdf-fastapi-backend\"\n",
    "!./.venv/bin/python -c \"from dotenv import load_dotenv; load_dotenv('api.env')\" || true\n",
    "!./.venv/bin/python -m alembic upgrade head"
   ]
  },
  {
   "cell_type": "code",
   "execution_count": 26,
   "id": "1fb05491",
   "metadata": {},
   "outputs": [
    {
     "name": "stdout",
     "output_type": "stream",
     "text": [
      "alembic 1.16.5\n"
     ]
    }
   ],
   "source": [
    "!alembic --version"
   ]
  },
  {
   "cell_type": "code",
   "execution_count": 27,
   "id": "2067a531",
   "metadata": {},
   "outputs": [
    {
     "name": "stdout",
     "output_type": "stream",
     "text": [
      "✅ Using SQLite database for testing (overriding DATABASE_URL)\n",
      "Traceback (most recent call last):\n",
      "  File \u001b[35m\"/opt/anaconda3/bin/alembic\"\u001b[0m, line \u001b[35m7\u001b[0m, in \u001b[35m<module>\u001b[0m\n",
      "    sys.exit(\u001b[31mmain\u001b[0m\u001b[1;31m()\u001b[0m)\n",
      "             \u001b[31m~~~~\u001b[0m\u001b[1;31m^^\u001b[0m\n",
      "  File \u001b[35m\"/opt/anaconda3/lib/python3.13/site-packages/alembic/config.py\"\u001b[0m, line \u001b[35m1022\u001b[0m, in \u001b[35mmain\u001b[0m\n",
      "    \u001b[31mCommandLine(prog=prog).main\u001b[0m\u001b[1;31m(argv=argv)\u001b[0m\n",
      "    \u001b[31m~~~~~~~~~~~~~~~~~~~~~~~~~~~\u001b[0m\u001b[1;31m^^^^^^^^^^^\u001b[0m\n",
      "  File \u001b[35m\"/opt/anaconda3/lib/python3.13/site-packages/alembic/config.py\"\u001b[0m, line \u001b[35m1012\u001b[0m, in \u001b[35mmain\u001b[0m\n",
      "    \u001b[31mself.run_cmd\u001b[0m\u001b[1;31m(cfg, options)\u001b[0m\n",
      "    \u001b[31m~~~~~~~~~~~~\u001b[0m\u001b[1;31m^^^^^^^^^^^^^^\u001b[0m\n",
      "  File \u001b[35m\"/opt/anaconda3/lib/python3.13/site-packages/alembic/config.py\"\u001b[0m, line \u001b[35m946\u001b[0m, in \u001b[35mrun_cmd\u001b[0m\n",
      "    \u001b[31mfn\u001b[0m\u001b[1;31m(\u001b[0m\n",
      "    \u001b[31m~~\u001b[0m\u001b[1;31m^\u001b[0m\n",
      "        \u001b[1;31mconfig,\u001b[0m\n",
      "        \u001b[1;31m^^^^^^^\u001b[0m\n",
      "        \u001b[1;31m*[getattr(options, k, None) for k in positional],\u001b[0m\n",
      "        \u001b[1;31m^^^^^^^^^^^^^^^^^^^^^^^^^^^^^^^^^^^^^^^^^^^^^^^^^\u001b[0m\n",
      "        \u001b[1;31m**{k: getattr(options, k, None) for k in kwarg},\u001b[0m\n",
      "        \u001b[1;31m^^^^^^^^^^^^^^^^^^^^^^^^^^^^^^^^^^^^^^^^^^^^^^^^\u001b[0m\n",
      "    \u001b[1;31m)\u001b[0m\n",
      "    \u001b[1;31m^\u001b[0m\n",
      "  File \u001b[35m\"/opt/anaconda3/lib/python3.13/site-packages/alembic/command.py\"\u001b[0m, line \u001b[35m483\u001b[0m, in \u001b[35mupgrade\u001b[0m\n",
      "    \u001b[31mscript.run_env\u001b[0m\u001b[1;31m()\u001b[0m\n",
      "    \u001b[31m~~~~~~~~~~~~~~\u001b[0m\u001b[1;31m^^\u001b[0m\n",
      "  File \u001b[35m\"/opt/anaconda3/lib/python3.13/site-packages/alembic/script/base.py\"\u001b[0m, line \u001b[35m549\u001b[0m, in \u001b[35mrun_env\u001b[0m\n",
      "    \u001b[31mutil.load_python_file\u001b[0m\u001b[1;31m(self.dir, \"env.py\")\u001b[0m\n",
      "    \u001b[31m~~~~~~~~~~~~~~~~~~~~~\u001b[0m\u001b[1;31m^^^^^^^^^^^^^^^^^^^^\u001b[0m\n",
      "  File \u001b[35m\"/opt/anaconda3/lib/python3.13/site-packages/alembic/util/pyfiles.py\"\u001b[0m, line \u001b[35m116\u001b[0m, in \u001b[35mload_python_file\u001b[0m\n",
      "    module = load_module_py(module_id, path)\n",
      "  File \u001b[35m\"/opt/anaconda3/lib/python3.13/site-packages/alembic/util/pyfiles.py\"\u001b[0m, line \u001b[35m136\u001b[0m, in \u001b[35mload_module_py\u001b[0m\n",
      "    \u001b[31mspec.loader.exec_module\u001b[0m\u001b[1;31m(module)\u001b[0m  # type: ignore\n",
      "    \u001b[31m~~~~~~~~~~~~~~~~~~~~~~~\u001b[0m\u001b[1;31m^^^^^^^^\u001b[0m\n",
      "  File \u001b[35m\"<frozen importlib._bootstrap_external>\"\u001b[0m, line \u001b[35m1026\u001b[0m, in \u001b[35mexec_module\u001b[0m\n",
      "  File \u001b[35m\"<frozen importlib._bootstrap>\"\u001b[0m, line \u001b[35m488\u001b[0m, in \u001b[35m_call_with_frames_removed\u001b[0m\n",
      "  File \u001b[35m\"/Users/apple/Downloads/My Files/My File/CRUD4/1019-pdf-app-fastapi-vercel-fullstack-master/001-pdf-fastapi-backend/alembic/env.py\"\u001b[0m, line \u001b[35m109\u001b[0m, in \u001b[35m<module>\u001b[0m\n",
      "    \u001b[31mrun_migrations_online\u001b[0m\u001b[1;31m()\u001b[0m\n",
      "    \u001b[31m~~~~~~~~~~~~~~~~~~~~~\u001b[0m\u001b[1;31m^^\u001b[0m\n",
      "  File \u001b[35m\"/Users/apple/Downloads/My Files/My File/CRUD4/1019-pdf-app-fastapi-vercel-fullstack-master/001-pdf-fastapi-backend/alembic/env.py\"\u001b[0m, line \u001b[35m91\u001b[0m, in \u001b[35mrun_migrations_online\u001b[0m\n",
      "    connectable = engine_from_config(\n",
      "        config.get_section(config.config_ini_section, {}),\n",
      "        prefix=\"sqlalchemy.\",\n",
      "        poolclass=pool.NullPool,\n",
      "    )\n",
      "  File \u001b[35m\"/opt/anaconda3/lib/python3.13/site-packages/sqlalchemy/engine/create.py\"\u001b[0m, line \u001b[35m823\u001b[0m, in \u001b[35mengine_from_config\u001b[0m\n",
      "    return create_engine(url, **options)\n",
      "  File \u001b[35m\"<string>\"\u001b[0m, line \u001b[35m2\u001b[0m, in \u001b[35mcreate_engine\u001b[0m\n",
      "  File \u001b[35m\"/opt/anaconda3/lib/python3.13/site-packages/sqlalchemy/util/deprecations.py\"\u001b[0m, line \u001b[35m281\u001b[0m, in \u001b[35mwarned\u001b[0m\n",
      "    return fn(*args, **kwargs)  # type: ignore[no-any-return]\n",
      "  File \u001b[35m\"/opt/anaconda3/lib/python3.13/site-packages/sqlalchemy/engine/create.py\"\u001b[0m, line \u001b[35m602\u001b[0m, in \u001b[35mcreate_engine\u001b[0m\n",
      "    dbapi = dbapi_meth(**dbapi_args)\n",
      "  File \u001b[35m\"/opt/anaconda3/lib/python3.13/site-packages/sqlalchemy/dialects/postgresql/psycopg2.py\"\u001b[0m, line \u001b[35m696\u001b[0m, in \u001b[35mimport_dbapi\u001b[0m\n",
      "    import psycopg2\n",
      "\u001b[1;35mModuleNotFoundError\u001b[0m: \u001b[35mNo module named 'psycopg2'\u001b[0m\n"
     ]
    }
   ],
   "source": [
    "!alembic upgrade head"
   ]
  },
  {
   "cell_type": "code",
   "execution_count": 28,
   "id": "b7060ea7",
   "metadata": {},
   "outputs": [
    {
     "data": {
      "text/plain": [
       "True"
      ]
     },
     "execution_count": 28,
     "metadata": {},
     "output_type": "execute_result"
    }
   ],
   "source": [
    "import os\n",
    "from dotenv import load_dotenv\n",
    "\n",
    "if not os.path.isfile('api.env'):\n",
    "    raise FileNotFoundError('api.env not found in current directory')\n",
    "\n",
    "load_dotenv('api.env')\n",
    "\n",
    "# No Alembic/SQLAlchemy config here; the server cell will read env vars at import time."
   ]
  },
  {
   "cell_type": "code",
   "execution_count": 29,
   "id": "7c1a2cdc",
   "metadata": {},
   "outputs": [
    {
     "name": "stdout",
     "output_type": "stream",
     "text": [
      "DATABASE_USER = user12\n",
      "DATABASE_HOST = localhost\n",
      "DATABASE_NAME = mydatabase\n"
     ]
    }
   ],
   "source": [
    "print('DATABASE_USER =', os.getenv('DATABASE_USER'))\n",
    "print('DATABASE_HOST =', os.getenv('DATABASE_HOST'))\n",
    "print('DATABASE_NAME =', os.getenv('DATABASE_NAME'))"
   ]
  },
  {
   "cell_type": "code",
   "execution_count": 30,
   "id": "c20f461b",
   "metadata": {},
   "outputs": [
    {
     "name": "stdout",
     "output_type": "stream",
     "text": [
      "total 592\n",
      "drwxrwxr-x@ 21 Ali  staff     672 Oct 21 12:01 \u001b[34m.\u001b[m\u001b[m\n",
      "drwxrwxr-x@  5 Ali  staff     160 Mar 29  2024 \u001b[34m..\u001b[m\u001b[m\n",
      "-rw-rw-r--@  1 Ali  staff    6148 Mar 29  2024 .DS_Store\n",
      "-rw-r--r--   1 Ali  staff      75 Oct  6 11:12 .env\n",
      "-rw-rw-r--@  1 Ali  staff       4 Mar 29  2024 .gitignore\n",
      "drwxr-xr-x   9 Ali  staff     288 Oct  7 09:16 \u001b[34m.venv\u001b[m\u001b[m\n",
      "drwxrwxr-x@ 14 Ali  staff     448 Oct 22 08:10 \u001b[34m__pycache__\u001b[m\u001b[m\n",
      "drwxrwxr-x@  7 Ali  staff     224 Mar 29  2024 \u001b[34malembic\u001b[m\u001b[m\n",
      "-rw-rw-r--@  1 Ali  staff    3613 Mar 29  2024 alembic.ini\n",
      "-rw-rw-r--@  1 Ali  staff  224963 Mar 29  2024 allergic.pdf\n",
      "-rw-r--r--   1 Ali  staff     139 Oct  6 15:39 api.env\n",
      "-rw-rw-r--@  1 Ali  staff     651 Oct 22 08:07 config.py\n",
      "-rw-r--r--   1 Ali  staff     716 Oct  7 08:24 create_db.py\n",
      "-rw-rw-r--@  1 Ali  staff    3451 Oct 22 08:08 crud.py\n",
      "-rw-rw-r--@  1 Ali  staff    1161 Oct 22 08:08 database.py\n",
      "-rw-rw-r--@  1 Ali  staff    2338 Oct 22 08:08 main.py\n",
      "-rw-rw-r--@  1 Ali  staff     461 Oct 16 08:33 models.py\n",
      "-rw-rw-r--@  1 Ali  staff    3859 Oct  6 12:03 requirements.txt\n",
      "drwxrwxr-x@  5 Ali  staff     160 Oct  7 14:21 \u001b[34mrouters\u001b[m\u001b[m\n",
      "-rw-rw-r--@  1 Ali  staff     566 Oct 16 08:33 schemas.py\n",
      "-rw-r--r--   1 Ali  staff   20480 Oct 21 12:01 test.db\n"
     ]
    }
   ],
   "source": [
    "!ls -la"
   ]
  },
  {
   "cell_type": "code",
   "execution_count": 31,
   "id": "b0070358",
   "metadata": {},
   "outputs": [
    {
     "name": "stdout",
     "output_type": "stream",
     "text": [
      "/Users/apple/Downloads/My Files/My File/CRUD4/1019-pdf-app-fastapi-vercel-fullstack-master/002-pdf-vercel-frontend/pdf-app\n",
      "\u001b[1G\u001b[0K⠙\u001b[1G\u001b[0K⠹\u001b[1G\u001b[0K⠸\u001b[1G\u001b[0K⠼\u001b[1G\u001b[0K⠴\u001b[1G\u001b[0K⠦\u001b[1G\u001b[0K⠧\u001b[1G\u001b[0K⠇\u001b[1G\u001b[0K⠏\u001b[1G\u001b[0K⠋\u001b[1G\u001b[0K⠙\u001b[1G\u001b[0K⠹\u001b[1G\u001b[0K⠸\u001b[1G\u001b[0K⠼\u001b[1G\u001b[0K⠴\u001b[1G\u001b[0K⠦\u001b[1G\u001b[0K⠧\u001b[1G\u001b[0K⠇\u001b[1G\u001b[0K⠏\u001b[1G\u001b[0K⠋\u001b[1G\u001b[0K⠙\u001b[1G\u001b[0K⠹\u001b[1G\u001b[0K⠸\u001b[1G\u001b[0K⠼\u001b[1G\u001b[0K⠴\u001b[1G\u001b[0K⠦\u001b[1G\u001b[0K⠧\u001b[1G\u001b[0K⠇\u001b[1G\u001b[0K⠏\u001b[1G\u001b[0K⠋\u001b[1G\u001b[0K⠙\u001b[1G\u001b[0K⠹\u001b[1G\u001b[0K⠸\u001b[1G\u001b[0K⠼\u001b[1G\u001b[0K⠴\u001b[1G\u001b[0K⠦\u001b[1G\u001b[0K⠧\u001b[1G\u001b[0K⠇\u001b[1G\u001b[0K⠏\u001b[1G\u001b[0K⠋\u001b[1G\u001b[0K⠙\u001b[1G\u001b[0K⠹\u001b[1G\u001b[0K⠸\u001b[1G\u001b[0K⠼\u001b[1G\u001b[0K⠴\u001b[1G\u001b[0K⠦\u001b[1G\u001b[0K⠧\u001b[1G\u001b[0K⠇\u001b[1G\u001b[0K⠏\u001b[1G\u001b[0K⠋\u001b[1G\u001b[0K⠙\u001b[1G\u001b[0K⠹\u001b[1G\u001b[0K⠸\u001b[1G\u001b[0K⠼\u001b[1G\u001b[0K⠴\u001b[1G\u001b[0K⠦\u001b[1G\u001b[0K⠧\u001b[1G\u001b[0K⠇\u001b[1G\u001b[0K⠏\u001b[1G\u001b[0K⠋\u001b[1G\u001b[0K⠙\u001b[1G\u001b[0K⠹\u001b[1G\u001b[0K⠸\u001b[1G\u001b[0K⠼\u001b[1G\u001b[0K⠴\u001b[1G\u001b[0K⠦\u001b[1G\u001b[0K⠧\u001b[1G\u001b[0K⠇\u001b[1G\u001b[0K⠏\u001b[1G\u001b[0K⠋\u001b[1G\u001b[0K⠙\u001b[1G\u001b[0K⠹\u001b[1G\u001b[0K⠸\u001b[1G\u001b[0K⠼\u001b[1G\u001b[0K⠴\u001b[1G\u001b[0K⠦\u001b[1G\u001b[0K⠧\u001b[1G\u001b[0K⠇\u001b[1G\u001b[0K⠏\u001b[1G\u001b[0K⠋\u001b[1G\u001b[0K⠙\u001b[1G\u001b[0K⠹\u001b[1G\u001b[0K⠸\u001b[1G\u001b[0K⠼\u001b[1G\u001b[0K⠴\u001b[1G\u001b[0K⠦\u001b[1G\u001b[0K⠧\u001b[1G\u001b[0K⠇\u001b[1G\u001b[0K⠏\u001b[1G\u001b[0K⠋\u001b[1G\u001b[0K⠙\u001b[1G\u001b[0K⠹\u001b[1G\u001b[0K⠸\u001b[1G\u001b[0K⠼\u001b[1G\u001b[0K⠴\u001b[1G\u001b[0K⠦\u001b[1G\u001b[0K⠧\u001b[1G\u001b[0K⠇\u001b[1G\u001b[0K⠏\u001b[1G\u001b[0K⠋\u001b[1G\u001b[0K⠙\u001b[1G\u001b[0K⠹\u001b[1G\u001b[0K⠸\u001b[1G\u001b[0K⠼\u001b[1G\u001b[0K⠴\u001b[1G\u001b[0K⠦\u001b[1G\u001b[0K⠧\u001b[1G\u001b[0K⠇\u001b[1G\u001b[0K⠏\u001b[1G\u001b[0K⠋\u001b[1G\u001b[0K⠙\u001b[1G\u001b[0K⠹\u001b[1G\u001b[0K⠸\u001b[1G\u001b[0K⠼\u001b[1G\u001b[0K⠴\u001b[1G\u001b[0K⠦\u001b[1G\u001b[0K⠧\u001b[1G\u001b[0K⠇\u001b[1G\u001b[0K⠏\u001b[1G\u001b[0K⠋\u001b[1G\u001b[0K⠙\u001b[1G\u001b[0K⠹\u001b[1G\u001b[0K⠸\u001b[1G\u001b[0K⠼\u001b[1G\u001b[0K⠴\u001b[1G\u001b[0K⠦\u001b[1G\u001b[0K⠧\u001b[1G\u001b[0K⠇\u001b[1G\u001b[0K⠏\u001b[1G\u001b[0K⠋\u001b[1G\u001b[0K⠙\u001b[1G\u001b[0K⠹\u001b[1G\u001b[0K⠸\u001b[1G\u001b[0K⠼\u001b[1G\u001b[0K⠴\u001b[1G\u001b[0K⠦\u001b[1G\u001b[0K⠧\u001b[1G\u001b[0K⠇\u001b[1G\u001b[0K⠏\u001b[1G\u001b[0K⠋\u001b[1G\u001b[0K⠙\u001b[1G\u001b[0K⠹\u001b[1G\u001b[0K⠸\u001b[1G\u001b[0K⠼\u001b[1G\u001b[0K⠴\u001b[1G\u001b[0K⠦\u001b[1G\u001b[0K⠧\u001b[1G\u001b[0K⠇\u001b[1G\u001b[0K⠏\u001b[1G\u001b[0K⠋\u001b[1G\u001b[0K⠙\u001b[1G\u001b[0K⠹\u001b[1G\u001b[0K⠸\u001b[1G\u001b[0K⠼\u001b[1G\u001b[0K⠴\u001b[1G\u001b[0K⠦\u001b[1G\u001b[0K⠧\u001b[1G\u001b[0K⠇\u001b[1G\u001b[0K⠏\u001b[1G\u001b[0K⠋\u001b[1G\u001b[0K⠙\u001b[1G\u001b[0K⠹\u001b[1G\u001b[0K⠸\u001b[1G\u001b[0K⠼\u001b[1G\u001b[0K⠴\u001b[1G\u001b[0K⠦\u001b[1G\u001b[0K⠧\u001b[1G\u001b[0K⠇\u001b[1G\u001b[0K⠏\u001b[1G\u001b[0K⠋\u001b[1G\u001b[0K⠙\u001b[1G\u001b[0K⠹\u001b[1G\u001b[0K⠸\u001b[1G\u001b[0K⠼\u001b[1G\u001b[0K⠴\u001b[1G\u001b[0K⠦\u001b[1G\u001b[0K⠧\u001b[1G\u001b[0K⠇\u001b[1G\u001b[0K⠏\u001b[1G\u001b[0K⠋\u001b[1G\u001b[0K⠙\u001b[1G\u001b[0K⠹\u001b[1G\u001b[0K⠸\u001b[1G\u001b[0K⠼\u001b[1G\u001b[0K⠴\u001b[1G\u001b[0K⠦\u001b[1G\u001b[0K\n",
      "added 274 packages, and audited 275 packages in 20s\n",
      "\u001b[1G\u001b[0K⠦\u001b[1G\u001b[0K\n",
      "\u001b[1G\u001b[0K⠦\u001b[1G\u001b[0K106 packages are looking for funding\n",
      "\u001b[1G\u001b[0K⠦\u001b[1G\u001b[0K  run `npm fund` for details\n",
      "\u001b[1G\u001b[0K⠦\u001b[1G\u001b[0K\n",
      "\u001b[31m\u001b[1m7\u001b[22m\u001b[39m vulnerabilities (1 \u001b[1mlow\u001b[22m, 3 \u001b[33m\u001b[1mmoderate\u001b[22m\u001b[39m, 2 \u001b[31m\u001b[1mhigh\u001b[22m\u001b[39m, 1 \u001b[35m\u001b[1mcritical\u001b[22m\u001b[39m)\n",
      "\n",
      "To address issues that do not require attention, run:\n",
      "  npm audit fix\n",
      "\n",
      "To address all issues, run:\n",
      "  npm audit fix --force\n",
      "\n",
      "Run `npm audit` for details.\n",
      "\u001b[1G\u001b[0K⠧\u001b[1G\u001b[0K\u001b[1mnpm\u001b[22m \u001b[96mnotice\u001b[39m\n",
      "\u001b[1mnpm\u001b[22m \u001b[96mnotice\u001b[39m New \u001b[31mmajor\u001b[39m version of npm available! \u001b[31m10.9.3\u001b[39m -> \u001b[34m11.6.2\u001b[39m\n",
      "\u001b[1mnpm\u001b[22m \u001b[96mnotice\u001b[39m Changelog: \u001b[34mhttps://github.com/npm/cli/releases/tag/v11.6.2\u001b[39m\n",
      "\u001b[1mnpm\u001b[22m \u001b[96mnotice\u001b[39m To update run: \u001b[4mnpm install -g npm@11.6.2\u001b[24m\n",
      "\u001b[1mnpm\u001b[22m \u001b[96mnotice\u001b[39m\n",
      "\u001b[1G\u001b[0K⠧\u001b[1G\u001b[0K"
     ]
    }
   ],
   "source": [
    "# Frontend install in correct directory\n",
    "%cd \"/Users/apple/Downloads/My Files/My File/CRUD4/1019-pdf-app-fastapi-vercel-fullstack-master/002-pdf-vercel-frontend/pdf-app\"\n",
    "!npm ci || npm install"
   ]
  },
  {
   "cell_type": "code",
   "execution_count": 32,
   "id": "5e31361b",
   "metadata": {},
   "outputs": [
    {
     "name": "stdout",
     "output_type": "stream",
     "text": [
      "\u001b[1G\u001b[0KNPM-CI(1)                                                              NPM-CI(1)\n",
      "\n",
      "\n",
      "\n",
      "NAME\n",
      "       npm-ci - Clean install a project\n",
      "\n",
      "   Synopsis\n",
      "         npm ci\n",
      "\n",
      "         aliases: clean-install, ic, install-clean, isntall-clean\n",
      "\n",
      "   Description\n",
      "       This command is similar to npm help install, except it's meant to be used\n",
      "       in automated environments such as test platforms, continuous integration,\n",
      "       and deployment -- or any situation where you want to make sure you're\n",
      "       doing a clean install of your dependencies.\n",
      "\n",
      "       The main differences between using npm install and npm ci are:\n",
      "\n",
      "       •   The project must have an existing package-lock.json or npm-\n",
      "           shrinkwrap.json.\n",
      "\n",
      "       •   If dependencies in the package lock do not match those in\n",
      "           package.json, npm ci will exit with an error, instead of updating the\n",
      "           package lock.\n",
      "\n",
      "       •   npm ci can only install entire projects at a time: individual\n",
      "           dependencies cannot be added with this command.\n",
      "\n",
      "       •   If a node_modules is already present, it will be automatically\n",
      "           removed before npm ci begins its install.\n",
      "\n",
      "       •   It will never write to package.json or any of the package-locks:\n",
      "           installs are essentially frozen.\n",
      "\n",
      "\n",
      "       NOTE: If you create your package-lock.json file by running npm install\n",
      "       with flags that can affect the shape of your dependency tree, such as\n",
      "       --legacy-peer-deps or --install-links, you must provide the same flags to\n",
      "       npm ci or you are likely to encounter errors. An easy way to do this is\n",
      "       to run, for example, npm config set legacy-peer-deps=true\n",
      "       --location=project and commit the .npmrc file to your repo.\n",
      "\n",
      "   Example\n",
      "       Make sure you have a package-lock and an up-to-date install:\n",
      "\n",
      "         $ cd ./my/npm/project\n",
      "         $ npm install\n",
      "         added 154 packages in 10s\n",
      "         $ ls | grep package-lock\n",
      "\n",
      "       Run npm ci in that project\n",
      "\n",
      "         $ npm ci\n",
      "         added 154 packages in 5s\n",
      "\n",
      "       Configure Travis CI to build using npm ci instead of npm install:\n",
      "\n",
      "         # .travis.yml\n",
      "         install:\n",
      "         - npm ci\n",
      "         # keep the npm cache around to speed up installs\n",
      "         cache:\n",
      "           directories:\n",
      "           - \"$HOME/.npm\"\n",
      "\n",
      "   Configuration\n",
      "   install-strategy\n",
      "\n",
      "       •   Default: \"hoisted\"\n",
      "\n",
      "       •   Type: \"hoisted\", \"nested\", \"shallow\", or \"linked\"\n",
      "\n",
      "\n",
      "       Sets the strategy for installing packages in node_modules. hoisted\n",
      "       (default): Install non-duplicated in top-level, and duplicated as\n",
      "       necessary within directory structure. nested: (formerly --legacy-\n",
      "       bundling) install in place, no hoisting. shallow (formerly --global-\n",
      "       style) only install direct deps at top-level. linked: (experimental)\n",
      "       install in node_modules/.store, link in place, unhoisted.\n",
      "\n",
      "   legacy-bundling\n",
      "\n",
      "       •   Default: false\n",
      "\n",
      "       •   Type: Boolean\n",
      "\n",
      "       •   DEPRECATED: This option has been deprecated in favor of --install-\n",
      "           strategy=nested\n",
      "\n",
      "\n",
      "       Instead of hoisting package installs in node_modules, install packages in\n",
      "       the same manner that they are depended on. This may cause very deep\n",
      "       directory structures and duplicate package installs as there is no de-\n",
      "       duplicating. Sets --install-strategy=nested.\n",
      "\n",
      "   global-style\n",
      "\n",
      "       •   Default: false\n",
      "\n",
      "       •   Type: Boolean\n",
      "\n",
      "       •   DEPRECATED: This option has been deprecated in favor of --install-\n",
      "           strategy=shallow\n",
      "\n",
      "\n",
      "       Only install direct dependencies in the top level node_modules, but hoist\n",
      "       on deeper dependencies. Sets --install-strategy=shallow.\n",
      "\n",
      "   omit\n",
      "\n",
      "       •   Default: 'dev' if the NODE_ENV environment variable is set to\n",
      "           'production', otherwise empty.\n",
      "\n",
      "       •   Type: \"dev\", \"optional\", or \"peer\" (can be set multiple times)\n",
      "\n",
      "\n",
      "       Dependency types to omit from the installation tree on disk.\n",
      "\n",
      "       Note that these dependencies are still resolved and added to the package-\n",
      "       lock.json or npm-shrinkwrap.json file. They are just not physically\n",
      "       installed on disk.\n",
      "\n",
      "       If a package type appears in both the --include and --omit lists, then it\n",
      "       will be included.\n",
      "\n",
      "       If the resulting omit list includes 'dev', then the NODE_ENV environment\n",
      "       variable will be set to 'production' for all lifecycle scripts.\n",
      "\n",
      "   include\n",
      "\n",
      "       •   Default:\n",
      "\n",
      "       •   Type: \"prod\", \"dev\", \"optional\", or \"peer\" (can be set multiple\n",
      "           times)\n",
      "\n",
      "\n",
      "       Option that allows for defining which types of dependencies to install.\n",
      "\n",
      "       This is the inverse of --omit=<type>.\n",
      "\n",
      "       Dependency types specified in --include will not be omitted, regardless\n",
      "       of the order in which omit/include are specified on the command-line.\n",
      "\n",
      "   strict-peer-deps\n",
      "\n",
      "       •   Default: false\n",
      "\n",
      "       •   Type: Boolean\n",
      "\n",
      "\n",
      "       If set to true, and --legacy-peer-deps is not set, then any conflicting\n",
      "       peerDependencies will be treated as an install failure, even if npm could\n",
      "       reasonably guess the appropriate resolution based on non-peer dependency\n",
      "       relationships.\n",
      "\n",
      "       By default, conflicting peerDependencies deep in the dependency graph\n",
      "       will be resolved using the nearest non-peer dependency specification,\n",
      "       even if doing so will result in some packages receiving a peer dependency\n",
      "       outside the range set in their package's peerDependencies object.\n",
      "\n",
      "       When such an override is performed, a warning is printed, explaining the\n",
      "       conflict and the packages involved. If --strict-peer-deps is set, then\n",
      "       this warning is treated as a failure.\n",
      "\n",
      "   foreground-scripts\n",
      "\n",
      "       •   Default: false unless when using npm pack or npm publish where it\n",
      "           defaults to true\n",
      "\n",
      "       •   Type: Boolean\n",
      "\n",
      "\n",
      "       Run all build scripts (ie, preinstall, install, and postinstall) scripts\n",
      "       for installed packages in the foreground process, sharing standard input,\n",
      "       output, and error with the main npm process.\n",
      "\n",
      "       Note that this will generally make installs run slower, and be much\n",
      "       noisier, but can be useful for debugging.\n",
      "\n",
      "   ignore-scripts\n",
      "\n",
      "       •   Default: false\n",
      "\n",
      "       •   Type: Boolean\n",
      "\n",
      "\n",
      "       If true, npm does not run scripts specified in package.json files.\n",
      "\n",
      "       Note that commands explicitly intended to run a particular script, such\n",
      "       as npm start, npm stop, npm restart, npm test, and npm run-script will\n",
      "       still run their intended script if ignore-scripts is set, but they will\n",
      "       not run any pre- or post-scripts.\n",
      "\n",
      "   audit\n",
      "\n",
      "       •   Default: true\n",
      "\n",
      "       •   Type: Boolean\n",
      "\n",
      "\n",
      "       When \"true\" submit audit reports alongside the current npm command to the\n",
      "       default registry and all registries configured for scopes. See the\n",
      "       documentation for npm help audit for details on what is submitted.\n",
      "\n",
      "   bin-links\n",
      "\n",
      "       •   Default: true\n",
      "\n",
      "       •   Type: Boolean\n",
      "\n",
      "\n",
      "       Tells npm to create symlinks (or .cmd shims on Windows) for package\n",
      "       executables.\n",
      "\n",
      "       Set to false to have it not do this. This can be used to work around the\n",
      "       fact that some file systems don't support symlinks, even on ostensibly\n",
      "       Unix systems.\n",
      "\n",
      "   fund\n",
      "\n",
      "       •   Default: true\n",
      "\n",
      "       •   Type: Boolean\n",
      "\n",
      "\n",
      "       When \"true\" displays the message at the end of each npm install\n",
      "       acknowledging the number of dependencies looking for funding. See npm\n",
      "       help fund for details.\n",
      "\n",
      "   dry-run\n",
      "\n",
      "       •   Default: false\n",
      "\n",
      "       •   Type: Boolean\n",
      "\n",
      "\n",
      "       Indicates that you don't want npm to make any changes and that it should\n",
      "       only report what it would have done. This can be passed into any of the\n",
      "       commands that modify your local installation, eg, install, update,\n",
      "       dedupe, uninstall, as well as pack and publish.\n",
      "\n",
      "       Note: This is NOT honored by other network related commands, eg dist-\n",
      "       tags, owner, etc.\n",
      "\n",
      "   workspace\n",
      "\n",
      "       •   Default:\n",
      "\n",
      "       •   Type: String (can be set multiple times)\n",
      "\n",
      "\n",
      "       Enable running a command in the context of the configured workspaces of\n",
      "       the current project while filtering by running only the workspaces\n",
      "       defined by this configuration option.\n",
      "\n",
      "       Valid values for the workspace config are either:\n",
      "\n",
      "       •   Workspace names\n",
      "\n",
      "       •   Path to a workspace directory\n",
      "\n",
      "       •   Path to a parent workspace directory (will result in selecting all\n",
      "           workspaces within that folder)\n",
      "\n",
      "\n",
      "       When set for the npm init command, this may be set to the folder of a\n",
      "       workspace which does not yet exist, to create the folder and set it up as\n",
      "       a brand new workspace within the project.\n",
      "\n",
      "       This value is not exported to the environment for child processes.\n",
      "\n",
      "   workspaces\n",
      "\n",
      "       •   Default: null\n",
      "\n",
      "       •   Type: null or Boolean\n",
      "\n",
      "\n",
      "       Set to true to run the command in the context of all configured\n",
      "       workspaces.\n",
      "\n",
      "       Explicitly setting this to false will cause commands like install to\n",
      "       ignore workspaces altogether. When not set explicitly:\n",
      "\n",
      "       •   Commands that operate on the node_modules tree (install, update,\n",
      "           etc.) will link workspaces into the node_modules folder. - Commands\n",
      "           that do other things (test, exec, publish, etc.) will operate on the\n",
      "           root project, unless one or more workspaces are specified in the\n",
      "           workspace config.\n",
      "\n",
      "\n",
      "       This value is not exported to the environment for child processes.\n",
      "\n",
      "   include-workspace-root\n",
      "\n",
      "       •   Default: false\n",
      "\n",
      "       •   Type: Boolean\n",
      "\n",
      "\n",
      "       Include the workspace root when workspaces are enabled for a command.\n",
      "\n",
      "       When false, specifying individual workspaces via the workspace config, or\n",
      "       all workspaces via the workspaces flag, will cause npm to operate only on\n",
      "       the specified workspaces, and not on the root project.\n",
      "\n",
      "       This value is not exported to the environment for child processes.\n",
      "\n",
      "   install-links\n",
      "\n",
      "       •   Default: false\n",
      "\n",
      "       •   Type: Boolean\n",
      "\n",
      "\n",
      "       When set file: protocol dependencies will be packed and installed as\n",
      "       regular dependencies instead of creating a symlink. This option has no\n",
      "       effect on workspaces.\n",
      "\n",
      "   See Also\n",
      "\n",
      "       •   npm help install\n",
      "\n",
      "       •   package-lock.json ⟨/configuring-npm/package-lock-json⟩\n",
      "\n",
      "\n",
      "\n",
      "NPM@10.9.3                          June 2025                          NPM-CI(1)\n",
      "\u001b[1G\u001b[0K⠙\u001b[1G\u001b[0K"
     ]
    }
   ],
   "source": [
    "!npm help ci"
   ]
  },
  {
   "cell_type": "code",
   "execution_count": 33,
   "id": "efdb7f1a",
   "metadata": {},
   "outputs": [
    {
     "name": "stdout",
     "output_type": "stream",
     "text": [
      "/Users/apple/Downloads/My Files/My File/CRUD4/1019-pdf-app-fastapi-vercel-fullstack-master/002-pdf-vercel-frontend/pdf-app\n",
      "\n",
      "> pdf-app@0.1.0 dev\n",
      "> next dev\n",
      "\n",
      "\u001b[1G\u001b[0K  \u001b[1m\u001b[38;2;173;127;168m ▲ Next.js 14.0.4\u001b[39m\u001b[22m\n",
      "   - Local:        http://localhost:3000\n",
      "   - Environments: .env.local\n",
      "\n",
      " \u001b[32m\u001b[1m✓\u001b[22m\u001b[39m Ready in 5s\n",
      "^C\n"
     ]
    }
   ],
   "source": [
    "# Start frontend dev server from frontend dir\n",
    "%cd \"/Users/apple/Downloads/My Files/My File/CRUD4/1019-pdf-app-fastapi-vercel-fullstack-master/002-pdf-vercel-frontend/pdf-app\"\n",
    "!npm run dev"
   ]
  },
  {
   "cell_type": "code",
   "execution_count": 36,
   "metadata": {},
   "outputs": [
    {
     "name": "stdout",
     "output_type": "stream",
     "text": [
      "/Users/apple/Downloads/My Files/My File/CRUD4/1019-pdf-app-fastapi-vercel-fullstack-master/001-pdf-fastapi-backend\n",
      "\u001b[32mINFO\u001b[0m:     Will watch for changes in these directories: ['/Users/apple/Downloads/My Files/My File/CRUD4/1019-pdf-app-fastapi-vercel-fullstack-master/001-pdf-fastapi-backend']\n",
      "\u001b[32mINFO\u001b[0m:     Uvicorn running on \u001b[1mhttp://127.0.0.1:8000\u001b[0m (Press CTRL+C to quit)\n",
      "\u001b[32mINFO\u001b[0m:     Started reloader process [\u001b[36m\u001b[1m7028\u001b[0m] using \u001b[36m\u001b[1mWatchFiles\u001b[0m\n",
      "✅ Using SQLite database for testing (overriding DATABASE_URL)\n",
      "\u001b[32mINFO\u001b[0m:     Started server process [\u001b[36m7030\u001b[0m]\n",
      "\u001b[32mINFO\u001b[0m:     Waiting for application startup.\n",
      "\u001b[32mINFO\u001b[0m:     Application startup complete.\n",
      "\u001b[32mINFO\u001b[0m:     127.0.0.1:50159 - \"\u001b[1mGET / HTTP/1.1\u001b[0m\" \u001b[32m200 OK\u001b[0m\n",
      "HTTPException(status_code=404, detail='Not Found')\n",
      "\u001b[32mINFO\u001b[0m:     127.0.0.1:50159 - \"\u001b[1mGET /favicon.ico HTTP/1.1\u001b[0m\" \u001b[31m404 Not Found\u001b[0m\n",
      "^C\n",
      "\u001b[32mINFO\u001b[0m:     Shutting down\n",
      "\u001b[32mINFO\u001b[0m:     Finished server process [\u001b[36m7030\u001b[0m]\n",
      "\u001b[31mERROR\u001b[0m:    Traceback (most recent call last):\n",
      "  File \"/Users/apple/Downloads/My Files/My File/CRUD4/1019-pdf-app-fastapi-vercel-fullstack-master/001-pdf-fastapi-backend/.venv/lib/python3.11/site-packages/starlette/routing.py\", line 686, in lifespan\n",
      "    await receive()\n",
      "  File \"/Users/apple/Downloads/My Files/My File/CRUD4/1019-pdf-app-fastapi-vercel-fullstack-master/001-pdf-fastapi-backend/.venv/lib/python3.11/site-packages/uvicorn/lifespan/on.py\", line 137, in receive\n",
      "    return await self.receive_queue.get()\n",
      "           ^^^^^^^^^^^^^^^^^^^^^^^^^^^^^^\n",
      "  File \"/Library/Frameworks/Python.framework/Versions/3.11/lib/python3.11/asyncio/queues.py\", line 158, in get\n",
      "    await getter\n",
      "asyncio.exceptions.CancelledError\n",
      "\n"
     ]
    }
   ],
   "source": [
    "# Start FastAPI backend server using venv uvicorn (foreground)\n",
    "%cd \"/Users/apple/Downloads/My Files/My File/CRUD4/1019-pdf-app-fastapi-vercel-fullstack-master/001-pdf-fastapi-backend\"\n",
    "!./.venv/bin/python -c \"from dotenv import load_dotenv; load_dotenv('api.env')\" || true\n",
    "!./.venv/bin/uvicorn main:app --reload --port 8000 --host 127.0.0.1"
   ]
  },
  {
   "cell_type": "code",
   "execution_count": 37,
   "id": "d368dbee",
   "metadata": {},
   "outputs": [
    {
     "name": "stdout",
     "output_type": "stream",
     "text": [
      "\n",
      "#Database Configuration\n",
      "DATABASE_USER=user12\n",
      "DATABASE_PASSWORD=pass12\n",
      "DATABASE_HOST=localhost\n",
      "DATABASE_PORT=5432\n",
      "DATABASE_NAME=mydatabase\n"
     ]
    }
   ],
   "source": [
    "!cat api.env"
   ]
  },
  {
   "cell_type": "code",
   "execution_count": 39,
   "id": "cec83022",
   "metadata": {},
   "outputs": [
    {
     "name": "stdout",
     "output_type": "stream",
     "text": [
      "/Users/apple/Downloads/My Files/My File/CRUD4/1019-pdf-app-fastapi-vercel-fullstack-master/001-pdf-fastapi-backend\n",
      "\u001b[32mINFO\u001b[0m:     Will watch for changes in these directories: ['/Users/apple/Downloads/My Files/My File/CRUD4/1019-pdf-app-fastapi-vercel-fullstack-master/001-pdf-fastapi-backend']\n",
      "\u001b[32mINFO\u001b[0m:     Uvicorn running on \u001b[1mhttp://127.0.0.1:8000\u001b[0m (Press CTRL+C to quit)\n",
      "\u001b[32mINFO\u001b[0m:     Started reloader process [\u001b[36m\u001b[1m7200\u001b[0m] using \u001b[36m\u001b[1mWatchFiles\u001b[0m\n",
      "✅ Using SQLite database for testing (overriding DATABASE_URL)\n",
      "\u001b[32mINFO\u001b[0m:     Started server process [\u001b[36m7202\u001b[0m]\n",
      "\u001b[32mINFO\u001b[0m:     Waiting for application startup.\n",
      "\u001b[32mINFO\u001b[0m:     Application startup complete.\n",
      "\u001b[32mINFO\u001b[0m:     127.0.0.1:50237 - \"\u001b[1mGET / HTTP/1.1\u001b[0m\" \u001b[32m200 OK\u001b[0m\n",
      "^C\n",
      "\u001b[32mINFO\u001b[0m:     Shutting down\n",
      "\u001b[32mINFO\u001b[0m:     Finished server process [\u001b[36m7202\u001b[0m]\n",
      "\u001b[32mINFO\u001b[0m:     Stopping reloader process [\u001b[36m\u001b[1m7200\u001b[0m]\n"
     ]
    }
   ],
   "source": [
    "# Start FastAPI server - SIMPLE VERSION\n",
    "%cd \"/Users/apple/Downloads/My Files/My File/CRUD4/1019-pdf-app-fastapi-vercel-fullstack-master/001-pdf-fastapi-backend\"\n",
    "!python -m uvicorn main:app --reload --port 8000"
   ]
  },
  {
   "cell_type": "code",
   "execution_count": 40,
   "metadata": {},
   "outputs": [
    {
     "name": "stdout",
     "output_type": "stream",
     "text": [
      "curl: (7) Failed to connect to 127.0.0.1 port 8000 after 0 ms: Could not connect to server\n",
      "Server not running - start the server cell first\n"
     ]
    }
   ],
   "source": [
    "# Test server connection (run this after starting the server)\n",
    "!curl http://127.0.0.1:8000/ || echo \"Server not running - start the server cell first\"\n"
   ]
  },
  {
   "cell_type": "code",
   "execution_count": 41,
   "id": "891ec5a3",
   "metadata": {},
   "outputs": [
    {
     "name": "stdout",
     "output_type": "stream",
     "text": [
      "Uvicorn started with PID 8107 at http://127.0.0.1:8000\n"
     ]
    },
    {
     "name": "stderr",
     "output_type": "stream",
     "text": [
      "INFO:     Started server process [8107]\n",
      "INFO:     Waiting for application startup.\n",
      "INFO:     Application startup complete.\n",
      "INFO:     Uvicorn running on http://127.0.0.1:8000 (Press CTRL+C to quit)\n"
     ]
    }
   ],
   "source": [
    "# Start FastAPI server in background using venv uvicorn (no reloader)\n",
    "import subprocess, time\n",
    "backend_dir = \"/Users/apple/Downloads/My Files/My File/CRUD4/1019-pdf-app-fastapi-vercel-fullstack-master/001-pdf-fastapi-backend\"\n",
    "venv_uvicorn = f\"{backend_dir}/.venv/bin/uvicorn\"\n",
    "# Attempt to start only if not already listening\n",
    "try:\n",
    "    subprocess.run([\"curl\", \"-s\", \"http://127.0.0.1:8000/\"], check=True, capture_output=True)\n",
    "    print(\"Server already running\")\n",
    "except subprocess.CalledProcessError:\n",
    "    p = subprocess.Popen([venv_uvicorn, \"main:app\", \"--host\", \"127.0.0.1\", \"--port\", \"8000\", \"--no-access-log\"], cwd=backend_dir)\n",
    "    time.sleep(1)\n",
    "    print(f\"Uvicorn started with PID {p.pid} at http://127.0.0.1:8000\")\n"
   ]
  },
  {
   "cell_type": "code",
   "execution_count": 42,
   "metadata": {},
   "outputs": [
    {
     "name": "stdout",
     "output_type": "stream",
     "text": [
      "\"Hello Todo World - Your CRUD API is ready!\""
     ]
    },
    {
     "name": "stdout",
     "output_type": "stream",
     "text": [
      "HTTPException(status_code=404, detail='Not Found')\n"
     ]
    },
    {
     "name": "stderr",
     "output_type": "stream",
     "text": [
      "INFO:     Shutting down\n",
      "INFO:     Waiting for application shutdown.\n",
      "INFO:     Application shutdown complete.\n",
      "INFO:     Finished server process [8107]\n"
     ]
    }
   ],
   "source": [
    "# Backend health check\n",
    "!curl -s http://127.0.0.1:8000/ || echo \"Server not running\""
   ]
  },
  {
   "cell_type": "code",
   "execution_count": null,
   "id": "acaa3ca8",
   "metadata": {},
   "outputs": [
    {
     "name": "stdout",
     "output_type": "stream",
     "text": [
      "🚀 FastAPI server started with PID 7591\n",
      "📍 Server running at: http://127.0.0.1:8000\n",
      "📚 API docs available at: http://127.0.0.1:8000/docs\n",
      "❌ Server health check failed\n"
     ]
    },
    {
     "name": "stdout",
     "output_type": "stream",
     "text": [
      "✅ Using SQLite database for testing (overriding DATABASE_URL)\n"
     ]
    },
    {
     "name": "stderr",
     "output_type": "stream",
     "text": [
      "INFO:     Started server process [7591]\n",
      "INFO:     Waiting for application startup.\n",
      "INFO:     Application startup complete.\n",
      "INFO:     Uvicorn running on http://127.0.0.1:8000 (Press CTRL+C to quit)\n",
      "INFO:     Shutting down\n",
      "INFO:     Waiting for application shutdown.\n",
      "INFO:     Application shutdown complete.\n",
      "INFO:     Finished server process [7591]\n"
     ]
    }
   ],
   "source": [
    "# Start FastAPI server in background using venv uvicorn\n",
    "import subprocess, time\n",
    "backend_dir = \"/Users/apple/Downloads/My Files/My File/CRUD4/1019-pdf-app-fastapi-vercel-fullstack-master/001-pdf-fastapi-backend\"\n",
    "venv_uvicorn = f\"{backend_dir}/.venv/bin/uvicorn\"\n",
    "\n",
    "# Check if server is already running\n",
    "try:\n",
    "    subprocess.run([\"curl\", \"-s\", \"http://127.0.0.1:8000/\"], check=True, capture_output=True)\n",
    "    print(\"✅ Server already running at http://127.0.0.1:8000\")\n",
    "except subprocess.CalledProcessError:\n",
    "    # Start the server\n",
    "    p = subprocess.Popen([venv_uvicorn, \"main:app\", \"--host\", \"127.0.0.1\", \"--port\", \"8000\", \"--no-access-log\"], cwd=backend_dir)\n",
    "    time.sleep(2)\n",
    "    print(f\"🚀 FastAPI server started with PID {p.pid}\")\n",
    "    print(\"📍 Server running at: http://127.0.0.1:8000\")\n",
    "    print(\"📚 API docs available at: http://127.0.0.1:8000/docs\")\n",
    "    \n",
    "    # Test the connection\n",
    "    try:\n",
    "        response = subprocess.run([\"curl\", \"-s\", \"http://127.0.0.1:8000/\"], check=True, capture_output=True, text=True)\n",
    "        print(f\"✅ Server health check: {response.stdout.strip()}\")\n",
    "    except subprocess.CalledProcessError:\n",
    "        print(\"❌ Server health check failed\")\n"
   ]
  },
  {
   "cell_type": "code",
   "execution_count": null,
   "id": "97c5404b",
   "metadata": {},
   "outputs": [],
   "source": []
  }
 ],
 "metadata": {
  "kernelspec": {
   "display_name": "base",
   "language": "python",
   "name": "python3"
  },
  "language_info": {
   "codemirror_mode": {
    "name": "ipython",
    "version": 3
   },
   "file_extension": ".py",
   "mimetype": "text/x-python",
   "name": "python",
   "nbconvert_exporter": "python",
   "pygments_lexer": "ipython3",
   "version": "3.13.5"
  }
 },
 "nbformat": 4,
 "nbformat_minor": 5
}
